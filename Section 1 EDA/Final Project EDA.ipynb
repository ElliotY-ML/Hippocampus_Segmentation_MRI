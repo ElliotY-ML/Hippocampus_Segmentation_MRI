{
 "cells": [
  {
   "cell_type": "markdown",
   "metadata": {},
   "source": [
    "# Preparing the dataset for hippocampus segmentation\n",
    "\n",
    "In this notebook you will use the skills and methods that we have talked about during our EDA Lesson to prepare the hippocampus dataset using Python. Follow the Notebook, writing snippets of code where directed so using Task comments, similar to the one below, which expects you to put the proper imports in place. Write your code directly in the cell with TASK comment. Feel free to add cells as you see fit, but please make sure that code that performs that tasked activity sits in the same cell as the Task comment.\n"
   ]
  },
  {
   "cell_type": "code",
   "execution_count": 1,
   "metadata": {},
   "outputs": [],
   "source": [
    "# TASK: Import the following libraries that we will use: nibabel, matplotlib, numpy\n",
    "\n",
    "import matplotlib.pyplot as plt\n",
    "import nibabel as nib\n",
    "import numpy as np\n",
    "import os\n",
    "from PIL import Image\n",
    "import glob\n",
    "import shutil\n"
   ]
  },
  {
   "cell_type": "markdown",
   "metadata": {},
   "source": [
    "It will help your understanding of the data a lot if you were able to use a tool that allows you to view NIFTI volumes, like [3D Slicer](https://www.slicer.org/). I will refer to Slicer throughout this Notebook and will be pasting some images showing what your output might look like."
   ]
  },
  {
   "cell_type": "markdown",
   "metadata": {},
   "source": [
    "## Loading NIFTI images using NiBabel\n",
    "\n",
    "NiBabel is a python library for working with neuro-imaging formats (including NIFTI) that we have used in some of the exercises throughout the course. Our volumes and labels are in NIFTI format, so we will use nibabel to load and inspect them.\n",
    "\n",
    "NiBabel documentation could be found here: https://nipy.org/nibabel/\n",
    "\n",
    "Our dataset sits in two directories - *images* and *labels*. Each image is represented by a single file (we are fortunate to have our data converted to NIFTI) and has a corresponding label file which is named the same as the image file.\n",
    "\n",
    "Note that our dataset is \"dirty\". There are a few images and labels that are not quite right. They should be quite obvious to notice, though. The dataset contains an equal amount of \"correct\" volumes and corresponding labels, and you don't need to alter values of any samples in order to get the clean dataset."
   ]
  },
  {
   "cell_type": "code",
   "execution_count": 226,
   "metadata": {},
   "outputs": [
    {
     "data": {
      "text/plain": [
       "['hippocampus_001.nii.gz',\n",
       " 'hippocampus_003.nii.gz',\n",
       " 'hippocampus_004.nii.gz',\n",
       " 'hippocampus_006.nii.gz',\n",
       " 'hippocampus_007.nii.gz',\n",
       " 'hippocampus_008.nii.gz',\n",
       " 'hippocampus_010.nii.gz',\n",
       " 'hippocampus_011.nii.gz',\n",
       " 'hippocampus_014.nii.gz',\n",
       " 'hippocampus_015.nii.gz',\n",
       " 'hippocampus_017.nii.gz',\n",
       " 'hippocampus_019.nii.gz',\n",
       " 'hippocampus_020.nii.gz',\n",
       " 'hippocampus_023.nii.gz',\n",
       " 'hippocampus_024.nii.gz',\n",
       " 'hippocampus_025.nii.gz',\n",
       " 'hippocampus_026.nii.gz',\n",
       " 'hippocampus_033.nii.gz',\n",
       " 'hippocampus_034.nii.gz',\n",
       " 'hippocampus_035.nii.gz',\n",
       " 'hippocampus_036.nii.gz',\n",
       " 'hippocampus_037.nii.gz',\n",
       " 'hippocampus_038.nii.gz',\n",
       " 'hippocampus_039.nii.gz',\n",
       " 'hippocampus_040.nii.gz',\n",
       " 'hippocampus_041.nii.gz',\n",
       " 'hippocampus_042.nii.gz',\n",
       " 'hippocampus_044.nii.gz',\n",
       " 'hippocampus_045.nii.gz',\n",
       " 'hippocampus_046.nii.gz',\n",
       " 'hippocampus_048.nii.gz',\n",
       " 'hippocampus_049.nii.gz',\n",
       " 'hippocampus_050.nii.gz',\n",
       " 'hippocampus_051.nii.gz',\n",
       " 'hippocampus_052.nii.gz',\n",
       " 'hippocampus_053.nii.gz',\n",
       " 'hippocampus_056.nii.gz',\n",
       " 'hippocampus_057.nii.gz',\n",
       " 'hippocampus_058.nii.gz',\n",
       " 'hippocampus_060.nii.gz',\n",
       " 'hippocampus_064.nii.gz',\n",
       " 'hippocampus_065.nii.gz',\n",
       " 'hippocampus_067.nii.gz',\n",
       " 'hippocampus_068.nii.gz',\n",
       " 'hippocampus_070.nii.gz',\n",
       " 'hippocampus_074.nii.gz',\n",
       " 'hippocampus_075.nii.gz',\n",
       " 'hippocampus_077.nii.gz',\n",
       " 'hippocampus_083.nii.gz',\n",
       " 'hippocampus_084.nii.gz',\n",
       " 'hippocampus_087.nii.gz',\n",
       " 'hippocampus_088.nii.gz',\n",
       " 'hippocampus_089.nii.gz',\n",
       " 'hippocampus_090.nii.gz',\n",
       " 'hippocampus_091.nii.gz',\n",
       " 'hippocampus_092.nii.gz',\n",
       " 'hippocampus_093.nii.gz',\n",
       " 'hippocampus_094.nii.gz',\n",
       " 'hippocampus_095.nii.gz',\n",
       " 'hippocampus_096.nii.gz',\n",
       " 'hippocampus_097.nii.gz',\n",
       " 'hippocampus_098.nii.gz',\n",
       " 'hippocampus_099.nii.gz',\n",
       " 'hippocampus_101.nii.gz',\n",
       " 'hippocampus_102.nii.gz',\n",
       " 'hippocampus_104.nii.gz',\n",
       " 'hippocampus_105.nii.gz',\n",
       " 'hippocampus_106.nii.gz',\n",
       " 'hippocampus_107.nii.gz',\n",
       " 'hippocampus_108.nii.gz',\n",
       " 'hippocampus_109.nii.gz',\n",
       " 'hippocampus_114.nii.gz',\n",
       " 'hippocampus_123.nii.gz',\n",
       " 'hippocampus_124.nii.gz',\n",
       " 'hippocampus_125.nii.gz',\n",
       " 'hippocampus_126.nii.gz',\n",
       " 'hippocampus_127.nii.gz',\n",
       " 'hippocampus_130.nii.gz',\n",
       " 'hippocampus_132.nii.gz',\n",
       " 'hippocampus_133.nii.gz',\n",
       " 'hippocampus_135.nii.gz',\n",
       " 'hippocampus_136.nii.gz',\n",
       " 'hippocampus_138.nii.gz',\n",
       " 'hippocampus_141.nii.gz',\n",
       " 'hippocampus_142.nii.gz',\n",
       " 'hippocampus_143.nii.gz',\n",
       " 'hippocampus_144.nii.gz',\n",
       " 'hippocampus_145.nii.gz',\n",
       " 'hippocampus_146.nii.gz',\n",
       " 'hippocampus_148.nii.gz',\n",
       " 'hippocampus_149.nii.gz',\n",
       " 'hippocampus_150.nii.gz',\n",
       " 'hippocampus_152.nii.gz',\n",
       " 'hippocampus_154.nii.gz',\n",
       " 'hippocampus_155.nii.gz',\n",
       " 'hippocampus_156.nii.gz',\n",
       " 'hippocampus_157.nii.gz',\n",
       " 'hippocampus_158.nii.gz',\n",
       " 'hippocampus_160.nii.gz',\n",
       " 'hippocampus_161.nii.gz',\n",
       " 'hippocampus_162.nii.gz',\n",
       " 'hippocampus_163.nii.gz',\n",
       " 'hippocampus_164.nii.gz',\n",
       " 'hippocampus_165.nii.gz',\n",
       " 'hippocampus_166.nii.gz',\n",
       " 'hippocampus_169.nii.gz',\n",
       " 'hippocampus_170.nii.gz',\n",
       " 'hippocampus_171.nii.gz',\n",
       " 'hippocampus_172.nii.gz',\n",
       " 'hippocampus_173.nii.gz',\n",
       " 'hippocampus_174.nii.gz',\n",
       " 'hippocampus_175.nii.gz',\n",
       " 'hippocampus_176.nii.gz',\n",
       " 'hippocampus_177.nii.gz',\n",
       " 'hippocampus_178.nii.gz',\n",
       " 'hippocampus_180.nii.gz',\n",
       " 'hippocampus_181.nii.gz',\n",
       " 'hippocampus_184.nii.gz',\n",
       " 'hippocampus_185.nii.gz',\n",
       " 'hippocampus_188.nii.gz',\n",
       " 'hippocampus_189.nii.gz',\n",
       " 'hippocampus_190.nii.gz',\n",
       " 'hippocampus_193.nii.gz',\n",
       " 'hippocampus_194.nii.gz',\n",
       " 'hippocampus_195.nii.gz',\n",
       " 'hippocampus_197.nii.gz',\n",
       " 'hippocampus_199.nii.gz',\n",
       " 'hippocampus_203.nii.gz',\n",
       " 'hippocampus_204.nii.gz',\n",
       " 'hippocampus_205.nii.gz',\n",
       " 'hippocampus_207.nii.gz',\n",
       " 'hippocampus_210.nii.gz',\n",
       " 'hippocampus_212.nii.gz',\n",
       " 'hippocampus_215.nii.gz',\n",
       " 'hippocampus_216.nii.gz',\n",
       " 'hippocampus_217.nii.gz',\n",
       " 'hippocampus_219.nii.gz',\n",
       " 'hippocampus_220.nii.gz',\n",
       " 'hippocampus_221.nii.gz',\n",
       " 'hippocampus_222.nii.gz',\n",
       " 'hippocampus_223.nii.gz',\n",
       " 'hippocampus_224.nii.gz',\n",
       " 'hippocampus_225.nii.gz',\n",
       " 'hippocampus_226.nii.gz',\n",
       " 'hippocampus_227.nii.gz',\n",
       " 'hippocampus_228.nii.gz',\n",
       " 'hippocampus_229.nii.gz',\n",
       " 'hippocampus_230.nii.gz',\n",
       " 'hippocampus_231.nii.gz',\n",
       " 'hippocampus_232.nii.gz',\n",
       " 'hippocampus_233.nii.gz',\n",
       " 'hippocampus_234.nii.gz',\n",
       " 'hippocampus_235.nii.gz',\n",
       " 'hippocampus_236.nii.gz',\n",
       " 'hippocampus_238.nii.gz',\n",
       " 'hippocampus_242.nii.gz',\n",
       " 'hippocampus_243.nii.gz',\n",
       " 'hippocampus_244.nii.gz',\n",
       " 'hippocampus_245.nii.gz',\n",
       " 'hippocampus_248.nii.gz',\n",
       " 'hippocampus_249.nii.gz',\n",
       " 'hippocampus_250.nii.gz',\n",
       " 'hippocampus_251.nii.gz',\n",
       " 'hippocampus_252.nii.gz',\n",
       " 'hippocampus_253.nii.gz',\n",
       " 'hippocampus_257.nii.gz',\n",
       " 'hippocampus_259.nii.gz',\n",
       " 'hippocampus_260.nii.gz',\n",
       " 'hippocampus_261.nii.gz',\n",
       " 'hippocampus_263.nii.gz',\n",
       " 'hippocampus_264.nii.gz',\n",
       " 'hippocampus_265.nii.gz',\n",
       " 'hippocampus_268.nii.gz',\n",
       " 'hippocampus_269.nii.gz',\n",
       " 'hippocampus_274.nii.gz',\n",
       " 'hippocampus_276.nii.gz',\n",
       " 'hippocampus_277.nii.gz',\n",
       " 'hippocampus_279.nii.gz',\n",
       " 'hippocampus_280.nii.gz',\n",
       " 'hippocampus_281.nii.gz',\n",
       " 'hippocampus_282.nii.gz',\n",
       " 'hippocampus_286.nii.gz',\n",
       " 'hippocampus_287.nii.gz',\n",
       " 'hippocampus_288.nii.gz',\n",
       " 'hippocampus_289.nii.gz',\n",
       " 'hippocampus_290.nii.gz',\n",
       " 'hippocampus_292.nii.gz',\n",
       " 'hippocampus_294.nii.gz',\n",
       " 'hippocampus_295.nii.gz',\n",
       " 'hippocampus_296.nii.gz',\n",
       " 'hippocampus_297.nii.gz',\n",
       " 'hippocampus_298.nii.gz',\n",
       " 'hippocampus_299.nii.gz',\n",
       " 'hippocampus_300.nii.gz',\n",
       " 'hippocampus_301.nii.gz',\n",
       " 'hippocampus_302.nii.gz',\n",
       " 'hippocampus_303.nii.gz',\n",
       " 'hippocampus_304.nii.gz',\n",
       " 'hippocampus_305.nii.gz',\n",
       " 'hippocampus_308.nii.gz',\n",
       " 'hippocampus_309.nii.gz',\n",
       " 'hippocampus_310.nii.gz',\n",
       " 'hippocampus_311.nii.gz',\n",
       " 'hippocampus_314.nii.gz',\n",
       " 'hippocampus_316.nii.gz',\n",
       " 'hippocampus_317.nii.gz',\n",
       " 'hippocampus_318.nii.gz',\n",
       " 'hippocampus_319.nii.gz',\n",
       " 'hippocampus_320.nii.gz',\n",
       " 'hippocampus_321.nii.gz',\n",
       " 'hippocampus_322.nii.gz',\n",
       " 'hippocampus_325.nii.gz',\n",
       " 'hippocampus_326.nii.gz',\n",
       " 'hippocampus_327.nii.gz',\n",
       " 'hippocampus_328.nii.gz',\n",
       " 'hippocampus_329.nii.gz',\n",
       " 'hippocampus_330.nii.gz',\n",
       " 'hippocampus_331.nii.gz',\n",
       " 'hippocampus_332.nii.gz',\n",
       " 'hippocampus_333.nii.gz',\n",
       " 'hippocampus_334.nii.gz',\n",
       " 'hippocampus_335.nii.gz',\n",
       " 'hippocampus_336.nii.gz',\n",
       " 'hippocampus_337.nii.gz',\n",
       " 'hippocampus_338.nii.gz',\n",
       " 'hippocampus_340.nii.gz',\n",
       " 'hippocampus_341.nii.gz',\n",
       " 'hippocampus_343.nii.gz',\n",
       " 'hippocampus_345.nii.gz',\n",
       " 'hippocampus_349.nii.gz',\n",
       " 'hippocampus_350.nii.gz',\n",
       " 'hippocampus_351.nii.gz',\n",
       " 'hippocampus_352.nii.gz',\n",
       " 'hippocampus_353.nii.gz',\n",
       " 'hippocampus_354.nii.gz',\n",
       " 'hippocampus_355.nii.gz',\n",
       " 'hippocampus_356.nii.gz',\n",
       " 'hippocampus_358.nii.gz',\n",
       " 'hippocampus_359.nii.gz',\n",
       " 'hippocampus_360.nii.gz',\n",
       " 'hippocampus_361.nii.gz',\n",
       " 'hippocampus_363.nii.gz',\n",
       " 'hippocampus_366.nii.gz',\n",
       " 'hippocampus_367.nii.gz',\n",
       " 'hippocampus_368.nii.gz',\n",
       " 'hippocampus_370.nii.gz',\n",
       " 'hippocampus_372.nii.gz',\n",
       " 'hippocampus_373.nii.gz',\n",
       " 'hippocampus_374.nii.gz',\n",
       " 'hippocampus_375.nii.gz',\n",
       " 'hippocampus_376.nii.gz',\n",
       " 'hippocampus_378.nii.gz',\n",
       " 'hippocampus_380.nii.gz',\n",
       " 'hippocampus_381.nii.gz',\n",
       " 'hippocampus_383.nii.gz',\n",
       " 'hippocampus_385.nii.gz',\n",
       " 'hippocampus_386.nii.gz',\n",
       " 'hippocampus_387.nii.gz',\n",
       " 'hippocampus_389.nii.gz',\n",
       " 'hippocampus_390.nii.gz',\n",
       " 'hippocampus_393.nii.gz',\n",
       " 'hippocampus_394.nii.gz']"
      ]
     },
     "execution_count": 226,
     "metadata": {},
     "output_type": "execute_result"
    }
   ],
   "source": [
    "path = os.path.join('..', 'data', 'TrainingSet')\n",
    "os.listdir(os.path.join(path, 'labels'))"
   ]
  },
  {
   "cell_type": "code",
   "execution_count": 228,
   "metadata": {},
   "outputs": [
    {
     "data": {
      "text/plain": [
       "['hippocampus_001.nii.gz',\n",
       " 'hippocampus_003.nii.gz',\n",
       " 'hippocampus_004.nii.gz',\n",
       " 'hippocampus_006.nii.gz',\n",
       " 'hippocampus_007.nii.gz',\n",
       " 'hippocampus_008.nii.gz',\n",
       " 'hippocampus_010.nii.gz',\n",
       " 'hippocampus_011.nii.gz',\n",
       " 'hippocampus_014.nii.gz',\n",
       " 'hippocampus_015.nii.gz',\n",
       " 'hippocampus_017.nii.gz',\n",
       " 'hippocampus_019.nii.gz',\n",
       " 'hippocampus_020.nii.gz',\n",
       " 'hippocampus_023.nii.gz',\n",
       " 'hippocampus_024.nii.gz',\n",
       " 'hippocampus_025.nii.gz',\n",
       " 'hippocampus_026.nii.gz',\n",
       " 'hippocampus_033.nii.gz',\n",
       " 'hippocampus_034.nii.gz',\n",
       " 'hippocampus_035.nii.gz',\n",
       " 'hippocampus_036.nii.gz',\n",
       " 'hippocampus_037.nii.gz',\n",
       " 'hippocampus_038.nii.gz',\n",
       " 'hippocampus_039.nii.gz',\n",
       " 'hippocampus_040.nii.gz',\n",
       " 'hippocampus_041.nii.gz',\n",
       " 'hippocampus_042.nii.gz',\n",
       " 'hippocampus_044.nii.gz',\n",
       " 'hippocampus_045.nii.gz',\n",
       " 'hippocampus_046.nii.gz',\n",
       " 'hippocampus_048.nii.gz',\n",
       " 'hippocampus_049.nii.gz',\n",
       " 'hippocampus_050.nii.gz',\n",
       " 'hippocampus_051.nii.gz',\n",
       " 'hippocampus_052.nii.gz',\n",
       " 'hippocampus_053.nii.gz',\n",
       " 'hippocampus_056.nii.gz',\n",
       " 'hippocampus_057.nii.gz',\n",
       " 'hippocampus_058.nii.gz',\n",
       " 'hippocampus_060.nii.gz',\n",
       " 'hippocampus_064.nii.gz',\n",
       " 'hippocampus_065.nii.gz',\n",
       " 'hippocampus_067.nii.gz',\n",
       " 'hippocampus_068.nii.gz',\n",
       " 'hippocampus_070.nii.gz',\n",
       " 'hippocampus_074.nii.gz',\n",
       " 'hippocampus_075.nii.gz',\n",
       " 'hippocampus_077.nii.gz',\n",
       " 'hippocampus_083.nii.gz',\n",
       " 'hippocampus_084.nii.gz',\n",
       " 'hippocampus_087.nii.gz',\n",
       " 'hippocampus_088.nii.gz',\n",
       " 'hippocampus_089.nii.gz',\n",
       " 'hippocampus_090.nii.gz',\n",
       " 'hippocampus_091.nii.gz',\n",
       " 'hippocampus_092.nii.gz',\n",
       " 'hippocampus_093.nii.gz',\n",
       " 'hippocampus_094.nii.gz',\n",
       " 'hippocampus_095.nii.gz',\n",
       " 'hippocampus_096.nii.gz',\n",
       " 'hippocampus_097.nii.gz',\n",
       " 'hippocampus_098.nii.gz',\n",
       " 'hippocampus_099.nii.gz',\n",
       " 'hippocampus_101.nii.gz',\n",
       " 'hippocampus_102.nii.gz',\n",
       " 'hippocampus_104.nii.gz',\n",
       " 'hippocampus_105.nii.gz',\n",
       " 'hippocampus_106.nii.gz',\n",
       " 'hippocampus_107.nii.gz',\n",
       " 'hippocampus_108.nii.gz',\n",
       " 'hippocampus_109.nii.gz',\n",
       " 'hippocampus_114.nii.gz',\n",
       " 'hippocampus_118.nii.gz',\n",
       " 'hippocampus_123.nii.gz',\n",
       " 'hippocampus_124.nii.gz',\n",
       " 'hippocampus_125.nii.gz',\n",
       " 'hippocampus_126.nii.gz',\n",
       " 'hippocampus_127.nii.gz',\n",
       " 'hippocampus_130.nii.gz',\n",
       " 'hippocampus_132.nii.gz',\n",
       " 'hippocampus_133.nii.gz',\n",
       " 'hippocampus_135.nii.gz',\n",
       " 'hippocampus_136.nii.gz',\n",
       " 'hippocampus_138.nii.gz',\n",
       " 'hippocampus_141.nii.gz',\n",
       " 'hippocampus_142.nii.gz',\n",
       " 'hippocampus_143.nii.gz',\n",
       " 'hippocampus_144.nii.gz',\n",
       " 'hippocampus_145.nii.gz',\n",
       " 'hippocampus_146.nii.gz',\n",
       " 'hippocampus_148.nii.gz',\n",
       " 'hippocampus_149.nii.gz',\n",
       " 'hippocampus_150.nii.gz',\n",
       " 'hippocampus_152.nii.gz',\n",
       " 'hippocampus_154.nii.gz',\n",
       " 'hippocampus_155.nii.gz',\n",
       " 'hippocampus_156.nii.gz',\n",
       " 'hippocampus_157.nii.gz',\n",
       " 'hippocampus_158.nii.gz',\n",
       " 'hippocampus_160.nii.gz',\n",
       " 'hippocampus_161.nii.gz',\n",
       " 'hippocampus_162.nii.gz',\n",
       " 'hippocampus_163.nii.gz',\n",
       " 'hippocampus_164.nii.gz',\n",
       " 'hippocampus_165.nii.gz',\n",
       " 'hippocampus_166.nii.gz',\n",
       " 'hippocampus_169.nii.gz',\n",
       " 'hippocampus_170.nii.gz',\n",
       " 'hippocampus_171.nii.gz',\n",
       " 'hippocampus_172.nii.gz',\n",
       " 'hippocampus_173.nii.gz',\n",
       " 'hippocampus_174.nii.gz',\n",
       " 'hippocampus_175.nii.gz',\n",
       " 'hippocampus_176.nii.gz',\n",
       " 'hippocampus_177.nii.gz',\n",
       " 'hippocampus_178.nii.gz',\n",
       " 'hippocampus_180.nii.gz',\n",
       " 'hippocampus_181.nii.gz',\n",
       " 'hippocampus_184.nii.gz',\n",
       " 'hippocampus_185.nii.gz',\n",
       " 'hippocampus_188.nii.gz',\n",
       " 'hippocampus_189.nii.gz',\n",
       " 'hippocampus_190.nii.gz',\n",
       " 'hippocampus_193.nii.gz',\n",
       " 'hippocampus_194.nii.gz',\n",
       " 'hippocampus_195.nii.gz',\n",
       " 'hippocampus_197.nii.gz',\n",
       " 'hippocampus_199.nii.gz',\n",
       " 'hippocampus_203.nii.gz',\n",
       " 'hippocampus_204.nii.gz',\n",
       " 'hippocampus_205.nii.gz',\n",
       " 'hippocampus_207.nii.gz',\n",
       " 'hippocampus_210.nii.gz',\n",
       " 'hippocampus_212.nii.gz',\n",
       " 'hippocampus_215.nii.gz',\n",
       " 'hippocampus_216.nii.gz',\n",
       " 'hippocampus_217.nii.gz',\n",
       " 'hippocampus_219.nii.gz',\n",
       " 'hippocampus_220.nii.gz',\n",
       " 'hippocampus_221.nii.gz',\n",
       " 'hippocampus_222.nii.gz',\n",
       " 'hippocampus_223.nii.gz',\n",
       " 'hippocampus_224.nii.gz',\n",
       " 'hippocampus_225.nii.gz',\n",
       " 'hippocampus_226.nii.gz',\n",
       " 'hippocampus_227.nii.gz',\n",
       " 'hippocampus_228.nii.gz',\n",
       " 'hippocampus_229.nii.gz',\n",
       " 'hippocampus_230.nii.gz',\n",
       " 'hippocampus_231.nii.gz',\n",
       " 'hippocampus_232.nii.gz',\n",
       " 'hippocampus_233.nii.gz',\n",
       " 'hippocampus_234.nii.gz',\n",
       " 'hippocampus_235.nii.gz',\n",
       " 'hippocampus_236.nii.gz',\n",
       " 'hippocampus_238.nii.gz',\n",
       " 'hippocampus_242.nii.gz',\n",
       " 'hippocampus_243.nii.gz',\n",
       " 'hippocampus_244.nii.gz',\n",
       " 'hippocampus_245.nii.gz',\n",
       " 'hippocampus_248.nii.gz',\n",
       " 'hippocampus_249.nii.gz',\n",
       " 'hippocampus_250.nii.gz',\n",
       " 'hippocampus_251.nii.gz',\n",
       " 'hippocampus_252.nii.gz',\n",
       " 'hippocampus_253.nii.gz',\n",
       " 'hippocampus_257.nii.gz',\n",
       " 'hippocampus_259.nii.gz',\n",
       " 'hippocampus_260.nii.gz',\n",
       " 'hippocampus_261.nii.gz',\n",
       " 'hippocampus_263.nii.gz',\n",
       " 'hippocampus_264.nii.gz',\n",
       " 'hippocampus_265.nii.gz',\n",
       " 'hippocampus_268.nii.gz',\n",
       " 'hippocampus_269.nii.gz',\n",
       " 'hippocampus_274.nii.gz',\n",
       " 'hippocampus_276.nii.gz',\n",
       " 'hippocampus_277.nii.gz',\n",
       " 'hippocampus_279.nii.gz',\n",
       " 'hippocampus_280.nii.gz',\n",
       " 'hippocampus_281.nii.gz',\n",
       " 'hippocampus_282.nii.gz',\n",
       " 'hippocampus_286.nii.gz',\n",
       " 'hippocampus_287.nii.gz',\n",
       " 'hippocampus_288.nii.gz',\n",
       " 'hippocampus_289.nii.gz',\n",
       " 'hippocampus_290.nii.gz',\n",
       " 'hippocampus_292.nii.gz',\n",
       " 'hippocampus_294.nii.gz',\n",
       " 'hippocampus_295.nii.gz',\n",
       " 'hippocampus_296.nii.gz',\n",
       " 'hippocampus_297.nii.gz',\n",
       " 'hippocampus_298.nii.gz',\n",
       " 'hippocampus_299.nii.gz',\n",
       " 'hippocampus_300.nii.gz',\n",
       " 'hippocampus_301.nii.gz',\n",
       " 'hippocampus_302.nii.gz',\n",
       " 'hippocampus_303.nii.gz',\n",
       " 'hippocampus_304.nii.gz',\n",
       " 'hippocampus_305.nii.gz',\n",
       " 'hippocampus_308.nii.gz',\n",
       " 'hippocampus_309.nii.gz',\n",
       " 'hippocampus_310.nii.gz',\n",
       " 'hippocampus_311.nii.gz',\n",
       " 'hippocampus_314.nii.gz',\n",
       " 'hippocampus_316.nii.gz',\n",
       " 'hippocampus_317.nii.gz',\n",
       " 'hippocampus_318.nii.gz',\n",
       " 'hippocampus_319.nii.gz',\n",
       " 'hippocampus_320.nii.gz',\n",
       " 'hippocampus_321.nii.gz',\n",
       " 'hippocampus_322.nii.gz',\n",
       " 'hippocampus_325.nii.gz',\n",
       " 'hippocampus_326.nii.gz',\n",
       " 'hippocampus_327.nii.gz',\n",
       " 'hippocampus_328.nii.gz',\n",
       " 'hippocampus_329.nii.gz',\n",
       " 'hippocampus_330.nii.gz',\n",
       " 'hippocampus_331.nii.gz',\n",
       " 'hippocampus_332.nii.gz',\n",
       " 'hippocampus_333.nii.gz',\n",
       " 'hippocampus_334.nii.gz',\n",
       " 'hippocampus_335.nii.gz',\n",
       " 'hippocampus_336.nii.gz',\n",
       " 'hippocampus_337.nii.gz',\n",
       " 'hippocampus_338.nii.gz',\n",
       " 'hippocampus_340.nii.gz',\n",
       " 'hippocampus_341.nii.gz',\n",
       " 'hippocampus_343.nii.gz',\n",
       " 'hippocampus_345.nii.gz',\n",
       " 'hippocampus_349.nii.gz',\n",
       " 'hippocampus_350.nii.gz',\n",
       " 'hippocampus_351.nii.gz',\n",
       " 'hippocampus_352.nii.gz',\n",
       " 'hippocampus_353.nii.gz',\n",
       " 'hippocampus_354.nii.gz',\n",
       " 'hippocampus_355.nii.gz',\n",
       " 'hippocampus_356.nii.gz',\n",
       " 'hippocampus_358.nii.gz',\n",
       " 'hippocampus_359.nii.gz',\n",
       " 'hippocampus_360.nii.gz',\n",
       " 'hippocampus_361.nii.gz',\n",
       " 'hippocampus_363.nii.gz',\n",
       " 'hippocampus_366.nii.gz',\n",
       " 'hippocampus_367.nii.gz',\n",
       " 'hippocampus_368.nii.gz',\n",
       " 'hippocampus_370.nii.gz',\n",
       " 'hippocampus_372.nii.gz',\n",
       " 'hippocampus_373.nii.gz',\n",
       " 'hippocampus_374.nii.gz',\n",
       " 'hippocampus_375.nii.gz',\n",
       " 'hippocampus_376.nii.gz',\n",
       " 'hippocampus_378.nii.gz',\n",
       " 'hippocampus_380.nii.gz',\n",
       " 'hippocampus_381.nii.gz',\n",
       " 'hippocampus_383.nii.gz',\n",
       " 'hippocampus_385.nii.gz',\n",
       " 'hippocampus_386.nii.gz',\n",
       " 'hippocampus_387.nii.gz',\n",
       " 'hippocampus_389.nii.gz',\n",
       " 'hippocampus_390.nii.gz',\n",
       " 'hippocampus_393.nii.gz',\n",
       " 'hippocampus_394.nii.gz']"
      ]
     },
     "execution_count": 228,
     "metadata": {},
     "output_type": "execute_result"
    }
   ],
   "source": [
    "os.listdir(os.path.join(path, 'images'))"
   ]
  },
  {
   "cell_type": "code",
   "execution_count": 231,
   "metadata": {},
   "outputs": [],
   "source": [
    "# TASK: Your data sits in directory /data/TrainingSet.\n",
    "# Load an image and a segmentation mask into variables called image and label\n",
    "\n",
    "img = nib.load(os.path.join(path, 'images', 'hippocampus_001.nii.gz'))\n",
    "label = nib.load(os.path.join(path, 'labels', 'hippocampus_001.nii.gz'))"
   ]
  },
  {
   "cell_type": "code",
   "execution_count": 232,
   "metadata": {},
   "outputs": [
    {
     "name": "stdout",
     "output_type": "stream",
     "text": [
      "img shape is (35, 51, 35)\n",
      "label shape is (35, 51, 35)\n"
     ]
    },
    {
     "data": {
      "image/png": "[encoded data removed]",
      "text/plain": [
       "<Figure size 1080x1080 with 5 Axes>"
      ]
     },
     "metadata": {
      "needs_background": "light"
     },
     "output_type": "display_data"
    },
    {
     "data": {
      "image/png": "[encoded data removed]",
      "text/plain": [
       "<Figure size 1080x1080 with 5 Axes>"
      ]
     },
     "metadata": {
      "needs_background": "light"
     },
     "output_type": "display_data"
    },
    {
     "data": {
      "image/png": "[encoded data removed]",
      "text/plain": [
       "<Figure size 1080x1080 with 5 Axes>"
      ]
     },
     "metadata": {
      "needs_background": "light"
     },
     "output_type": "display_data"
    },
    {
     "data": {
      "image/png": "[encoded data removed]",
      "text/plain": [
       "<Figure size 1080x1080 with 5 Axes>"
      ]
     },
     "metadata": {
      "needs_background": "light"
     },
     "output_type": "display_data"
    },
    {
     "data": {
      "image/png": "[encoded data removed]",
      "text/plain": [
       "<Figure size 1080x1080 with 5 Axes>"
      ]
     },
     "metadata": {
      "needs_background": "light"
     },
     "output_type": "display_data"
    },
    {
     "data": {
      "image/png": "[encoded data removed]",
      "text/plain": [
       "<Figure size 1080x1080 with 5 Axes>"
      ]
     },
     "metadata": {
      "needs_background": "light"
     },
     "output_type": "display_data"
    }
   ],
   "source": [
    "# Nibabel can present your image data as a Numpy array by calling the method get_fdata()\n",
    "# The array will contain a multi-dimensional Numpy array with numerical values representing voxel intensities. \n",
    "# In our case, images and labels are 3-dimensional, so get_fdata will return a 3-dimensional array. You can verify this\n",
    "# by accessing the .shape attribute. What are the dimensions of the input arrays?\n",
    "\n",
    "img_np = img.get_fdata()\n",
    "label_np = label.get_fdata()\n",
    "print(f'img shape is {img_np.shape}')\n",
    "print(f'label shape is {label_np.shape}')\n",
    "\n",
    "\n",
    "# TASK: using matplotlib, visualize a few slices from the dataset, along with their labels. \n",
    "# You can adjust plot sizes like so if you find them too small:\n",
    "plt.rcParams[\"figure.figsize\"] = (10,10)\n",
    "\n",
    "fig1, n_ax1 = plt.subplots(1,5,figsize=(15,15))\n",
    "n_ax1 = n_ax1.flatten()\n",
    "\n",
    "for i in range(5):\n",
    "    n_ax1[i].imshow(img_np[:,:,(i*7)])\n",
    "    n_ax1[i].set_title(f'img Axial slice {i*7}')\n",
    "    \n",
    "fig2, n_ax2 = plt.subplots(1,5,figsize=(15,15))\n",
    "n_ax2 = n_ax2.flatten()\n",
    "\n",
    "for i in range(5):\n",
    "    n_ax2[i].imshow(label_np[:,:,(i*7)])\n",
    "    n_ax2[i].set_title(f'label Axial slice {i*7}')\n",
    "    \n",
    "fig3, n_ax3 = plt.subplots(1,5,figsize=(15,15))\n",
    "n_ax3 = n_ax3.flatten()    \n",
    "for i in range(5):\n",
    "    n_ax3[i].imshow(img_np[:,i*10,:])\n",
    "    n_ax3[i].set_title(f'img Coronal slice {i*10}')\n",
    "    \n",
    "fig4, n_ax4 = plt.subplots(1,5,figsize=(15,15))\n",
    "n_ax4 = n_ax4.flatten()\n",
    "\n",
    "for i in range(5):\n",
    "    n_ax4[i].imshow(label_np[:,(i*10),:])\n",
    "    n_ax4[i].set_title(f'label Coronal slice {i*10}')\n",
    "    \n",
    "fig5, n_ax5 = plt.subplots(1,5,figsize=(15,15))\n",
    "n_ax5 = n_ax5.flatten()    \n",
    "for i in range(5):\n",
    "    n_ax5[i].imshow(img_np[(i*7),:,:])\n",
    "    n_ax5[i].set_title(f'img Sagital slice {i*7}')\n",
    "    \n",
    "fig6, n_ax6 = plt.subplots(1,5,figsize=(15,15))\n",
    "n_ax6 = n_ax6.flatten()\n",
    "\n",
    "for i in range(5):\n",
    "    n_ax6[i].imshow(label_np[(i*7),:,:])\n",
    "    n_ax6[i].set_title(f'label Sagital slice {i*7}')"
   ]
  },
  {
   "cell_type": "code",
   "execution_count": 233,
   "metadata": {},
   "outputs": [
    {
     "data": {
      "text/plain": [
       "<matplotlib.image.AxesImage at 0x218b3852548>"
      ]
     },
     "execution_count": 233,
     "metadata": {},
     "output_type": "execute_result"
    },
    {
     "data": {
      "image/png": "[encoded data removed]",
      "text/plain": [
       "<Figure size 720x720 with 1 Axes>"
      ]
     },
     "metadata": {
      "needs_background": "light"
     },
     "output_type": "display_data"
    }
   ],
   "source": [
    "plt.imshow(label_np[14,:,:])"
   ]
  },
  {
   "cell_type": "code",
   "execution_count": 234,
   "metadata": {},
   "outputs": [
    {
     "data": {
      "text/plain": [
       "<matplotlib.image.AxesImage at 0x218b5612c48>"
      ]
     },
     "execution_count": 234,
     "metadata": {},
     "output_type": "execute_result"
    },
    {
     "data": {
      "image/png": "[encoded data removed]",
      "text/plain": [
       "<Figure size 720x720 with 1 Axes>"
      ]
     },
     "metadata": {
      "needs_background": "light"
     },
     "output_type": "display_data"
    }
   ],
   "source": [
    "plt.imshow((img_np[:,:,14]+label_np[:,:,14]))"
   ]
  },
  {
   "cell_type": "markdown",
   "metadata": {},
   "source": [
    "Load volume into 3D Slicer to validate that your visualization is correct and get a feel for the shape of structures.Try to get a visualization like the one below (hint: while Slicer documentation is not particularly great, there are plenty of YouTube videos available! Just look it up on YouTube if you are not sure how to do something)\n",
    "\n",
    "![3D slicer](img/Slicer.png)"
   ]
  },
  {
   "cell_type": "code",
   "execution_count": null,
   "metadata": {},
   "outputs": [],
   "source": [
    "# Stand out suggestion: use one of the simple Volume Rendering algorithms that we've\n",
    "# implemented in one of our earlier lessons to visualize some of these volumes"
   ]
  },
  {
   "cell_type": "code",
   "execution_count": 235,
   "metadata": {},
   "outputs": [
    {
     "name": "stdout",
     "output_type": "stream",
     "text": [
      "<class 'nibabel.nifti1.Nifti1Header'> object, endian='<'\n",
      "sizeof_hdr      : 348\n",
      "data_type       : b''\n",
      "db_name         : b''\n",
      "extents         : 0\n",
      "session_error   : 0\n",
      "regular         : b'r'\n",
      "dim_info        : 0\n",
      "dim             : [ 3 36 50 31  1  1  1  1]\n",
      "intent_p1       : 0.0\n",
      "intent_p2       : 0.0\n",
      "intent_p3       : 0.0\n",
      "intent_code     : none\n",
      "datatype        : uint8\n",
      "bitpix          : 8\n",
      "slice_start     : 0\n",
      "pixdim          : [1. 1. 1. 1. 1. 0. 0. 0.]\n",
      "vox_offset      : 0.0\n",
      "scl_slope       : nan\n",
      "scl_inter       : nan\n",
      "slice_end       : 0\n",
      "slice_code      : unknown\n",
      "xyzt_units      : 10\n",
      "cal_max         : 0.0\n",
      "cal_min         : 0.0\n",
      "slice_duration  : 0.0\n",
      "toffset         : 0.0\n",
      "glmax           : 0\n",
      "glmin           : 0\n",
      "descrip         : b'5.0.10'\n",
      "aux_file        : b'none'\n",
      "qform_code      : scanner\n",
      "sform_code      : scanner\n",
      "quatern_b       : 0.0\n",
      "quatern_c       : 0.0\n",
      "quatern_d       : 0.0\n",
      "qoffset_x       : 1.0\n",
      "qoffset_y       : 1.0\n",
      "qoffset_z       : 1.0\n",
      "srow_x          : [1. 0. 0. 1.]\n",
      "srow_y          : [0. 1. 0. 1.]\n",
      "srow_z          : [0. 0. 1. 1.]\n",
      "intent_name     : b''\n",
      "magic           : b'n+1'\n"
     ]
    }
   ],
   "source": [
    "print(nib.load(os.path.join(path, 'labels', 'hippocampus_010.nii.gz')).header)"
   ]
  },
  {
   "cell_type": "markdown",
   "metadata": {},
   "source": [
    "## Looking at single image data\n",
    "In this section we will look closer at the NIFTI representation of our volumes. In order to measure the physical volume of hippocampi, we need to understand the relationship between the sizes of our voxels and the physical world."
   ]
  },
  {
   "cell_type": "code",
   "execution_count": 23,
   "metadata": {
    "scrolled": true
   },
   "outputs": [
    {
     "name": "stdout",
     "output_type": "stream",
     "text": [
      "Img format is <class 'nibabel.nifti1.Nifti1Header'>\n",
      "Label format is <class 'nibabel.nifti1.Nifti1Header'>\n"
     ]
    }
   ],
   "source": [
    "# Nibabel supports many imaging formats, NIFTI being just one of them. I told you that our images \n",
    "# are in NIFTI, but you should confirm if this is indeed the format that we are dealing with\n",
    "# TASK: using .header_class attribute - what is the format of our images?\n",
    "\n",
    "print(f'Img format is {img.header_class}')\n",
    "print(f'Label format is {label.header_class}')"
   ]
  },
  {
   "cell_type": "markdown",
   "metadata": {},
   "source": [
    "Further down we will be inspecting .header attribute that provides access to NIFTI metadata. You can use this resource as a reference for various fields: https://brainder.org/2012/09/23/the-nifti-file-format/"
   ]
  },
  {
   "cell_type": "code",
   "execution_count": 24,
   "metadata": {},
   "outputs": [
    {
     "name": "stdout",
     "output_type": "stream",
     "text": [
      "Img: <class 'nibabel.nifti1.Nifti1Header'> object, endian='<'\n",
      "sizeof_hdr      : 348\n",
      "data_type       : b''\n",
      "db_name         : b''\n",
      "extents         : 0\n",
      "session_error   : 0\n",
      "regular         : b'r'\n",
      "dim_info        : 0\n",
      "dim             : [ 3 35 51 35  1  1  1  1]\n",
      "intent_p1       : 0.0\n",
      "intent_p2       : 0.0\n",
      "intent_p3       : 0.0\n",
      "intent_code     : none\n",
      "datatype        : uint8\n",
      "bitpix          : 8\n",
      "slice_start     : 0\n",
      "pixdim          : [1. 1. 1. 1. 1. 0. 0. 0.]\n",
      "vox_offset      : 0.0\n",
      "scl_slope       : nan\n",
      "scl_inter       : nan\n",
      "slice_end       : 0\n",
      "slice_code      : unknown\n",
      "xyzt_units      : 10\n",
      "cal_max         : 0.0\n",
      "cal_min         : 0.0\n",
      "slice_duration  : 0.0\n",
      "toffset         : 0.0\n",
      "glmax           : 0\n",
      "glmin           : 0\n",
      "descrip         : b'5.0.10'\n",
      "aux_file        : b'none'\n",
      "qform_code      : scanner\n",
      "sform_code      : scanner\n",
      "quatern_b       : 0.0\n",
      "quatern_c       : 0.0\n",
      "quatern_d       : 0.0\n",
      "qoffset_x       : 1.0\n",
      "qoffset_y       : 1.0\n",
      "qoffset_z       : 1.0\n",
      "srow_x          : [1. 0. 0. 1.]\n",
      "srow_y          : [0. 1. 0. 1.]\n",
      "srow_z          : [0. 0. 1. 1.]\n",
      "intent_name     : b''\n",
      "magic           : b'n+1' \n",
      "\n",
      "Label: <class 'nibabel.nifti1.Nifti1Header'> object, endian='<'\n",
      "sizeof_hdr      : 348\n",
      "data_type       : b''\n",
      "db_name         : b''\n",
      "extents         : 0\n",
      "session_error   : 0\n",
      "regular         : b'r'\n",
      "dim_info        : 0\n",
      "dim             : [ 3 35 51 35  1  1  1  1]\n",
      "intent_p1       : 0.0\n",
      "intent_p2       : 0.0\n",
      "intent_p3       : 0.0\n",
      "intent_code     : none\n",
      "datatype        : uint8\n",
      "bitpix          : 8\n",
      "slice_start     : 0\n",
      "pixdim          : [1. 1. 1. 1. 1. 0. 0. 0.]\n",
      "vox_offset      : 0.0\n",
      "scl_slope       : nan\n",
      "scl_inter       : nan\n",
      "slice_end       : 0\n",
      "slice_code      : unknown\n",
      "xyzt_units      : 10\n",
      "cal_max         : 0.0\n",
      "cal_min         : 0.0\n",
      "slice_duration  : 0.0\n",
      "toffset         : 0.0\n",
      "glmax           : 0\n",
      "glmin           : 0\n",
      "descrip         : b'5.0.10'\n",
      "aux_file        : b'none'\n",
      "qform_code      : scanner\n",
      "sform_code      : scanner\n",
      "quatern_b       : 0.0\n",
      "quatern_c       : 0.0\n",
      "quatern_d       : 0.0\n",
      "qoffset_x       : 1.0\n",
      "qoffset_y       : 1.0\n",
      "qoffset_z       : 1.0\n",
      "srow_x          : [1. 0. 0. 1.]\n",
      "srow_y          : [0. 1. 0. 1.]\n",
      "srow_z          : [0. 0. 1. 1.]\n",
      "intent_name     : b''\n",
      "magic           : b'n+1'\n"
     ]
    }
   ],
   "source": [
    "# TASK: How many bits per pixel are used?\n",
    "print(f'Img: {img.header} \\n')\n",
    "print(f'Label: {label.header}')"
   ]
  },
  {
   "cell_type": "markdown",
   "metadata": {},
   "source": [
    "#### Bits per voxel (pixel) is 8."
   ]
  },
  {
   "cell_type": "code",
   "execution_count": 10,
   "metadata": {},
   "outputs": [
    {
     "data": {
      "text/plain": [
       "'\\nxyzt_units indicate the unit of measurements for dim.  \\nFrom the Header, xyzt_units in binary is 10, translating to 2.  \\n2 translates to NIFTI_UNITS_MM - millimeter.\\n'"
      ]
     },
     "execution_count": 10,
     "metadata": {},
     "output_type": "execute_result"
    }
   ],
   "source": [
    "# TASK: What are the units of measurement?\n",
    "\n",
    "'''\n",
    "xyzt_units indicate the unit of measurements for dim.  \n",
    "From the Header, xyzt_units in binary is 10, translating to 2.  \n",
    "2 translates to NIFTI_UNITS_MM - millimeter.\n",
    "'''"
   ]
  },
  {
   "cell_type": "code",
   "execution_count": null,
   "metadata": {},
   "outputs": [],
   "source": [
    "# TASK: Do we have a regular grid? What are grid spacings?\n",
    "\n",
    "'''\n",
    "pixdim is grid spacings.\n",
    "pixdim = [1. 1. 1. 1. 1. 0. 0. 0.]\n",
    "pixdim[1], pixdim[2], pixdim[3] = 1.,1.,1.\n",
    "\n",
    "'''"
   ]
  },
  {
   "cell_type": "code",
   "execution_count": null,
   "metadata": {},
   "outputs": [],
   "source": [
    "# TASK: What dimensions represent axial, sagittal, and coronal slices? How do you know?\n",
    "'''\n",
    "sform_code = scanner\n",
    "srow_x, srow_y, srow_z are given.\n",
    "srow_x = [1. 0  0  1.]\n",
    "srow_y = [0  1. 0  1.]\n",
    "srow_z = [0  0  .  1.]\n",
    "\n",
    "From NIFITI documentation 3D IMAGE (VOLUME) ORIENTATION AND LOCATION IN SPACE section:\n",
    "In sform_code method, the (x,y,z) axes refer to a subject-based coordinate system,\n",
    "with +x = Right  +y = Anterior  +z = Superior.\n",
    "The srow_x, _y, _z vectors show that they translate to orthoganal i, j, k vectors.\n",
    "\n",
    "Hence, x dimension is sagital (medial and lateral/ left and right since this is the right side of the brain)\n",
    "y dimension is coronal (anterior and posterior)\n",
    "z dimension is axial (superior and inferior)\n",
    "'''"
   ]
  },
  {
   "cell_type": "code",
   "execution_count": 31,
   "metadata": {},
   "outputs": [
    {
     "data": {
      "text/plain": [
       "array([2., 2., 2., ..., 1., 1., 1.])"
      ]
     },
     "execution_count": 31,
     "metadata": {},
     "output_type": "execute_result"
    }
   ],
   "source": [
    "label_np[label_np > 0]"
   ]
  },
  {
   "cell_type": "code",
   "execution_count": 32,
   "metadata": {},
   "outputs": [
    {
     "name": "stdout",
     "output_type": "stream",
     "text": [
      "Volume of hippocampus label is 2948 mm^3\n"
     ]
    }
   ],
   "source": [
    "# By now you should have enough information to decide what are dimensions of a single voxel\n",
    "# TASK: Compute the volume (in mm³) of a hippocampus using one of the labels you've loaded. \n",
    "# You should get a number between ~2200 and ~4500\n",
    "\n",
    "'''\n",
    "One voxel = pixdim[1] * pixdim[2] * pixdim[3] = 1.0 mm^3\n",
    "'''\n",
    "\n",
    "print(f'Volume of hippocampus label is {np.count_nonzero(label_np > 0)} mm^3')"
   ]
  },
  {
   "cell_type": "code",
   "execution_count": 240,
   "metadata": {},
   "outputs": [
    {
     "name": "stdout",
     "output_type": "stream",
     "text": [
      "img values range: (0.0, 2776.8801)\n",
      "label values range: (0.0, 2.0)\n",
      "[[29 49  5]]\n"
     ]
    },
    {
     "data": {
      "text/plain": [
       "<matplotlib.image.AxesImage at 0x218b56f3b08>"
      ]
     },
     "execution_count": 240,
     "metadata": {},
     "output_type": "execute_result"
    },
    {
     "data": {
      "image/png": "[encoded data removed]",
      "text/plain": [
       "<Figure size 1080x2160 with 2 Axes>"
      ]
     },
     "metadata": {
      "needs_background": "light"
     },
     "output_type": "display_data"
    }
   ],
   "source": [
    "'''\n",
    "Understand min and max value in image and label numpy array\n",
    "'''\n",
    "img = nib.load(os.path.join(path, 'images', 'hippocampus_003.nii.gz'))\n",
    "label = nib.load(os.path.join(path, 'labels', 'hippocampus_003.nii.gz'))\n",
    "img_np=img.get_fdata().astype(np.single)\n",
    "label_np=label.get_fdata().astype(np.single)\n",
    "print(f'img values range: {np.amin(img_np), np.amax(img_np)}')\n",
    "print(f'label values range: {np.amin(label_np), np.amax(label_np)}')\n",
    "print(np.argwhere(img_np >= np.amax(img_np)))\n",
    "\n",
    "plt.subplots(1,2,figsize= (15,30))\n",
    "plt.subplot(1,2,1)\n",
    "plt.imshow(img_np[np.argwhere(img_np >= np.amax(img_np))[0][0]-10,:,:])\n",
    "plt.subplot(1,2,2)\n",
    "plt.imshow(label_np[np.argwhere(img_np >= np.amax(img_np))[0][0]-10,:,:])\n"
   ]
  },
  {
   "cell_type": "code",
   "execution_count": 241,
   "metadata": {},
   "outputs": [
    {
     "data": {
      "text/plain": [
       "679.38855"
      ]
     },
     "execution_count": 241,
     "metadata": {},
     "output_type": "execute_result"
    }
   ],
   "source": [
    "img_np.mean()+img_np.std()"
   ]
  },
  {
   "cell_type": "code",
   "execution_count": 35,
   "metadata": {},
   "outputs": [],
   "source": [
    "img_np= img_np/0xff"
   ]
  },
  {
   "cell_type": "code",
   "execution_count": 36,
   "metadata": {},
   "outputs": [],
   "source": [
    "img_np= img_np/np.amax(img_np)"
   ]
  },
  {
   "cell_type": "code",
   "execution_count": 37,
   "metadata": {},
   "outputs": [
    {
     "data": {
      "text/plain": [
       "1.0"
      ]
     },
     "execution_count": 37,
     "metadata": {},
     "output_type": "execute_result"
    },
    {
     "data": {
      "image/png": "[encoded data removed]",
      "text/plain": [
       "<Figure size 720x720 with 2 Axes>"
      ]
     },
     "metadata": {
      "needs_background": "light"
     },
     "output_type": "display_data"
    }
   ],
   "source": [
    "plt.subplot(1,2,1)\n",
    "plt.imshow(img_np[29-10,:,:])\n",
    "plt.subplot(1,2,2)\n",
    "plt.imshow(label_np[29-10,:,:])\n",
    "np.amax(img_np)"
   ]
  },
  {
   "cell_type": "code",
   "execution_count": 40,
   "metadata": {},
   "outputs": [
    {
     "data": {
      "text/plain": [
       "<function matplotlib.pyplot.show(*args, **kw)>"
      ]
     },
     "execution_count": 40,
     "metadata": {},
     "output_type": "execute_result"
    },
    {
     "data": {
      "image/png": "[encoded data removed]",
      "text/plain": [
       "<Figure size 720x720 with 1 Axes>"
      ]
     },
     "metadata": {
      "needs_background": "light"
     },
     "output_type": "display_data"
    }
   ],
   "source": [
    "plt.hist(img_np.ravel(), bins=100)\n",
    "plt.show"
   ]
  },
  {
   "cell_type": "markdown",
   "metadata": {},
   "source": [
    "## Plotting some charts"
   ]
  },
  {
   "cell_type": "code",
   "execution_count": 43,
   "metadata": {},
   "outputs": [
    {
     "data": {
      "text/plain": [
       "['TestVolumes', 'TrainingSet']"
      ]
     },
     "execution_count": 43,
     "metadata": {},
     "output_type": "execute_result"
    }
   ],
   "source": [
    "os.listdir(\"../data\")"
   ]
  },
  {
   "cell_type": "code",
   "execution_count": 242,
   "metadata": {},
   "outputs": [
    {
     "name": "stdout",
     "output_type": "stream",
     "text": [
      "262\n"
     ]
    },
    {
     "data": {
      "image/png": "[encoded data removed]",
      "text/plain": [
       "<Figure size 720x720 with 1 Axes>"
      ]
     },
     "metadata": {
      "needs_background": "light"
     },
     "output_type": "display_data"
    }
   ],
   "source": [
    "# TASK: Plot a histogram of all volumes that we have in our dataset and see how \n",
    "# our dataset measures against a slice of a normal population represented by the chart below.\n",
    "\n",
    "train_set_files = glob.glob(os.path.join(path, 'labels', '*'))\n",
    "train_set_volumes = []\n",
    "train_set = []\n",
    "\n",
    "count = 0\n",
    "\n",
    "for i in train_set_files:\n",
    "    img = nib.load(i)\n",
    "    img_np = img.get_fdata()\n",
    "    i_vol = np.count_nonzero(img_np>0)\n",
    "    i_dim = img.header['dim']\n",
    "    train_set_volumes.append(i_vol)\n",
    "    train_set.append([i_vol, i, i_dim])\n",
    "    count+=1\n",
    "\n",
    "\n",
    "plt.hist(train_set_volumes, bins = 1000)\n",
    "plt.xlim(1000,25000)\n",
    "print(count)   "
   ]
  },
  {
   "cell_type": "code",
   "execution_count": 243,
   "metadata": {},
   "outputs": [
    {
     "data": {
      "text/plain": [
       "array([0, 0, 0, 0, 0, 0, 0, 0], dtype=int16)"
      ]
     },
     "execution_count": 243,
     "metadata": {},
     "output_type": "execute_result"
    }
   ],
   "source": [
    "nib.load(os.path.join(path, 'images', 'hippocampus_083.nii.gz')).header['dim']-nib.load(os.path.join(path, 'labels', 'hippocampus_083.nii.gz')).header['dim']"
   ]
  },
  {
   "cell_type": "code",
   "execution_count": 244,
   "metadata": {},
   "outputs": [
    {
     "data": {
      "text/plain": [
       "[[2948,\n",
       "  '..\\\\data\\\\TrainingSet\\\\labels\\\\hippocampus_001.nii.gz',\n",
       "  array([ 3, 35, 51, 35,  1,  1,  1,  1], dtype=int16)],\n",
       " [3353,\n",
       "  '..\\\\data\\\\TrainingSet\\\\labels\\\\hippocampus_003.nii.gz',\n",
       "  array([ 3, 34, 52, 35,  1,  1,  1,  1], dtype=int16)],\n",
       " [3698,\n",
       "  '..\\\\data\\\\TrainingSet\\\\labels\\\\hippocampus_004.nii.gz',\n",
       "  array([ 3, 36, 52, 38,  1,  1,  1,  1], dtype=int16)],\n",
       " [4263,\n",
       "  '..\\\\data\\\\TrainingSet\\\\labels\\\\hippocampus_006.nii.gz',\n",
       "  array([ 3, 35, 52, 34,  1,  1,  1,  1], dtype=int16)],\n",
       " [3372,\n",
       "  '..\\\\data\\\\TrainingSet\\\\labels\\\\hippocampus_007.nii.gz',\n",
       "  array([ 3, 34, 47, 40,  1,  1,  1,  1], dtype=int16)],\n",
       " [3248,\n",
       "  '..\\\\data\\\\TrainingSet\\\\labels\\\\hippocampus_008.nii.gz',\n",
       "  array([ 3, 36, 48, 40,  1,  1,  1,  1], dtype=int16)],\n",
       " [3456,\n",
       "  '..\\\\data\\\\TrainingSet\\\\labels\\\\hippocampus_010.nii.gz',\n",
       "  array([ 3, 36, 50, 31,  1,  1,  1,  1], dtype=int16)],\n",
       " [3456,\n",
       "  '..\\\\data\\\\TrainingSet\\\\labels\\\\hippocampus_011.nii.gz',\n",
       "  array([ 3, 36, 50, 31,  1,  1,  1,  1], dtype=int16)],\n",
       " [3622,\n",
       "  '..\\\\data\\\\TrainingSet\\\\labels\\\\hippocampus_014.nii.gz',\n",
       "  array([ 3, 39, 50, 40,  1,  1,  1,  1], dtype=int16)],\n",
       " [2819,\n",
       "  '..\\\\data\\\\TrainingSet\\\\labels\\\\hippocampus_015.nii.gz',\n",
       "  array([ 3, 42, 51, 28,  1,  1,  1,  1], dtype=int16)],\n",
       " [3478,\n",
       "  '..\\\\data\\\\TrainingSet\\\\labels\\\\hippocampus_017.nii.gz',\n",
       "  array([ 3, 35, 48, 32,  1,  1,  1,  1], dtype=int16)],\n",
       " [3356,\n",
       "  '..\\\\data\\\\TrainingSet\\\\labels\\\\hippocampus_019.nii.gz',\n",
       "  array([ 3, 36, 47, 41,  1,  1,  1,  1], dtype=int16)],\n",
       " [3611,\n",
       "  '..\\\\data\\\\TrainingSet\\\\labels\\\\hippocampus_020.nii.gz',\n",
       "  array([ 3, 36, 46, 43,  1,  1,  1,  1], dtype=int16)],\n",
       " [3568,\n",
       "  '..\\\\data\\\\TrainingSet\\\\labels\\\\hippocampus_023.nii.gz',\n",
       "  array([ 3, 35, 51, 35,  1,  1,  1,  1], dtype=int16)],\n",
       " [4030,\n",
       "  '..\\\\data\\\\TrainingSet\\\\labels\\\\hippocampus_024.nii.gz',\n",
       "  array([ 3, 38, 52, 33,  1,  1,  1,  1], dtype=int16)],\n",
       " [3326,\n",
       "  '..\\\\data\\\\TrainingSet\\\\labels\\\\hippocampus_025.nii.gz',\n",
       "  array([ 3, 35, 48, 35,  1,  1,  1,  1], dtype=int16)],\n",
       " [3628,\n",
       "  '..\\\\data\\\\TrainingSet\\\\labels\\\\hippocampus_026.nii.gz',\n",
       "  array([ 3, 36, 50, 36,  1,  1,  1,  1], dtype=int16)],\n",
       " [3423,\n",
       "  '..\\\\data\\\\TrainingSet\\\\labels\\\\hippocampus_033.nii.gz',\n",
       "  array([ 3, 33, 48, 38,  1,  1,  1,  1], dtype=int16)],\n",
       " [3375,\n",
       "  '..\\\\data\\\\TrainingSet\\\\labels\\\\hippocampus_034.nii.gz',\n",
       "  array([ 3, 36, 49, 40,  1,  1,  1,  1], dtype=int16)],\n",
       " [3450,\n",
       "  '..\\\\data\\\\TrainingSet\\\\labels\\\\hippocampus_035.nii.gz',\n",
       "  array([ 3, 35, 47, 37,  1,  1,  1,  1], dtype=int16)],\n",
       " [3509,\n",
       "  '..\\\\data\\\\TrainingSet\\\\labels\\\\hippocampus_036.nii.gz',\n",
       "  array([ 3, 36, 47, 39,  1,  1,  1,  1], dtype=int16)],\n",
       " [3195,\n",
       "  '..\\\\data\\\\TrainingSet\\\\labels\\\\hippocampus_037.nii.gz',\n",
       "  array([ 3, 34, 51, 32,  1,  1,  1,  1], dtype=int16)],\n",
       " [3558,\n",
       "  '..\\\\data\\\\TrainingSet\\\\labels\\\\hippocampus_038.nii.gz',\n",
       "  array([ 3, 37, 51, 35,  1,  1,  1,  1], dtype=int16)],\n",
       " [3658,\n",
       "  '..\\\\data\\\\TrainingSet\\\\labels\\\\hippocampus_039.nii.gz',\n",
       "  array([ 3, 34, 53, 34,  1,  1,  1,  1], dtype=int16)],\n",
       " [3445,\n",
       "  '..\\\\data\\\\TrainingSet\\\\labels\\\\hippocampus_040.nii.gz',\n",
       "  array([ 3, 36, 52, 37,  1,  1,  1,  1], dtype=int16)],\n",
       " [3763,\n",
       "  '..\\\\data\\\\TrainingSet\\\\labels\\\\hippocampus_041.nii.gz',\n",
       "  array([ 3, 36, 51, 34,  1,  1,  1,  1], dtype=int16)],\n",
       " [3847,\n",
       "  '..\\\\data\\\\TrainingSet\\\\labels\\\\hippocampus_042.nii.gz',\n",
       "  array([ 3, 37, 52, 34,  1,  1,  1,  1], dtype=int16)],\n",
       " [3220,\n",
       "  '..\\\\data\\\\TrainingSet\\\\labels\\\\hippocampus_044.nii.gz',\n",
       "  array([ 3, 38, 48, 33,  1,  1,  1,  1], dtype=int16)],\n",
       " [2868,\n",
       "  '..\\\\data\\\\TrainingSet\\\\labels\\\\hippocampus_045.nii.gz',\n",
       "  array([ 3, 36, 48, 37,  1,  1,  1,  1], dtype=int16)],\n",
       " [3292,\n",
       "  '..\\\\data\\\\TrainingSet\\\\labels\\\\hippocampus_046.nii.gz',\n",
       "  array([ 3, 36, 49, 38,  1,  1,  1,  1], dtype=int16)],\n",
       " [3272,\n",
       "  '..\\\\data\\\\TrainingSet\\\\labels\\\\hippocampus_048.nii.gz',\n",
       "  array([ 3, 38, 52, 29,  1,  1,  1,  1], dtype=int16)],\n",
       " [3728,\n",
       "  '..\\\\data\\\\TrainingSet\\\\labels\\\\hippocampus_049.nii.gz',\n",
       "  array([ 3, 35, 51, 36,  1,  1,  1,  1], dtype=int16)],\n",
       " [3831,\n",
       "  '..\\\\data\\\\TrainingSet\\\\labels\\\\hippocampus_050.nii.gz',\n",
       "  array([ 3, 38, 49, 38,  1,  1,  1,  1], dtype=int16)],\n",
       " [3109,\n",
       "  '..\\\\data\\\\TrainingSet\\\\labels\\\\hippocampus_051.nii.gz',\n",
       "  array([ 3, 33, 54, 39,  1,  1,  1,  1], dtype=int16)],\n",
       " [3361,\n",
       "  '..\\\\data\\\\TrainingSet\\\\labels\\\\hippocampus_052.nii.gz',\n",
       "  array([ 3, 34, 52, 40,  1,  1,  1,  1], dtype=int16)],\n",
       " [3519,\n",
       "  '..\\\\data\\\\TrainingSet\\\\labels\\\\hippocampus_053.nii.gz',\n",
       "  array([ 3, 37, 51, 35,  1,  1,  1,  1], dtype=int16)],\n",
       " [3733,\n",
       "  '..\\\\data\\\\TrainingSet\\\\labels\\\\hippocampus_056.nii.gz',\n",
       "  array([ 3, 41, 47, 42,  1,  1,  1,  1], dtype=int16)],\n",
       " [2773,\n",
       "  '..\\\\data\\\\TrainingSet\\\\labels\\\\hippocampus_057.nii.gz',\n",
       "  array([ 3, 35, 51, 34,  1,  1,  1,  1], dtype=int16)],\n",
       " [3127,\n",
       "  '..\\\\data\\\\TrainingSet\\\\labels\\\\hippocampus_058.nii.gz',\n",
       "  array([ 3, 34, 53, 36,  1,  1,  1,  1], dtype=int16)],\n",
       " [3409,\n",
       "  '..\\\\data\\\\TrainingSet\\\\labels\\\\hippocampus_060.nii.gz',\n",
       "  array([ 3, 39, 52, 31,  1,  1,  1,  1], dtype=int16)],\n",
       " [3660,\n",
       "  '..\\\\data\\\\TrainingSet\\\\labels\\\\hippocampus_064.nii.gz',\n",
       "  array([ 3, 35, 53, 35,  1,  1,  1,  1], dtype=int16)],\n",
       " [3650,\n",
       "  '..\\\\data\\\\TrainingSet\\\\labels\\\\hippocampus_065.nii.gz',\n",
       "  array([ 3, 39, 52, 37,  1,  1,  1,  1], dtype=int16)],\n",
       " [2811,\n",
       "  '..\\\\data\\\\TrainingSet\\\\labels\\\\hippocampus_067.nii.gz',\n",
       "  array([ 3, 36, 42, 41,  1,  1,  1,  1], dtype=int16)],\n",
       " [3000,\n",
       "  '..\\\\data\\\\TrainingSet\\\\labels\\\\hippocampus_068.nii.gz',\n",
       "  array([ 3, 36, 40, 43,  1,  1,  1,  1], dtype=int16)],\n",
       " [3450,\n",
       "  '..\\\\data\\\\TrainingSet\\\\labels\\\\hippocampus_070.nii.gz',\n",
       "  array([ 3, 37, 50, 38,  1,  1,  1,  1], dtype=int16)],\n",
       " [3000,\n",
       "  '..\\\\data\\\\TrainingSet\\\\labels\\\\hippocampus_074.nii.gz',\n",
       "  array([ 3, 37, 47, 42,  1,  1,  1,  1], dtype=int16)],\n",
       " [3048,\n",
       "  '..\\\\data\\\\TrainingSet\\\\labels\\\\hippocampus_075.nii.gz',\n",
       "  array([ 3, 32, 47, 41,  1,  1,  1,  1], dtype=int16)],\n",
       " [3718,\n",
       "  '..\\\\data\\\\TrainingSet\\\\labels\\\\hippocampus_077.nii.gz',\n",
       "  array([ 3, 35, 47, 45,  1,  1,  1,  1], dtype=int16)],\n",
       " [3371,\n",
       "  '..\\\\data\\\\TrainingSet\\\\labels\\\\hippocampus_083.nii.gz',\n",
       "  array([ 3, 33, 52, 37,  1,  1,  1,  1], dtype=int16)],\n",
       " [3150,\n",
       "  '..\\\\data\\\\TrainingSet\\\\labels\\\\hippocampus_084.nii.gz',\n",
       "  array([ 3, 34, 52, 37,  1,  1,  1,  1], dtype=int16)],\n",
       " [3707,\n",
       "  '..\\\\data\\\\TrainingSet\\\\labels\\\\hippocampus_087.nii.gz',\n",
       "  array([ 3, 35, 55, 32,  1,  1,  1,  1], dtype=int16)],\n",
       " [3878,\n",
       "  '..\\\\data\\\\TrainingSet\\\\labels\\\\hippocampus_088.nii.gz',\n",
       "  array([ 3, 40, 52, 35,  1,  1,  1,  1], dtype=int16)],\n",
       " [3686,\n",
       "  '..\\\\data\\\\TrainingSet\\\\labels\\\\hippocampus_089.nii.gz',\n",
       "  array([ 3, 34, 51, 38,  1,  1,  1,  1], dtype=int16)],\n",
       " [4001,\n",
       "  '..\\\\data\\\\TrainingSet\\\\labels\\\\hippocampus_090.nii.gz',\n",
       "  array([ 3, 37, 50, 40,  1,  1,  1,  1], dtype=int16)],\n",
       " [3061,\n",
       "  '..\\\\data\\\\TrainingSet\\\\labels\\\\hippocampus_091.nii.gz',\n",
       "  array([ 3, 36, 51, 29,  1,  1,  1,  1], dtype=int16)],\n",
       " [3142,\n",
       "  '..\\\\data\\\\TrainingSet\\\\labels\\\\hippocampus_092.nii.gz',\n",
       "  array([ 3, 38, 49, 28,  1,  1,  1,  1], dtype=int16)],\n",
       " [3742,\n",
       "  '..\\\\data\\\\TrainingSet\\\\labels\\\\hippocampus_093.nii.gz',\n",
       "  array([ 3, 34, 53, 37,  1,  1,  1,  1], dtype=int16)],\n",
       " [4029,\n",
       "  '..\\\\data\\\\TrainingSet\\\\labels\\\\hippocampus_094.nii.gz',\n",
       "  array([ 3, 38, 50, 38,  1,  1,  1,  1], dtype=int16)],\n",
       " [3785,\n",
       "  '..\\\\data\\\\TrainingSet\\\\labels\\\\hippocampus_095.nii.gz',\n",
       "  array([ 3, 34, 49, 39,  1,  1,  1,  1], dtype=int16)],\n",
       " [3340,\n",
       "  '..\\\\data\\\\TrainingSet\\\\labels\\\\hippocampus_096.nii.gz',\n",
       "  array([ 3, 34, 47, 39,  1,  1,  1,  1], dtype=int16)],\n",
       " [2753,\n",
       "  '..\\\\data\\\\TrainingSet\\\\labels\\\\hippocampus_097.nii.gz',\n",
       "  array([ 3, 37, 48, 34,  1,  1,  1,  1], dtype=int16)],\n",
       " [2890,\n",
       "  '..\\\\data\\\\TrainingSet\\\\labels\\\\hippocampus_098.nii.gz',\n",
       "  array([ 3, 37, 48, 34,  1,  1,  1,  1], dtype=int16)],\n",
       " [2535,\n",
       "  '..\\\\data\\\\TrainingSet\\\\labels\\\\hippocampus_099.nii.gz',\n",
       "  array([ 3, 33, 52, 27,  1,  1,  1,  1], dtype=int16)],\n",
       " [3594,\n",
       "  '..\\\\data\\\\TrainingSet\\\\labels\\\\hippocampus_101.nii.gz',\n",
       "  array([ 3, 36, 52, 32,  1,  1,  1,  1], dtype=int16)],\n",
       " [3955,\n",
       "  '..\\\\data\\\\TrainingSet\\\\labels\\\\hippocampus_102.nii.gz',\n",
       "  array([ 3, 36, 55, 32,  1,  1,  1,  1], dtype=int16)],\n",
       " [3817,\n",
       "  '..\\\\data\\\\TrainingSet\\\\labels\\\\hippocampus_104.nii.gz',\n",
       "  array([ 3, 35, 53, 39,  1,  1,  1,  1], dtype=int16)],\n",
       " [3160,\n",
       "  '..\\\\data\\\\TrainingSet\\\\labels\\\\hippocampus_105.nii.gz',\n",
       "  array([ 3, 33, 47, 37,  1,  1,  1,  1], dtype=int16)],\n",
       " [3092,\n",
       "  '..\\\\data\\\\TrainingSet\\\\labels\\\\hippocampus_106.nii.gz',\n",
       "  array([ 3, 34, 46, 38,  1,  1,  1,  1], dtype=int16)],\n",
       " [3946,\n",
       "  '..\\\\data\\\\TrainingSet\\\\labels\\\\hippocampus_107.nii.gz',\n",
       "  array([ 3, 35, 55, 34,  1,  1,  1,  1], dtype=int16)],\n",
       " [3940,\n",
       "  '..\\\\data\\\\TrainingSet\\\\labels\\\\hippocampus_108.nii.gz',\n",
       "  array([ 3, 36, 53, 37,  1,  1,  1,  1], dtype=int16)],\n",
       " [3219,\n",
       "  '..\\\\data\\\\TrainingSet\\\\labels\\\\hippocampus_109.nii.gz',\n",
       "  array([ 3, 36, 49, 36,  1,  1,  1,  1], dtype=int16)],\n",
       " [3704,\n",
       "  '..\\\\data\\\\TrainingSet\\\\labels\\\\hippocampus_114.nii.gz',\n",
       "  array([ 3, 38, 50, 39,  1,  1,  1,  1], dtype=int16)],\n",
       " [3229,\n",
       "  '..\\\\data\\\\TrainingSet\\\\labels\\\\hippocampus_123.nii.gz',\n",
       "  array([ 3, 32, 53, 38,  1,  1,  1,  1], dtype=int16)],\n",
       " [3137,\n",
       "  '..\\\\data\\\\TrainingSet\\\\labels\\\\hippocampus_124.nii.gz',\n",
       "  array([ 3, 35, 55, 41,  1,  1,  1,  1], dtype=int16)],\n",
       " [2726,\n",
       "  '..\\\\data\\\\TrainingSet\\\\labels\\\\hippocampus_125.nii.gz',\n",
       "  array([ 3, 43, 42, 39,  1,  1,  1,  1], dtype=int16)],\n",
       " [3145,\n",
       "  '..\\\\data\\\\TrainingSet\\\\labels\\\\hippocampus_126.nii.gz',\n",
       "  array([ 3, 39, 44, 43,  1,  1,  1,  1], dtype=int16)],\n",
       " [3749,\n",
       "  '..\\\\data\\\\TrainingSet\\\\labels\\\\hippocampus_127.nii.gz',\n",
       "  array([ 3, 38, 55, 31,  1,  1,  1,  1], dtype=int16)],\n",
       " [3285,\n",
       "  '..\\\\data\\\\TrainingSet\\\\labels\\\\hippocampus_130.nii.gz',\n",
       "  array([ 3, 35, 49, 40,  1,  1,  1,  1], dtype=int16)],\n",
       " [3251,\n",
       "  '..\\\\data\\\\TrainingSet\\\\labels\\\\hippocampus_132.nii.gz',\n",
       "  array([ 3, 36, 50, 40,  1,  1,  1,  1], dtype=int16)],\n",
       " [3409,\n",
       "  '..\\\\data\\\\TrainingSet\\\\labels\\\\hippocampus_133.nii.gz',\n",
       "  array([ 3, 39, 41, 42,  1,  1,  1,  1], dtype=int16)],\n",
       " [2629,\n",
       "  '..\\\\data\\\\TrainingSet\\\\labels\\\\hippocampus_135.nii.gz',\n",
       "  array([ 3, 32, 49, 38,  1,  1,  1,  1], dtype=int16)],\n",
       " [2813,\n",
       "  '..\\\\data\\\\TrainingSet\\\\labels\\\\hippocampus_136.nii.gz',\n",
       "  array([ 3, 34, 49, 41,  1,  1,  1,  1], dtype=int16)],\n",
       " [2534,\n",
       "  '..\\\\data\\\\TrainingSet\\\\labels\\\\hippocampus_138.nii.gz',\n",
       "  array([ 3, 32, 46, 42,  1,  1,  1,  1], dtype=int16)],\n",
       " [2714,\n",
       "  '..\\\\data\\\\TrainingSet\\\\labels\\\\hippocampus_141.nii.gz',\n",
       "  array([ 3, 33, 44, 42,  1,  1,  1,  1], dtype=int16)],\n",
       " [2697,\n",
       "  '..\\\\data\\\\TrainingSet\\\\labels\\\\hippocampus_142.nii.gz',\n",
       "  array([ 3, 38, 43, 41,  1,  1,  1,  1], dtype=int16)],\n",
       " [2397,\n",
       "  '..\\\\data\\\\TrainingSet\\\\labels\\\\hippocampus_143.nii.gz',\n",
       "  array([ 3, 32, 45, 41,  1,  1,  1,  1], dtype=int16)],\n",
       " [2471,\n",
       "  '..\\\\data\\\\TrainingSet\\\\labels\\\\hippocampus_144.nii.gz',\n",
       "  array([ 3, 34, 45, 43,  1,  1,  1,  1], dtype=int16)],\n",
       " [3536,\n",
       "  '..\\\\data\\\\TrainingSet\\\\labels\\\\hippocampus_145.nii.gz',\n",
       "  array([ 3, 36, 53, 33,  1,  1,  1,  1], dtype=int16)],\n",
       " [3522,\n",
       "  '..\\\\data\\\\TrainingSet\\\\labels\\\\hippocampus_146.nii.gz',\n",
       "  array([ 3, 36, 51, 32,  1,  1,  1,  1], dtype=int16)],\n",
       " [2945,\n",
       "  '..\\\\data\\\\TrainingSet\\\\labels\\\\hippocampus_148.nii.gz',\n",
       "  array([ 3, 34, 48, 32,  1,  1,  1,  1], dtype=int16)],\n",
       " [3143,\n",
       "  '..\\\\data\\\\TrainingSet\\\\labels\\\\hippocampus_149.nii.gz',\n",
       "  array([ 3, 33, 49, 32,  1,  1,  1,  1], dtype=int16)],\n",
       " [3088,\n",
       "  '..\\\\data\\\\TrainingSet\\\\labels\\\\hippocampus_150.nii.gz',\n",
       "  array([ 3, 37, 49, 34,  1,  1,  1,  1], dtype=int16)],\n",
       " [3994,\n",
       "  '..\\\\data\\\\TrainingSet\\\\labels\\\\hippocampus_152.nii.gz',\n",
       "  array([ 3, 36, 53, 37,  1,  1,  1,  1], dtype=int16)],\n",
       " [3257,\n",
       "  '..\\\\data\\\\TrainingSet\\\\labels\\\\hippocampus_154.nii.gz',\n",
       "  array([ 3, 35, 46, 42,  1,  1,  1,  1], dtype=int16)],\n",
       " [3555,\n",
       "  '..\\\\data\\\\TrainingSet\\\\labels\\\\hippocampus_155.nii.gz',\n",
       "  array([ 3, 34, 53, 37,  1,  1,  1,  1], dtype=int16)],\n",
       " [3600,\n",
       "  '..\\\\data\\\\TrainingSet\\\\labels\\\\hippocampus_156.nii.gz',\n",
       "  array([ 3, 36, 52, 36,  1,  1,  1,  1], dtype=int16)],\n",
       " [3352,\n",
       "  '..\\\\data\\\\TrainingSet\\\\labels\\\\hippocampus_157.nii.gz',\n",
       "  array([ 3, 36, 51, 35,  1,  1,  1,  1], dtype=int16)],\n",
       " [3412,\n",
       "  '..\\\\data\\\\TrainingSet\\\\labels\\\\hippocampus_158.nii.gz',\n",
       "  array([ 3, 38, 52, 36,  1,  1,  1,  1], dtype=int16)],\n",
       " [3146,\n",
       "  '..\\\\data\\\\TrainingSet\\\\labels\\\\hippocampus_160.nii.gz',\n",
       "  array([ 3, 34, 51, 26,  1,  1,  1,  1], dtype=int16)],\n",
       " [3717,\n",
       "  '..\\\\data\\\\TrainingSet\\\\labels\\\\hippocampus_161.nii.gz',\n",
       "  array([ 3, 35, 51, 36,  1,  1,  1,  1], dtype=int16)],\n",
       " [3420,\n",
       "  '..\\\\data\\\\TrainingSet\\\\labels\\\\hippocampus_162.nii.gz',\n",
       "  array([ 3, 38, 51, 37,  1,  1,  1,  1], dtype=int16)],\n",
       " [3503,\n",
       "  '..\\\\data\\\\TrainingSet\\\\labels\\\\hippocampus_163.nii.gz',\n",
       "  array([ 3, 36, 47, 44,  1,  1,  1,  1], dtype=int16)],\n",
       " [3869,\n",
       "  '..\\\\data\\\\TrainingSet\\\\labels\\\\hippocampus_164.nii.gz',\n",
       "  array([ 3, 41, 48, 47,  1,  1,  1,  1], dtype=int16)],\n",
       " [3023,\n",
       "  '..\\\\data\\\\TrainingSet\\\\labels\\\\hippocampus_165.nii.gz',\n",
       "  array([ 3, 34, 49, 29,  1,  1,  1,  1], dtype=int16)],\n",
       " [3027,\n",
       "  '..\\\\data\\\\TrainingSet\\\\labels\\\\hippocampus_166.nii.gz',\n",
       "  array([ 3, 36, 49, 31,  1,  1,  1,  1], dtype=int16)],\n",
       " [2859,\n",
       "  '..\\\\data\\\\TrainingSet\\\\labels\\\\hippocampus_169.nii.gz',\n",
       "  array([ 3, 36, 45, 39,  1,  1,  1,  1], dtype=int16)],\n",
       " [2870,\n",
       "  '..\\\\data\\\\TrainingSet\\\\labels\\\\hippocampus_170.nii.gz',\n",
       "  array([ 3, 34, 48, 40,  1,  1,  1,  1], dtype=int16)],\n",
       " [3674,\n",
       "  '..\\\\data\\\\TrainingSet\\\\labels\\\\hippocampus_171.nii.gz',\n",
       "  array([ 3, 35, 56, 28,  1,  1,  1,  1], dtype=int16)],\n",
       " [3923,\n",
       "  '..\\\\data\\\\TrainingSet\\\\labels\\\\hippocampus_172.nii.gz',\n",
       "  array([ 3, 34, 56, 31,  1,  1,  1,  1], dtype=int16)],\n",
       " [3557,\n",
       "  '..\\\\data\\\\TrainingSet\\\\labels\\\\hippocampus_173.nii.gz',\n",
       "  array([ 3, 35, 53, 32,  1,  1,  1,  1], dtype=int16)],\n",
       " [3947,\n",
       "  '..\\\\data\\\\TrainingSet\\\\labels\\\\hippocampus_174.nii.gz',\n",
       "  array([ 3, 37, 55, 34,  1,  1,  1,  1], dtype=int16)],\n",
       " [2739,\n",
       "  '..\\\\data\\\\TrainingSet\\\\labels\\\\hippocampus_175.nii.gz',\n",
       "  array([ 3, 33, 47, 35,  1,  1,  1,  1], dtype=int16)],\n",
       " [2920,\n",
       "  '..\\\\data\\\\TrainingSet\\\\labels\\\\hippocampus_176.nii.gz',\n",
       "  array([ 3, 35, 50, 36,  1,  1,  1,  1], dtype=int16)],\n",
       " [2593,\n",
       "  '..\\\\data\\\\TrainingSet\\\\labels\\\\hippocampus_177.nii.gz',\n",
       "  array([ 3, 33, 44, 40,  1,  1,  1,  1], dtype=int16)],\n",
       " [2714,\n",
       "  '..\\\\data\\\\TrainingSet\\\\labels\\\\hippocampus_178.nii.gz',\n",
       "  array([ 3, 35, 44, 41,  1,  1,  1,  1], dtype=int16)],\n",
       " [2678,\n",
       "  '..\\\\data\\\\TrainingSet\\\\labels\\\\hippocampus_180.nii.gz',\n",
       "  array([ 3, 37, 45, 36,  1,  1,  1,  1], dtype=int16)],\n",
       " [3692,\n",
       "  '..\\\\data\\\\TrainingSet\\\\labels\\\\hippocampus_181.nii.gz',\n",
       "  array([ 3, 33, 49, 40,  1,  1,  1,  1], dtype=int16)],\n",
       " [3605,\n",
       "  '..\\\\data\\\\TrainingSet\\\\labels\\\\hippocampus_184.nii.gz',\n",
       "  array([ 3, 37, 51, 33,  1,  1,  1,  1], dtype=int16)],\n",
       " [3113,\n",
       "  '..\\\\data\\\\TrainingSet\\\\labels\\\\hippocampus_185.nii.gz',\n",
       "  array([ 3, 35, 49, 33,  1,  1,  1,  1], dtype=int16)],\n",
       " [3374,\n",
       "  '..\\\\data\\\\TrainingSet\\\\labels\\\\hippocampus_188.nii.gz',\n",
       "  array([ 3, 37, 54, 36,  1,  1,  1,  1], dtype=int16)],\n",
       " [3455,\n",
       "  '..\\\\data\\\\TrainingSet\\\\labels\\\\hippocampus_189.nii.gz',\n",
       "  array([ 3, 35, 53, 30,  1,  1,  1,  1], dtype=int16)],\n",
       " [3309,\n",
       "  '..\\\\data\\\\TrainingSet\\\\labels\\\\hippocampus_190.nii.gz',\n",
       "  array([ 3, 37, 52, 30,  1,  1,  1,  1], dtype=int16)],\n",
       " [2708,\n",
       "  '..\\\\data\\\\TrainingSet\\\\labels\\\\hippocampus_193.nii.gz',\n",
       "  array([ 3, 33, 50, 29,  1,  1,  1,  1], dtype=int16)],\n",
       " [2894,\n",
       "  '..\\\\data\\\\TrainingSet\\\\labels\\\\hippocampus_194.nii.gz',\n",
       "  array([ 3, 35, 50, 30,  1,  1,  1,  1], dtype=int16)],\n",
       " [3661,\n",
       "  '..\\\\data\\\\TrainingSet\\\\labels\\\\hippocampus_195.nii.gz',\n",
       "  array([ 3, 33, 53, 28,  1,  1,  1,  1], dtype=int16)],\n",
       " [3377,\n",
       "  '..\\\\data\\\\TrainingSet\\\\labels\\\\hippocampus_197.nii.gz',\n",
       "  array([ 3, 38, 51, 31,  1,  1,  1,  1], dtype=int16)],\n",
       " [2570,\n",
       "  '..\\\\data\\\\TrainingSet\\\\labels\\\\hippocampus_199.nii.gz',\n",
       "  array([ 3, 37, 52, 26,  1,  1,  1,  1], dtype=int16)],\n",
       " [2827,\n",
       "  '..\\\\data\\\\TrainingSet\\\\labels\\\\hippocampus_203.nii.gz',\n",
       "  array([ 3, 34, 49, 38,  1,  1,  1,  1], dtype=int16)],\n",
       " [2873,\n",
       "  '..\\\\data\\\\TrainingSet\\\\labels\\\\hippocampus_204.nii.gz',\n",
       "  array([ 3, 36, 48, 39,  1,  1,  1,  1], dtype=int16)],\n",
       " [2704,\n",
       "  '..\\\\data\\\\TrainingSet\\\\labels\\\\hippocampus_205.nii.gz',\n",
       "  array([ 3, 32, 47, 32,  1,  1,  1,  1], dtype=int16)],\n",
       " [4074,\n",
       "  '..\\\\data\\\\TrainingSet\\\\labels\\\\hippocampus_207.nii.gz',\n",
       "  array([ 3, 35, 53, 33,  1,  1,  1,  1], dtype=int16)],\n",
       " [2995,\n",
       "  '..\\\\data\\\\TrainingSet\\\\labels\\\\hippocampus_210.nii.gz',\n",
       "  array([ 3, 34, 48, 40,  1,  1,  1,  1], dtype=int16)],\n",
       " [3582,\n",
       "  '..\\\\data\\\\TrainingSet\\\\labels\\\\hippocampus_212.nii.gz',\n",
       "  array([ 3, 35, 56, 34,  1,  1,  1,  1], dtype=int16)],\n",
       " [3333,\n",
       "  '..\\\\data\\\\TrainingSet\\\\labels\\\\hippocampus_215.nii.gz',\n",
       "  array([ 3, 35, 49, 33,  1,  1,  1,  1], dtype=int16)],\n",
       " [3442,\n",
       "  '..\\\\data\\\\TrainingSet\\\\labels\\\\hippocampus_216.nii.gz',\n",
       "  array([ 3, 32, 49, 36,  1,  1,  1,  1], dtype=int16)],\n",
       " [3102,\n",
       "  '..\\\\data\\\\TrainingSet\\\\labels\\\\hippocampus_217.nii.gz',\n",
       "  array([ 3, 38, 53, 27,  1,  1,  1,  1], dtype=int16)],\n",
       " [2830,\n",
       "  '..\\\\data\\\\TrainingSet\\\\labels\\\\hippocampus_219.nii.gz',\n",
       "  array([ 3, 37, 45, 39,  1,  1,  1,  1], dtype=int16)],\n",
       " [2930,\n",
       "  '..\\\\data\\\\TrainingSet\\\\labels\\\\hippocampus_220.nii.gz',\n",
       "  array([ 3, 39, 45, 40,  1,  1,  1,  1], dtype=int16)],\n",
       " [2448,\n",
       "  '..\\\\data\\\\TrainingSet\\\\labels\\\\hippocampus_221.nii.gz',\n",
       "  array([ 3, 32, 48, 34,  1,  1,  1,  1], dtype=int16)],\n",
       " [2684,\n",
       "  '..\\\\data\\\\TrainingSet\\\\labels\\\\hippocampus_222.nii.gz',\n",
       "  array([ 3, 34, 49, 36,  1,  1,  1,  1], dtype=int16)],\n",
       " [3502,\n",
       "  '..\\\\data\\\\TrainingSet\\\\labels\\\\hippocampus_223.nii.gz',\n",
       "  array([ 3, 35, 52, 37,  1,  1,  1,  1], dtype=int16)],\n",
       " [3820,\n",
       "  '..\\\\data\\\\TrainingSet\\\\labels\\\\hippocampus_224.nii.gz',\n",
       "  array([ 3, 37, 48, 37,  1,  1,  1,  1], dtype=int16)],\n",
       " [2475,\n",
       "  '..\\\\data\\\\TrainingSet\\\\labels\\\\hippocampus_225.nii.gz',\n",
       "  array([ 3, 33, 53, 26,  1,  1,  1,  1], dtype=int16)],\n",
       " [2546,\n",
       "  '..\\\\data\\\\TrainingSet\\\\labels\\\\hippocampus_226.nii.gz',\n",
       "  array([ 3, 32, 51, 28,  1,  1,  1,  1], dtype=int16)],\n",
       " [3536,\n",
       "  '..\\\\data\\\\TrainingSet\\\\labels\\\\hippocampus_227.nii.gz',\n",
       "  array([ 3, 36, 47, 36,  1,  1,  1,  1], dtype=int16)],\n",
       " [3671,\n",
       "  '..\\\\data\\\\TrainingSet\\\\labels\\\\hippocampus_228.nii.gz',\n",
       "  array([ 3, 37, 48, 36,  1,  1,  1,  1], dtype=int16)],\n",
       " [3177,\n",
       "  '..\\\\data\\\\TrainingSet\\\\labels\\\\hippocampus_229.nii.gz',\n",
       "  array([ 3, 33, 50, 35,  1,  1,  1,  1], dtype=int16)],\n",
       " [3165,\n",
       "  '..\\\\data\\\\TrainingSet\\\\labels\\\\hippocampus_230.nii.gz',\n",
       "  array([ 3, 34, 49, 37,  1,  1,  1,  1], dtype=int16)],\n",
       " [2647,\n",
       "  '..\\\\data\\\\TrainingSet\\\\labels\\\\hippocampus_231.nii.gz',\n",
       "  array([ 3, 33, 47, 42,  1,  1,  1,  1], dtype=int16)],\n",
       " [2863,\n",
       "  '..\\\\data\\\\TrainingSet\\\\labels\\\\hippocampus_232.nii.gz',\n",
       "  array([ 3, 36, 44, 43,  1,  1,  1,  1], dtype=int16)],\n",
       " [3167,\n",
       "  '..\\\\data\\\\TrainingSet\\\\labels\\\\hippocampus_233.nii.gz',\n",
       "  array([ 3, 33, 51, 37,  1,  1,  1,  1], dtype=int16)],\n",
       " [3216,\n",
       "  '..\\\\data\\\\TrainingSet\\\\labels\\\\hippocampus_234.nii.gz',\n",
       "  array([ 3, 38, 49, 36,  1,  1,  1,  1], dtype=int16)],\n",
       " [3040,\n",
       "  '..\\\\data\\\\TrainingSet\\\\labels\\\\hippocampus_235.nii.gz',\n",
       "  array([ 3, 37, 58, 35,  1,  1,  1,  1], dtype=int16)],\n",
       " [3089,\n",
       "  '..\\\\data\\\\TrainingSet\\\\labels\\\\hippocampus_236.nii.gz',\n",
       "  array([ 3, 37, 57, 35,  1,  1,  1,  1], dtype=int16)],\n",
       " [3987,\n",
       "  '..\\\\data\\\\TrainingSet\\\\labels\\\\hippocampus_238.nii.gz',\n",
       "  array([ 3, 37, 56, 36,  1,  1,  1,  1], dtype=int16)],\n",
       " [4383,\n",
       "  '..\\\\data\\\\TrainingSet\\\\labels\\\\hippocampus_242.nii.gz',\n",
       "  array([ 3, 38, 52, 34,  1,  1,  1,  1], dtype=int16)],\n",
       " [2956,\n",
       "  '..\\\\data\\\\TrainingSet\\\\labels\\\\hippocampus_243.nii.gz',\n",
       "  array([ 3, 34, 53, 24,  1,  1,  1,  1], dtype=int16)],\n",
       " [3208,\n",
       "  '..\\\\data\\\\TrainingSet\\\\labels\\\\hippocampus_244.nii.gz',\n",
       "  array([ 3, 38, 53, 30,  1,  1,  1,  1], dtype=int16)],\n",
       " [3325,\n",
       "  '..\\\\data\\\\TrainingSet\\\\labels\\\\hippocampus_245.nii.gz',\n",
       "  array([ 3, 35, 48, 42,  1,  1,  1,  1], dtype=int16)],\n",
       " [3438,\n",
       "  '..\\\\data\\\\TrainingSet\\\\labels\\\\hippocampus_248.nii.gz',\n",
       "  array([ 3, 36, 50, 38,  1,  1,  1,  1], dtype=int16)],\n",
       " [3349,\n",
       "  '..\\\\data\\\\TrainingSet\\\\labels\\\\hippocampus_249.nii.gz',\n",
       "  array([ 3, 32, 52, 34,  1,  1,  1,  1], dtype=int16)],\n",
       " [3431,\n",
       "  '..\\\\data\\\\TrainingSet\\\\labels\\\\hippocampus_250.nii.gz',\n",
       "  array([ 3, 35, 51, 36,  1,  1,  1,  1], dtype=int16)],\n",
       " [3575,\n",
       "  '..\\\\data\\\\TrainingSet\\\\labels\\\\hippocampus_251.nii.gz',\n",
       "  array([ 3, 36, 58, 28,  1,  1,  1,  1], dtype=int16)],\n",
       " [3575,\n",
       "  '..\\\\data\\\\TrainingSet\\\\labels\\\\hippocampus_252.nii.gz',\n",
       "  array([ 3, 37, 55, 26,  1,  1,  1,  1], dtype=int16)],\n",
       " [3823,\n",
       "  '..\\\\data\\\\TrainingSet\\\\labels\\\\hippocampus_253.nii.gz',\n",
       "  array([ 3, 34, 51, 31,  1,  1,  1,  1], dtype=int16)],\n",
       " [2863,\n",
       "  '..\\\\data\\\\TrainingSet\\\\labels\\\\hippocampus_257.nii.gz',\n",
       "  array([ 3, 34, 51, 33,  1,  1,  1,  1], dtype=int16)],\n",
       " [2920,\n",
       "  '..\\\\data\\\\TrainingSet\\\\labels\\\\hippocampus_259.nii.gz',\n",
       "  array([ 3, 33, 51, 28,  1,  1,  1,  1], dtype=int16)],\n",
       " [3097,\n",
       "  '..\\\\data\\\\TrainingSet\\\\labels\\\\hippocampus_260.nii.gz',\n",
       "  array([ 3, 35, 53, 29,  1,  1,  1,  1], dtype=int16)],\n",
       " [4071,\n",
       "  '..\\\\data\\\\TrainingSet\\\\labels\\\\hippocampus_261.nii.gz',\n",
       "  array([ 3, 36, 58, 33,  1,  1,  1,  1], dtype=int16)],\n",
       " [3534,\n",
       "  '..\\\\data\\\\TrainingSet\\\\labels\\\\hippocampus_263.nii.gz',\n",
       "  array([ 3, 36, 51, 35,  1,  1,  1,  1], dtype=int16)],\n",
       " [3842,\n",
       "  '..\\\\data\\\\TrainingSet\\\\labels\\\\hippocampus_264.nii.gz',\n",
       "  array([ 3, 38, 51, 37,  1,  1,  1,  1], dtype=int16)],\n",
       " [3109,\n",
       "  '..\\\\data\\\\TrainingSet\\\\labels\\\\hippocampus_265.nii.gz',\n",
       "  array([ 3, 31, 54, 34,  1,  1,  1,  1], dtype=int16)],\n",
       " [3054,\n",
       "  '..\\\\data\\\\TrainingSet\\\\labels\\\\hippocampus_268.nii.gz',\n",
       "  array([ 3, 34, 51, 37,  1,  1,  1,  1], dtype=int16)],\n",
       " [3439,\n",
       "  '..\\\\data\\\\TrainingSet\\\\labels\\\\hippocampus_269.nii.gz',\n",
       "  array([ 3, 35, 49, 37,  1,  1,  1,  1], dtype=int16)],\n",
       " [2665,\n",
       "  '..\\\\data\\\\TrainingSet\\\\labels\\\\hippocampus_274.nii.gz',\n",
       "  array([ 3, 35, 40, 40,  1,  1,  1,  1], dtype=int16)],\n",
       " [3643,\n",
       "  '..\\\\data\\\\TrainingSet\\\\labels\\\\hippocampus_276.nii.gz',\n",
       "  array([ 3, 35, 50, 33,  1,  1,  1,  1], dtype=int16)],\n",
       " [3304,\n",
       "  '..\\\\data\\\\TrainingSet\\\\labels\\\\hippocampus_277.nii.gz',\n",
       "  array([ 3, 33, 59, 29,  1,  1,  1,  1], dtype=int16)],\n",
       " [2382,\n",
       "  '..\\\\data\\\\TrainingSet\\\\labels\\\\hippocampus_279.nii.gz',\n",
       "  array([ 3, 34, 50, 32,  1,  1,  1,  1], dtype=int16)],\n",
       " [2613,\n",
       "  '..\\\\data\\\\TrainingSet\\\\labels\\\\hippocampus_280.nii.gz',\n",
       "  array([ 3, 37, 47, 32,  1,  1,  1,  1], dtype=int16)],\n",
       " [20702,\n",
       "  '..\\\\data\\\\TrainingSet\\\\labels\\\\hippocampus_281.nii.gz',\n",
       "  array([  3, 512, 512,  94,   1,   1,   1,   1], dtype=int16)],\n",
       " [2416,\n",
       "  '..\\\\data\\\\TrainingSet\\\\labels\\\\hippocampus_282.nii.gz',\n",
       "  array([ 3, 37, 52, 32,  1,  1,  1,  1], dtype=int16)],\n",
       " [3172,\n",
       "  '..\\\\data\\\\TrainingSet\\\\labels\\\\hippocampus_286.nii.gz',\n",
       "  array([ 3, 37, 45, 46,  1,  1,  1,  1], dtype=int16)],\n",
       " [3700,\n",
       "  '..\\\\data\\\\TrainingSet\\\\labels\\\\hippocampus_287.nii.gz',\n",
       "  array([ 3, 37, 50, 39,  1,  1,  1,  1], dtype=int16)],\n",
       " [3845,\n",
       "  '..\\\\data\\\\TrainingSet\\\\labels\\\\hippocampus_288.nii.gz',\n",
       "  array([ 3, 38, 50, 42,  1,  1,  1,  1], dtype=int16)],\n",
       " [2738,\n",
       "  '..\\\\data\\\\TrainingSet\\\\labels\\\\hippocampus_289.nii.gz',\n",
       "  array([ 3, 35, 49, 36,  1,  1,  1,  1], dtype=int16)],\n",
       " [3167,\n",
       "  '..\\\\data\\\\TrainingSet\\\\labels\\\\hippocampus_290.nii.gz',\n",
       "  array([ 3, 35, 49, 40,  1,  1,  1,  1], dtype=int16)],\n",
       " [3479,\n",
       "  '..\\\\data\\\\TrainingSet\\\\labels\\\\hippocampus_292.nii.gz',\n",
       "  array([ 3, 38, 52, 33,  1,  1,  1,  1], dtype=int16)],\n",
       " [3248,\n",
       "  '..\\\\data\\\\TrainingSet\\\\labels\\\\hippocampus_294.nii.gz',\n",
       "  array([ 3, 35, 44, 44,  1,  1,  1,  1], dtype=int16)],\n",
       " [3628,\n",
       "  '..\\\\data\\\\TrainingSet\\\\labels\\\\hippocampus_295.nii.gz',\n",
       "  array([ 3, 35, 53, 36,  1,  1,  1,  1], dtype=int16)],\n",
       " [3918,\n",
       "  '..\\\\data\\\\TrainingSet\\\\labels\\\\hippocampus_296.nii.gz',\n",
       "  array([ 3, 35, 54, 35,  1,  1,  1,  1], dtype=int16)],\n",
       " [2786,\n",
       "  '..\\\\data\\\\TrainingSet\\\\labels\\\\hippocampus_297.nii.gz',\n",
       "  array([ 3, 34, 51, 30,  1,  1,  1,  1], dtype=int16)],\n",
       " [2857,\n",
       "  '..\\\\data\\\\TrainingSet\\\\labels\\\\hippocampus_298.nii.gz',\n",
       "  array([ 3, 37, 50, 33,  1,  1,  1,  1], dtype=int16)],\n",
       " [3202,\n",
       "  '..\\\\data\\\\TrainingSet\\\\labels\\\\hippocampus_299.nii.gz',\n",
       "  array([ 3, 32, 54, 34,  1,  1,  1,  1], dtype=int16)],\n",
       " [3404,\n",
       "  '..\\\\data\\\\TrainingSet\\\\labels\\\\hippocampus_300.nii.gz',\n",
       "  array([ 3, 34, 53, 35,  1,  1,  1,  1], dtype=int16)],\n",
       " [3460,\n",
       "  '..\\\\data\\\\TrainingSet\\\\labels\\\\hippocampus_301.nii.gz',\n",
       "  array([ 3, 31, 50, 36,  1,  1,  1,  1], dtype=int16)],\n",
       " [3856,\n",
       "  '..\\\\data\\\\TrainingSet\\\\labels\\\\hippocampus_302.nii.gz',\n",
       "  array([ 3, 35, 46, 39,  1,  1,  1,  1], dtype=int16)],\n",
       " [3294,\n",
       "  '..\\\\data\\\\TrainingSet\\\\labels\\\\hippocampus_303.nii.gz',\n",
       "  array([ 3, 35, 48, 38,  1,  1,  1,  1], dtype=int16)],\n",
       " [3536,\n",
       "  '..\\\\data\\\\TrainingSet\\\\labels\\\\hippocampus_304.nii.gz',\n",
       "  array([ 3, 36, 48, 38,  1,  1,  1,  1], dtype=int16)],\n",
       " [3029,\n",
       "  '..\\\\data\\\\TrainingSet\\\\labels\\\\hippocampus_305.nii.gz',\n",
       "  array([ 3, 34, 49, 30,  1,  1,  1,  1], dtype=int16)],\n",
       " [3654,\n",
       "  '..\\\\data\\\\TrainingSet\\\\labels\\\\hippocampus_308.nii.gz',\n",
       "  array([ 3, 38, 48, 40,  1,  1,  1,  1], dtype=int16)],\n",
       " [3612,\n",
       "  '..\\\\data\\\\TrainingSet\\\\labels\\\\hippocampus_309.nii.gz',\n",
       "  array([ 3, 34, 52, 38,  1,  1,  1,  1], dtype=int16)],\n",
       " [3773,\n",
       "  '..\\\\data\\\\TrainingSet\\\\labels\\\\hippocampus_310.nii.gz',\n",
       "  array([ 3, 35, 52, 38,  1,  1,  1,  1], dtype=int16)],\n",
       " [3201,\n",
       "  '..\\\\data\\\\TrainingSet\\\\labels\\\\hippocampus_311.nii.gz',\n",
       "  array([ 3, 37, 49, 37,  1,  1,  1,  1], dtype=int16)],\n",
       " [2943,\n",
       "  '..\\\\data\\\\TrainingSet\\\\labels\\\\hippocampus_314.nii.gz',\n",
       "  array([ 3, 37, 53, 33,  1,  1,  1,  1], dtype=int16)],\n",
       " [3095,\n",
       "  '..\\\\data\\\\TrainingSet\\\\labels\\\\hippocampus_316.nii.gz',\n",
       "  array([ 3, 37, 51, 33,  1,  1,  1,  1], dtype=int16)],\n",
       " [3285,\n",
       "  '..\\\\data\\\\TrainingSet\\\\labels\\\\hippocampus_317.nii.gz',\n",
       "  array([ 3, 33, 51, 34,  1,  1,  1,  1], dtype=int16)],\n",
       " [3516,\n",
       "  '..\\\\data\\\\TrainingSet\\\\labels\\\\hippocampus_318.nii.gz',\n",
       "  array([ 3, 37, 51, 33,  1,  1,  1,  1], dtype=int16)],\n",
       " [2422,\n",
       "  '..\\\\data\\\\TrainingSet\\\\labels\\\\hippocampus_319.nii.gz',\n",
       "  array([ 3, 33, 48, 34,  1,  1,  1,  1], dtype=int16)],\n",
       " [2451,\n",
       "  '..\\\\data\\\\TrainingSet\\\\labels\\\\hippocampus_320.nii.gz',\n",
       "  array([ 3, 33, 47, 34,  1,  1,  1,  1], dtype=int16)],\n",
       " [2950,\n",
       "  '..\\\\data\\\\TrainingSet\\\\labels\\\\hippocampus_321.nii.gz',\n",
       "  array([ 3, 34, 46, 34,  1,  1,  1,  1], dtype=int16)],\n",
       " [3450,\n",
       "  '..\\\\data\\\\TrainingSet\\\\labels\\\\hippocampus_322.nii.gz',\n",
       "  array([ 3, 38, 47, 37,  1,  1,  1,  1], dtype=int16)],\n",
       " [3834,\n",
       "  '..\\\\data\\\\TrainingSet\\\\labels\\\\hippocampus_325.nii.gz',\n",
       "  array([ 3, 35, 51, 40,  1,  1,  1,  1], dtype=int16)],\n",
       " [3983,\n",
       "  '..\\\\data\\\\TrainingSet\\\\labels\\\\hippocampus_326.nii.gz',\n",
       "  array([ 3, 36, 49, 41,  1,  1,  1,  1], dtype=int16)],\n",
       " [3643,\n",
       "  '..\\\\data\\\\TrainingSet\\\\labels\\\\hippocampus_327.nii.gz',\n",
       "  array([ 3, 36, 54, 27,  1,  1,  1,  1], dtype=int16)],\n",
       " [3957,\n",
       "  '..\\\\data\\\\TrainingSet\\\\labels\\\\hippocampus_328.nii.gz',\n",
       "  array([ 3, 38, 54, 30,  1,  1,  1,  1], dtype=int16)],\n",
       " [3675,\n",
       "  '..\\\\data\\\\TrainingSet\\\\labels\\\\hippocampus_329.nii.gz',\n",
       "  array([ 3, 34, 53, 32,  1,  1,  1,  1], dtype=int16)],\n",
       " [3997,\n",
       "  '..\\\\data\\\\TrainingSet\\\\labels\\\\hippocampus_330.nii.gz',\n",
       "  array([ 3, 35, 55, 33,  1,  1,  1,  1], dtype=int16)],\n",
       " [3194,\n",
       "  '..\\\\data\\\\TrainingSet\\\\labels\\\\hippocampus_331.nii.gz',\n",
       "  array([ 3, 35, 52, 33,  1,  1,  1,  1], dtype=int16)],\n",
       " [3327,\n",
       "  '..\\\\data\\\\TrainingSet\\\\labels\\\\hippocampus_332.nii.gz',\n",
       "  array([ 3, 35, 52, 33,  1,  1,  1,  1], dtype=int16)],\n",
       " [2635,\n",
       "  '..\\\\data\\\\TrainingSet\\\\labels\\\\hippocampus_333.nii.gz',\n",
       "  array([ 3, 33, 46, 38,  1,  1,  1,  1], dtype=int16)],\n",
       " [2678,\n",
       "  '..\\\\data\\\\TrainingSet\\\\labels\\\\hippocampus_334.nii.gz',\n",
       "  array([ 3, 34, 47, 36,  1,  1,  1,  1], dtype=int16)],\n",
       " [2532,\n",
       "  '..\\\\data\\\\TrainingSet\\\\labels\\\\hippocampus_335.nii.gz',\n",
       "  array([ 3, 32, 47, 41,  1,  1,  1,  1], dtype=int16)],\n",
       " [2593,\n",
       "  '..\\\\data\\\\TrainingSet\\\\labels\\\\hippocampus_336.nii.gz',\n",
       "  array([ 3, 34, 47, 43,  1,  1,  1,  1], dtype=int16)],\n",
       " [3253,\n",
       "  '..\\\\data\\\\TrainingSet\\\\labels\\\\hippocampus_337.nii.gz',\n",
       "  array([ 3, 33, 44, 41,  1,  1,  1,  1], dtype=int16)],\n",
       " [3623,\n",
       "  '..\\\\data\\\\TrainingSet\\\\labels\\\\hippocampus_338.nii.gz',\n",
       "  array([ 3, 37, 43, 43,  1,  1,  1,  1], dtype=int16)],\n",
       " [3210,\n",
       "  '..\\\\data\\\\TrainingSet\\\\labels\\\\hippocampus_340.nii.gz',\n",
       "  array([ 3, 35, 46, 38,  1,  1,  1,  1], dtype=int16)],\n",
       " [2588,\n",
       "  '..\\\\data\\\\TrainingSet\\\\labels\\\\hippocampus_341.nii.gz',\n",
       "  array([ 3, 34, 48, 35,  1,  1,  1,  1], dtype=int16)],\n",
       " [2618,\n",
       "  '..\\\\data\\\\TrainingSet\\\\labels\\\\hippocampus_343.nii.gz',\n",
       "  array([ 3, 32, 45, 38,  1,  1,  1,  1], dtype=int16)],\n",
       " [2980,\n",
       "  '..\\\\data\\\\TrainingSet\\\\labels\\\\hippocampus_345.nii.gz',\n",
       "  array([ 3, 32, 49, 30,  1,  1,  1,  1], dtype=int16)],\n",
       " [2590,\n",
       "  '..\\\\data\\\\TrainingSet\\\\labels\\\\hippocampus_349.nii.gz',\n",
       "  array([ 3, 34, 50, 34,  1,  1,  1,  1], dtype=int16)],\n",
       " [2942,\n",
       "  '..\\\\data\\\\TrainingSet\\\\labels\\\\hippocampus_350.nii.gz',\n",
       "  array([ 3, 35, 49, 34,  1,  1,  1,  1], dtype=int16)],\n",
       " [3724,\n",
       "  '..\\\\data\\\\TrainingSet\\\\labels\\\\hippocampus_351.nii.gz',\n",
       "  array([ 3, 35, 51, 35,  1,  1,  1,  1], dtype=int16)],\n",
       " [3679,\n",
       "  '..\\\\data\\\\TrainingSet\\\\labels\\\\hippocampus_352.nii.gz',\n",
       "  array([ 3, 38, 51, 35,  1,  1,  1,  1], dtype=int16)],\n",
       " [2755,\n",
       "  '..\\\\data\\\\TrainingSet\\\\labels\\\\hippocampus_353.nii.gz',\n",
       "  array([ 3, 32, 51, 31,  1,  1,  1,  1], dtype=int16)],\n",
       " [2912,\n",
       "  '..\\\\data\\\\TrainingSet\\\\labels\\\\hippocampus_354.nii.gz',\n",
       "  array([ 3, 36, 50, 32,  1,  1,  1,  1], dtype=int16)],\n",
       " [3335,\n",
       "  '..\\\\data\\\\TrainingSet\\\\labels\\\\hippocampus_355.nii.gz',\n",
       "  array([ 3, 33, 47, 38,  1,  1,  1,  1], dtype=int16)],\n",
       " [3496,\n",
       "  '..\\\\data\\\\TrainingSet\\\\labels\\\\hippocampus_356.nii.gz',\n",
       "  array([ 3, 36, 51, 37,  1,  1,  1,  1], dtype=int16)],\n",
       " [2887,\n",
       "  '..\\\\data\\\\TrainingSet\\\\labels\\\\hippocampus_358.nii.gz',\n",
       "  array([ 3, 35, 50, 34,  1,  1,  1,  1], dtype=int16)],\n",
       " [2634,\n",
       "  '..\\\\data\\\\TrainingSet\\\\labels\\\\hippocampus_359.nii.gz',\n",
       "  array([ 3, 35, 49, 35,  1,  1,  1,  1], dtype=int16)],\n",
       " [2931,\n",
       "  '..\\\\data\\\\TrainingSet\\\\labels\\\\hippocampus_360.nii.gz',\n",
       "  array([ 3, 34, 49, 37,  1,  1,  1,  1], dtype=int16)],\n",
       " [3105,\n",
       "  '..\\\\data\\\\TrainingSet\\\\labels\\\\hippocampus_361.nii.gz',\n",
       "  array([ 3, 36, 50, 33,  1,  1,  1,  1], dtype=int16)],\n",
       " [3506,\n",
       "  '..\\\\data\\\\TrainingSet\\\\labels\\\\hippocampus_363.nii.gz',\n",
       "  array([ 3, 38, 52, 35,  1,  1,  1,  1], dtype=int16)],\n",
       " [3979,\n",
       "  '..\\\\data\\\\TrainingSet\\\\labels\\\\hippocampus_366.nii.gz',\n",
       "  array([ 3, 37, 47, 34,  1,  1,  1,  1], dtype=int16)],\n",
       " [4151,\n",
       "  '..\\\\data\\\\TrainingSet\\\\labels\\\\hippocampus_367.nii.gz',\n",
       "  array([ 3, 36, 57, 37,  1,  1,  1,  1], dtype=int16)],\n",
       " [4401,\n",
       "  '..\\\\data\\\\TrainingSet\\\\labels\\\\hippocampus_368.nii.gz',\n",
       "  array([ 3, 38, 55, 40,  1,  1,  1,  1], dtype=int16)],\n",
       " [3398,\n",
       "  '..\\\\data\\\\TrainingSet\\\\labels\\\\hippocampus_370.nii.gz',\n",
       "  array([ 3, 35, 50, 36,  1,  1,  1,  1], dtype=int16)],\n",
       " [3483,\n",
       "  '..\\\\data\\\\TrainingSet\\\\labels\\\\hippocampus_372.nii.gz',\n",
       "  array([ 3, 36, 50, 34,  1,  1,  1,  1], dtype=int16)],\n",
       " [3689,\n",
       "  '..\\\\data\\\\TrainingSet\\\\labels\\\\hippocampus_373.nii.gz',\n",
       "  array([ 3, 34, 49, 35,  1,  1,  1,  1], dtype=int16)],\n",
       " [3877,\n",
       "  '..\\\\data\\\\TrainingSet\\\\labels\\\\hippocampus_374.nii.gz',\n",
       "  array([ 3, 38, 48, 39,  1,  1,  1,  1], dtype=int16)],\n",
       " [3222,\n",
       "  '..\\\\data\\\\TrainingSet\\\\labels\\\\hippocampus_375.nii.gz',\n",
       "  array([ 3, 32, 54, 34,  1,  1,  1,  1], dtype=int16)],\n",
       " [3581,\n",
       "  '..\\\\data\\\\TrainingSet\\\\labels\\\\hippocampus_376.nii.gz',\n",
       "  array([ 3, 35, 55, 37,  1,  1,  1,  1], dtype=int16)],\n",
       " [2757,\n",
       "  '..\\\\data\\\\TrainingSet\\\\labels\\\\hippocampus_378.nii.gz',\n",
       "  array([ 3, 35, 52, 34,  1,  1,  1,  1], dtype=int16)],\n",
       " [3435,\n",
       "  '..\\\\data\\\\TrainingSet\\\\labels\\\\hippocampus_380.nii.gz',\n",
       "  array([ 3, 35, 46, 42,  1,  1,  1,  1], dtype=int16)],\n",
       " [3152,\n",
       "  '..\\\\data\\\\TrainingSet\\\\labels\\\\hippocampus_381.nii.gz',\n",
       "  array([ 3, 33, 49, 37,  1,  1,  1,  1], dtype=int16)],\n",
       " [3420,\n",
       "  '..\\\\data\\\\TrainingSet\\\\labels\\\\hippocampus_383.nii.gz',\n",
       "  array([ 3, 33, 55, 29,  1,  1,  1,  1], dtype=int16)],\n",
       " [3397,\n",
       "  '..\\\\data\\\\TrainingSet\\\\labels\\\\hippocampus_385.nii.gz',\n",
       "  array([ 3, 35, 48, 40,  1,  1,  1,  1], dtype=int16)],\n",
       " [3208,\n",
       "  '..\\\\data\\\\TrainingSet\\\\labels\\\\hippocampus_386.nii.gz',\n",
       "  array([ 3, 37, 45, 40,  1,  1,  1,  1], dtype=int16)],\n",
       " [3080,\n",
       "  '..\\\\data\\\\TrainingSet\\\\labels\\\\hippocampus_387.nii.gz',\n",
       "  array([ 3, 33, 51, 32,  1,  1,  1,  1], dtype=int16)],\n",
       " [2947,\n",
       "  '..\\\\data\\\\TrainingSet\\\\labels\\\\hippocampus_389.nii.gz',\n",
       "  array([ 3, 34, 49, 32,  1,  1,  1,  1], dtype=int16)],\n",
       " [3252,\n",
       "  '..\\\\data\\\\TrainingSet\\\\labels\\\\hippocampus_390.nii.gz',\n",
       "  array([ 3, 38, 51, 33,  1,  1,  1,  1], dtype=int16)],\n",
       " [3682,\n",
       "  '..\\\\data\\\\TrainingSet\\\\labels\\\\hippocampus_393.nii.gz',\n",
       "  array([ 3, 36, 51, 31,  1,  1,  1,  1], dtype=int16)],\n",
       " [3814,\n",
       "  '..\\\\data\\\\TrainingSet\\\\labels\\\\hippocampus_394.nii.gz',\n",
       "  array([ 3, 36, 52, 32,  1,  1,  1,  1], dtype=int16)]]"
      ]
     },
     "execution_count": 244,
     "metadata": {},
     "output_type": "execute_result"
    }
   ],
   "source": [
    "train_set"
   ]
  },
  {
   "cell_type": "markdown",
   "metadata": {},
   "source": [
    "<img src=\"img/nomogram_fem_right.svg\" width=400 align=left>"
   ]
  },
  {
   "cell_type": "markdown",
   "metadata": {},
   "source": [
    "Do you see any outliers? Why do you think it's so (might be not immediately obvious, but it's always a good idea to inspect) outliers closer. If you haven't found the images that do not belong, the histogram may help you."
   ]
  },
  {
   "cell_type": "code",
   "execution_count": 245,
   "metadata": {},
   "outputs": [
    {
     "name": "stdout",
     "output_type": "stream",
     "text": [
      "Number of hippocampus label volume greater than 4500: 1\n",
      "Number of hippocampus label volume less than 2800: 40\n",
      "Number of hippocampus label volume between 2900 and 4500 : 221\n"
     ]
    }
   ],
   "source": [
    "train_set=np.array(train_set)\n",
    "hi_outlier = []\n",
    "lo_outlier = []\n",
    "no_outlier = []\n",
    "\n",
    "for s in train_set:\n",
    "    if (int(s[0]) > 4600): \n",
    "        hi_outlier.append(s)\n",
    "    elif (int(s[0]) < 2800):\n",
    "        lo_outlier.append(s)\n",
    "    else:\n",
    "        no_outlier.append(s)\n",
    "#outlier=np.array(outlier)\n",
    "\n",
    "print(f'Number of hippocampus label volume greater than 4500: {len(hi_outlier)}')\n",
    "print(f'Number of hippocampus label volume less than 2800: {len(lo_outlier)}')\n",
    "print(f'Number of hippocampus label volume between 2900 and 4500 : {len(no_outlier)}')\n"
   ]
  },
  {
   "cell_type": "code",
   "execution_count": 246,
   "metadata": {},
   "outputs": [
    {
     "data": {
      "text/plain": [
       "[array([20702, '..\\\\data\\\\TrainingSet\\\\labels\\\\hippocampus_281.nii.gz',\n",
       "        array([  3, 512, 512,  94,   1,   1,   1,   1], dtype=int16)],\n",
       "       dtype=object)]"
      ]
     },
     "execution_count": 246,
     "metadata": {},
     "output_type": "execute_result"
    }
   ],
   "source": [
    "hi_outlier"
   ]
  },
  {
   "cell_type": "code",
   "execution_count": 158,
   "metadata": {},
   "outputs": [],
   "source": [
    "hi_outlier_label = nib.load(hi_outlier[0][1])"
   ]
  },
  {
   "cell_type": "code",
   "execution_count": 50,
   "metadata": {},
   "outputs": [
    {
     "name": "stdout",
     "output_type": "stream",
     "text": [
      "<class 'nibabel.nifti1.Nifti1Header'> object, endian='<'\n",
      "sizeof_hdr      : 348\n",
      "data_type       : b''\n",
      "db_name         : b''\n",
      "extents         : 0\n",
      "session_error   : 0\n",
      "regular         : b'r'\n",
      "dim_info        : 0\n",
      "dim             : [  3 512 512  94   1   1   1   1]\n",
      "intent_p1       : 0.0\n",
      "intent_p2       : 0.0\n",
      "intent_p3       : 0.0\n",
      "intent_code     : none\n",
      "datatype        : uint8\n",
      "bitpix          : 8\n",
      "slice_start     : 0\n",
      "pixdim          : [1.       0.734375 0.734375 5.       0.       0.       0.       0.      ]\n",
      "vox_offset      : 0.0\n",
      "scl_slope       : nan\n",
      "scl_inter       : nan\n",
      "slice_end       : 0\n",
      "slice_code      : unknown\n",
      "xyzt_units      : 10\n",
      "cal_max         : 0.0\n",
      "cal_min         : 0.0\n",
      "slice_duration  : 0.0\n",
      "toffset         : 0.0\n",
      "glmax           : 0\n",
      "glmin           : 0\n",
      "descrip         : b'5.0.10'\n",
      "aux_file        : b''\n",
      "qform_code      : scanner\n",
      "sform_code      : scanner\n",
      "quatern_b       : 0.0\n",
      "quatern_c       : 0.0\n",
      "quatern_d       : 0.0\n",
      "qoffset_x       : -375.26562\n",
      "qoffset_y       : -375.26562\n",
      "qoffset_z       : 0.0\n",
      "srow_x          : [   0.734375    0.          0.       -375.26562 ]\n",
      "srow_y          : [   0.          0.734375    0.       -375.26562 ]\n",
      "srow_z          : [0. 0. 5. 0.]\n",
      "intent_name     : b''\n",
      "magic           : b'n+1'\n"
     ]
    }
   ],
   "source": [
    "print(hi_outlier_label.header)"
   ]
  },
  {
   "cell_type": "code",
   "execution_count": 247,
   "metadata": {},
   "outputs": [
    {
     "name": "stdout",
     "output_type": "stream",
     "text": [
      "(512, 512, 94)\n",
      "[1.       0.734375 0.734375 5.       0.       0.       0.       0.      ]\n",
      "[  3 512 512  94   1   1   1   1]\n",
      "[[   0.734375    0.          0.       -375.265625]\n",
      " [   0.          0.734375    0.       -375.265625]\n",
      " [   0.          0.          5.          0.      ]\n",
      " [   0.          0.          0.          1.      ]]\n"
     ]
    },
    {
     "data": {
      "text/plain": [
       "<matplotlib.image.AxesImage at 0x218b5ba8d48>"
      ]
     },
     "execution_count": 247,
     "metadata": {},
     "output_type": "execute_result"
    },
    {
     "data": {
      "image/png": "[encoded data removed]",
      "text/plain": [
       "<Figure size 720x720 with 1 Axes>"
      ]
     },
     "metadata": {
      "needs_background": "light"
     },
     "output_type": "display_data"
    }
   ],
   "source": [
    "print(hi_outlier_label.header.get_data_shape())\n",
    "print(hi_outlier_label.header['pixdim'])\n",
    "print(hi_outlier_label.header['dim'])\n",
    "print(hi_outlier_label.header.get_sform())\n",
    "plt.imshow(nib.load(os.path.join(path, 'images', 'hippocampus_281.nii.gz')).get_fdata()[:,260,:],aspect = 94/(512*2))"
   ]
  },
  {
   "cell_type": "markdown",
   "metadata": {},
   "source": [
    "#### High Label Voxel volume Outlier has different dim, pixdim, and sform vectors.  \n",
    "#### hippocampus_281.nii.gz is not a hippocampus region"
   ]
  },
  {
   "cell_type": "markdown",
   "metadata": {},
   "source": [
    "## Labels with volume between 2900mm^3 and 4500mm^3:"
   ]
  },
  {
   "cell_type": "code",
   "execution_count": 162,
   "metadata": {},
   "outputs": [
    {
     "name": "stdout",
     "output_type": "stream",
     "text": [
      "221\n"
     ]
    }
   ],
   "source": [
    "no_outlier_shape = {}\n",
    "no_outlier_pixdim = {}\n",
    "no_outlier_dim = {}\n",
    "no_outlier_sform = {}\n",
    "no_outlier_bitpix = {}\n",
    "count = 0\n",
    "for label in no_outlier:\n",
    "    count+=1\n",
    "    fp = label[1]\n",
    "    keyshape = nib.load(fp).header.get_data_shape()\n",
    "    no_outlier_shape.setdefault(keyshape,[])\n",
    "    no_outlier_shape[keyshape].append(fp)\n",
    "    \n",
    "    keypixdim = str(nib.load(fp).header['pixdim'])\n",
    "    no_outlier_pixdim.setdefault(keypixdim,[])\n",
    "    no_outlier_pixdim[keypixdim].append(fp)\n",
    "    \n",
    "    keydim = tuple(nib.load(fp).header['dim'])\n",
    "    no_outlier_dim.setdefault(keydim,[])\n",
    "    no_outlier_dim[keydim].append(fp)\n",
    "    \n",
    "    keysf = str(nib.load(fp).header.get_sform())\n",
    "    no_outlier_sform.setdefault(keysf,[])\n",
    "    no_outlier_sform[keysf].append(fp)\n",
    "    \n",
    "    keybp = str(nib.load(fp).header['bitpix'])\n",
    "    no_outlier_bitpix.setdefault(keybp,[])\n",
    "    no_outlier_bitpix[keybp].append(fp)\n",
    "\n",
    "print(count)\n"
   ]
  },
  {
   "cell_type": "code",
   "execution_count": 163,
   "metadata": {},
   "outputs": [
    {
     "data": {
      "text/plain": [
       "dict_keys(['[1. 1. 1. 1. 1. 0. 0. 0.]'])"
      ]
     },
     "execution_count": 163,
     "metadata": {},
     "output_type": "execute_result"
    }
   ],
   "source": [
    "no_outlier_pixdim.keys()"
   ]
  },
  {
   "cell_type": "code",
   "execution_count": 164,
   "metadata": {},
   "outputs": [
    {
     "data": {
      "text/plain": [
       "array([35, 34, 36, 35, 34, 36, 36, 39, 42, 35, 36, 36, 38, 35, 36, 33, 36,\n",
       "       35, 36, 34, 37, 34, 36, 36, 37, 38, 36, 36, 38, 35, 38, 33, 34, 41,\n",
       "       34, 39, 35, 39, 36, 36, 37, 37, 32, 35, 33, 34, 35, 40, 34, 37, 36,\n",
       "       38, 34, 38, 34, 34, 37, 36, 36, 35, 33, 34, 35, 36, 36, 38, 32, 35,\n",
       "       39, 38, 35, 36, 39, 34, 36, 36, 34, 33, 37, 35, 36, 36, 38, 34, 38,\n",
       "       36, 41, 34, 36, 36, 34, 35, 34, 35, 37, 35, 33, 37, 35, 37, 35, 37,\n",
       "       35, 33, 38, 34, 36, 35, 35, 32, 38, 37, 39, 35, 37, 36, 37, 33, 34,\n",
       "       36, 33, 38, 37, 37, 37, 38, 34, 38, 35, 36, 32, 36, 37, 34, 34, 33,\n",
       "       35, 36, 31, 34, 35, 35, 33, 37, 37, 38, 35, 35, 35, 37, 32, 34, 31,\n",
       "       35, 35, 36, 34, 38, 34, 35, 37, 37, 33, 34, 38, 35, 36, 36, 38, 34,\n",
       "       35, 35, 33, 37, 35, 32, 35, 38, 36, 33, 36, 35, 36, 38, 37, 36, 38,\n",
       "       36, 34, 38, 35, 33, 33, 35, 37, 33, 34, 38, 36], dtype=int16)"
      ]
     },
     "execution_count": 164,
     "metadata": {},
     "output_type": "execute_result"
    }
   ],
   "source": [
    "dim_keys=[i for i in no_outlier_dim.keys()]\n",
    "dim_keys = np.array(dim_keys)\n",
    "dim_keys[:, 1]"
   ]
  },
  {
   "cell_type": "code",
   "execution_count": 165,
   "metadata": {},
   "outputs": [
    {
     "data": {
      "text/plain": [
       "(array([ 8., 17., 31., 41., 42., 26., 24.,  6.,  1.,  3.]),\n",
       " array([31. , 32.1, 33.2, 34.3, 35.4, 36.5, 37.6, 38.7, 39.8, 40.9, 42. ]),\n",
       " <a list of 10 Patch objects>)"
      ]
     },
     "execution_count": 165,
     "metadata": {},
     "output_type": "execute_result"
    },
    {
     "data": {
      "image/png": "[encoded data removed]",
      "text/plain": [
       "<Figure size 720x720 with 1 Axes>"
      ]
     },
     "metadata": {
      "needs_background": "light"
     },
     "output_type": "display_data"
    }
   ],
   "source": [
    "shape_keys = [(i) for i in no_outlier_shape.keys()]\n",
    "shape_keys = np.array(shape_keys)\n",
    "plt.hist(shape_keys[:,0])"
   ]
  },
  {
   "cell_type": "code",
   "execution_count": 166,
   "metadata": {},
   "outputs": [
    {
     "data": {
      "text/plain": [
       "(array([ 2.,  2.,  9., 21., 46., 47., 44., 18.,  6.,  4.]),\n",
       " array([40. , 41.9, 43.8, 45.7, 47.6, 49.5, 51.4, 53.3, 55.2, 57.1, 59. ]),\n",
       " <a list of 10 Patch objects>)"
      ]
     },
     "execution_count": 166,
     "metadata": {},
     "output_type": "execute_result"
    },
    {
     "data": {
      "image/png": "[encoded data removed]",
      "text/plain": [
       "<Figure size 720x720 with 1 Axes>"
      ]
     },
     "metadata": {
      "needs_background": "light"
     },
     "output_type": "display_data"
    }
   ],
   "source": [
    "plt.hist(shape_keys[:,1])"
   ]
  },
  {
   "cell_type": "code",
   "execution_count": 167,
   "metadata": {},
   "outputs": [
    {
     "data": {
      "text/plain": [
       "array([[36, 42, 41],\n",
       "       [36, 40, 43],\n",
       "       [39, 41, 42]])"
      ]
     },
     "execution_count": 167,
     "metadata": {},
     "output_type": "execute_result"
    }
   ],
   "source": [
    "shape_keys[shape_keys[:,1]<42.5]"
   ]
  },
  {
   "cell_type": "code",
   "execution_count": 168,
   "metadata": {},
   "outputs": [
    {
     "data": {
      "text/plain": [
       "(array([ 3.,  8., 13., 36., 34., 37., 45., 13.,  7.,  3.]),\n",
       " array([24. , 26.3, 28.6, 30.9, 33.2, 35.5, 37.8, 40.1, 42.4, 44.7, 47. ]),\n",
       " <a list of 10 Patch objects>)"
      ]
     },
     "execution_count": 168,
     "metadata": {},
     "output_type": "execute_result"
    },
    {
     "data": {
      "image/png": "[encoded data removed]",
      "text/plain": [
       "<Figure size 720x720 with 1 Axes>"
      ]
     },
     "metadata": {
      "needs_background": "light"
     },
     "output_type": "display_data"
    }
   ],
   "source": [
    "plt.hist(shape_keys[:,2])"
   ]
  },
  {
   "cell_type": "code",
   "execution_count": 169,
   "metadata": {},
   "outputs": [
    {
     "data": {
      "text/plain": [
       "array([[34, 53, 24]])"
      ]
     },
     "execution_count": 169,
     "metadata": {},
     "output_type": "execute_result"
    }
   ],
   "source": [
    "shape_keys[shape_keys[:,2]<25]"
   ]
  },
  {
   "cell_type": "code",
   "execution_count": 170,
   "metadata": {},
   "outputs": [
    {
     "data": {
      "text/plain": [
       "['..\\\\data\\\\TrainingSet\\\\labels\\\\hippocampus_243.nii.gz']"
      ]
     },
     "execution_count": 170,
     "metadata": {},
     "output_type": "execute_result"
    }
   ],
   "source": [
    "no_outlier_shape[(34,53,24)]"
   ]
  },
  {
   "cell_type": "code",
   "execution_count": 248,
   "metadata": {},
   "outputs": [
    {
     "data": {
      "text/plain": [
       "<matplotlib.image.AxesImage at 0x218b6fa3fc8>"
      ]
     },
     "execution_count": 248,
     "metadata": {},
     "output_type": "execute_result"
    },
    {
     "data": {
      "image/png": "[encoded data removed]",
      "text/plain": [
       "<Figure size 720x720 with 1 Axes>"
      ]
     },
     "metadata": {
      "needs_background": "light"
     },
     "output_type": "display_data"
    }
   ],
   "source": [
    "plt.imshow(nib.load(os.path.join(path, 'images', 'hippocampus_243.nii.gz')).get_fdata()[15,:,:])"
   ]
  },
  {
   "cell_type": "code",
   "execution_count": 249,
   "metadata": {},
   "outputs": [
    {
     "data": {
      "text/plain": [
       "<matplotlib.image.AxesImage at 0x218aeed0648>"
      ]
     },
     "execution_count": 249,
     "metadata": {},
     "output_type": "execute_result"
    },
    {
     "data": {
      "image/png": "[encoded data removed]",
      "text/plain": [
       "<Figure size 720x720 with 1 Axes>"
      ]
     },
     "metadata": {
      "needs_background": "light"
     },
     "output_type": "display_data"
    }
   ],
   "source": [
    "plt.imshow(nib.load(os.path.join(path, 'labels', 'hippocampus_243.nii.gz')).get_fdata()[15,:,:])"
   ]
  },
  {
   "cell_type": "code",
   "execution_count": 178,
   "metadata": {},
   "outputs": [
    {
     "data": {
      "text/plain": [
       "{'[[1. 0. 0. 1.]\\n [0. 1. 0. 1.]\\n [0. 0. 1. 1.]\\n [0. 0. 0. 1.]]': ['..\\\\data\\\\TrainingSet\\\\labels\\\\hippocampus_001.nii.gz',\n",
       "  '..\\\\data\\\\TrainingSet\\\\labels\\\\hippocampus_003.nii.gz',\n",
       "  '..\\\\data\\\\TrainingSet\\\\labels\\\\hippocampus_004.nii.gz',\n",
       "  '..\\\\data\\\\TrainingSet\\\\labels\\\\hippocampus_006.nii.gz',\n",
       "  '..\\\\data\\\\TrainingSet\\\\labels\\\\hippocampus_007.nii.gz',\n",
       "  '..\\\\data\\\\TrainingSet\\\\labels\\\\hippocampus_008.nii.gz',\n",
       "  '..\\\\data\\\\TrainingSet\\\\labels\\\\hippocampus_010.nii.gz',\n",
       "  '..\\\\data\\\\TrainingSet\\\\labels\\\\hippocampus_011.nii.gz',\n",
       "  '..\\\\data\\\\TrainingSet\\\\labels\\\\hippocampus_014.nii.gz',\n",
       "  '..\\\\data\\\\TrainingSet\\\\labels\\\\hippocampus_015.nii.gz',\n",
       "  '..\\\\data\\\\TrainingSet\\\\labels\\\\hippocampus_017.nii.gz',\n",
       "  '..\\\\data\\\\TrainingSet\\\\labels\\\\hippocampus_019.nii.gz',\n",
       "  '..\\\\data\\\\TrainingSet\\\\labels\\\\hippocampus_020.nii.gz',\n",
       "  '..\\\\data\\\\TrainingSet\\\\labels\\\\hippocampus_023.nii.gz',\n",
       "  '..\\\\data\\\\TrainingSet\\\\labels\\\\hippocampus_024.nii.gz',\n",
       "  '..\\\\data\\\\TrainingSet\\\\labels\\\\hippocampus_025.nii.gz',\n",
       "  '..\\\\data\\\\TrainingSet\\\\labels\\\\hippocampus_026.nii.gz',\n",
       "  '..\\\\data\\\\TrainingSet\\\\labels\\\\hippocampus_033.nii.gz',\n",
       "  '..\\\\data\\\\TrainingSet\\\\labels\\\\hippocampus_034.nii.gz',\n",
       "  '..\\\\data\\\\TrainingSet\\\\labels\\\\hippocampus_035.nii.gz',\n",
       "  '..\\\\data\\\\TrainingSet\\\\labels\\\\hippocampus_036.nii.gz',\n",
       "  '..\\\\data\\\\TrainingSet\\\\labels\\\\hippocampus_037.nii.gz',\n",
       "  '..\\\\data\\\\TrainingSet\\\\labels\\\\hippocampus_038.nii.gz',\n",
       "  '..\\\\data\\\\TrainingSet\\\\labels\\\\hippocampus_041.nii.gz',\n",
       "  '..\\\\data\\\\TrainingSet\\\\labels\\\\hippocampus_042.nii.gz',\n",
       "  '..\\\\data\\\\TrainingSet\\\\labels\\\\hippocampus_044.nii.gz',\n",
       "  '..\\\\data\\\\TrainingSet\\\\labels\\\\hippocampus_045.nii.gz',\n",
       "  '..\\\\data\\\\TrainingSet\\\\labels\\\\hippocampus_046.nii.gz',\n",
       "  '..\\\\data\\\\TrainingSet\\\\labels\\\\hippocampus_048.nii.gz',\n",
       "  '..\\\\data\\\\TrainingSet\\\\labels\\\\hippocampus_049.nii.gz',\n",
       "  '..\\\\data\\\\TrainingSet\\\\labels\\\\hippocampus_050.nii.gz',\n",
       "  '..\\\\data\\\\TrainingSet\\\\labels\\\\hippocampus_051.nii.gz',\n",
       "  '..\\\\data\\\\TrainingSet\\\\labels\\\\hippocampus_052.nii.gz',\n",
       "  '..\\\\data\\\\TrainingSet\\\\labels\\\\hippocampus_053.nii.gz',\n",
       "  '..\\\\data\\\\TrainingSet\\\\labels\\\\hippocampus_056.nii.gz',\n",
       "  '..\\\\data\\\\TrainingSet\\\\labels\\\\hippocampus_058.nii.gz',\n",
       "  '..\\\\data\\\\TrainingSet\\\\labels\\\\hippocampus_060.nii.gz',\n",
       "  '..\\\\data\\\\TrainingSet\\\\labels\\\\hippocampus_064.nii.gz',\n",
       "  '..\\\\data\\\\TrainingSet\\\\labels\\\\hippocampus_065.nii.gz',\n",
       "  '..\\\\data\\\\TrainingSet\\\\labels\\\\hippocampus_067.nii.gz',\n",
       "  '..\\\\data\\\\TrainingSet\\\\labels\\\\hippocampus_068.nii.gz',\n",
       "  '..\\\\data\\\\TrainingSet\\\\labels\\\\hippocampus_070.nii.gz',\n",
       "  '..\\\\data\\\\TrainingSet\\\\labels\\\\hippocampus_075.nii.gz',\n",
       "  '..\\\\data\\\\TrainingSet\\\\labels\\\\hippocampus_077.nii.gz',\n",
       "  '..\\\\data\\\\TrainingSet\\\\labels\\\\hippocampus_083.nii.gz',\n",
       "  '..\\\\data\\\\TrainingSet\\\\labels\\\\hippocampus_084.nii.gz',\n",
       "  '..\\\\data\\\\TrainingSet\\\\labels\\\\hippocampus_087.nii.gz',\n",
       "  '..\\\\data\\\\TrainingSet\\\\labels\\\\hippocampus_088.nii.gz',\n",
       "  '..\\\\data\\\\TrainingSet\\\\labels\\\\hippocampus_089.nii.gz',\n",
       "  '..\\\\data\\\\TrainingSet\\\\labels\\\\hippocampus_090.nii.gz',\n",
       "  '..\\\\data\\\\TrainingSet\\\\labels\\\\hippocampus_091.nii.gz',\n",
       "  '..\\\\data\\\\TrainingSet\\\\labels\\\\hippocampus_092.nii.gz',\n",
       "  '..\\\\data\\\\TrainingSet\\\\labels\\\\hippocampus_095.nii.gz',\n",
       "  '..\\\\data\\\\TrainingSet\\\\labels\\\\hippocampus_096.nii.gz',\n",
       "  '..\\\\data\\\\TrainingSet\\\\labels\\\\hippocampus_098.nii.gz',\n",
       "  '..\\\\data\\\\TrainingSet\\\\labels\\\\hippocampus_101.nii.gz',\n",
       "  '..\\\\data\\\\TrainingSet\\\\labels\\\\hippocampus_102.nii.gz',\n",
       "  '..\\\\data\\\\TrainingSet\\\\labels\\\\hippocampus_104.nii.gz',\n",
       "  '..\\\\data\\\\TrainingSet\\\\labels\\\\hippocampus_105.nii.gz',\n",
       "  '..\\\\data\\\\TrainingSet\\\\labels\\\\hippocampus_106.nii.gz',\n",
       "  '..\\\\data\\\\TrainingSet\\\\labels\\\\hippocampus_107.nii.gz',\n",
       "  '..\\\\data\\\\TrainingSet\\\\labels\\\\hippocampus_108.nii.gz',\n",
       "  '..\\\\data\\\\TrainingSet\\\\labels\\\\hippocampus_109.nii.gz',\n",
       "  '..\\\\data\\\\TrainingSet\\\\labels\\\\hippocampus_114.nii.gz',\n",
       "  '..\\\\data\\\\TrainingSet\\\\labels\\\\hippocampus_123.nii.gz',\n",
       "  '..\\\\data\\\\TrainingSet\\\\labels\\\\hippocampus_124.nii.gz',\n",
       "  '..\\\\data\\\\TrainingSet\\\\labels\\\\hippocampus_126.nii.gz',\n",
       "  '..\\\\data\\\\TrainingSet\\\\labels\\\\hippocampus_127.nii.gz',\n",
       "  '..\\\\data\\\\TrainingSet\\\\labels\\\\hippocampus_130.nii.gz',\n",
       "  '..\\\\data\\\\TrainingSet\\\\labels\\\\hippocampus_132.nii.gz',\n",
       "  '..\\\\data\\\\TrainingSet\\\\labels\\\\hippocampus_133.nii.gz',\n",
       "  '..\\\\data\\\\TrainingSet\\\\labels\\\\hippocampus_136.nii.gz',\n",
       "  '..\\\\data\\\\TrainingSet\\\\labels\\\\hippocampus_145.nii.gz',\n",
       "  '..\\\\data\\\\TrainingSet\\\\labels\\\\hippocampus_146.nii.gz',\n",
       "  '..\\\\data\\\\TrainingSet\\\\labels\\\\hippocampus_148.nii.gz',\n",
       "  '..\\\\data\\\\TrainingSet\\\\labels\\\\hippocampus_149.nii.gz',\n",
       "  '..\\\\data\\\\TrainingSet\\\\labels\\\\hippocampus_150.nii.gz',\n",
       "  '..\\\\data\\\\TrainingSet\\\\labels\\\\hippocampus_152.nii.gz',\n",
       "  '..\\\\data\\\\TrainingSet\\\\labels\\\\hippocampus_154.nii.gz',\n",
       "  '..\\\\data\\\\TrainingSet\\\\labels\\\\hippocampus_155.nii.gz',\n",
       "  '..\\\\data\\\\TrainingSet\\\\labels\\\\hippocampus_156.nii.gz',\n",
       "  '..\\\\data\\\\TrainingSet\\\\labels\\\\hippocampus_157.nii.gz',\n",
       "  '..\\\\data\\\\TrainingSet\\\\labels\\\\hippocampus_158.nii.gz',\n",
       "  '..\\\\data\\\\TrainingSet\\\\labels\\\\hippocampus_160.nii.gz',\n",
       "  '..\\\\data\\\\TrainingSet\\\\labels\\\\hippocampus_161.nii.gz',\n",
       "  '..\\\\data\\\\TrainingSet\\\\labels\\\\hippocampus_162.nii.gz',\n",
       "  '..\\\\data\\\\TrainingSet\\\\labels\\\\hippocampus_163.nii.gz',\n",
       "  '..\\\\data\\\\TrainingSet\\\\labels\\\\hippocampus_164.nii.gz',\n",
       "  '..\\\\data\\\\TrainingSet\\\\labels\\\\hippocampus_165.nii.gz',\n",
       "  '..\\\\data\\\\TrainingSet\\\\labels\\\\hippocampus_166.nii.gz',\n",
       "  '..\\\\data\\\\TrainingSet\\\\labels\\\\hippocampus_169.nii.gz',\n",
       "  '..\\\\data\\\\TrainingSet\\\\labels\\\\hippocampus_170.nii.gz',\n",
       "  '..\\\\data\\\\TrainingSet\\\\labels\\\\hippocampus_171.nii.gz',\n",
       "  '..\\\\data\\\\TrainingSet\\\\labels\\\\hippocampus_172.nii.gz',\n",
       "  '..\\\\data\\\\TrainingSet\\\\labels\\\\hippocampus_173.nii.gz',\n",
       "  '..\\\\data\\\\TrainingSet\\\\labels\\\\hippocampus_174.nii.gz',\n",
       "  '..\\\\data\\\\TrainingSet\\\\labels\\\\hippocampus_176.nii.gz',\n",
       "  '..\\\\data\\\\TrainingSet\\\\labels\\\\hippocampus_181.nii.gz',\n",
       "  '..\\\\data\\\\TrainingSet\\\\labels\\\\hippocampus_184.nii.gz',\n",
       "  '..\\\\data\\\\TrainingSet\\\\labels\\\\hippocampus_185.nii.gz',\n",
       "  '..\\\\data\\\\TrainingSet\\\\labels\\\\hippocampus_188.nii.gz',\n",
       "  '..\\\\data\\\\TrainingSet\\\\labels\\\\hippocampus_189.nii.gz',\n",
       "  '..\\\\data\\\\TrainingSet\\\\labels\\\\hippocampus_190.nii.gz',\n",
       "  '..\\\\data\\\\TrainingSet\\\\labels\\\\hippocampus_194.nii.gz',\n",
       "  '..\\\\data\\\\TrainingSet\\\\labels\\\\hippocampus_195.nii.gz',\n",
       "  '..\\\\data\\\\TrainingSet\\\\labels\\\\hippocampus_197.nii.gz',\n",
       "  '..\\\\data\\\\TrainingSet\\\\labels\\\\hippocampus_203.nii.gz',\n",
       "  '..\\\\data\\\\TrainingSet\\\\labels\\\\hippocampus_204.nii.gz',\n",
       "  '..\\\\data\\\\TrainingSet\\\\labels\\\\hippocampus_207.nii.gz',\n",
       "  '..\\\\data\\\\TrainingSet\\\\labels\\\\hippocampus_210.nii.gz',\n",
       "  '..\\\\data\\\\TrainingSet\\\\labels\\\\hippocampus_212.nii.gz',\n",
       "  '..\\\\data\\\\TrainingSet\\\\labels\\\\hippocampus_215.nii.gz',\n",
       "  '..\\\\data\\\\TrainingSet\\\\labels\\\\hippocampus_216.nii.gz',\n",
       "  '..\\\\data\\\\TrainingSet\\\\labels\\\\hippocampus_217.nii.gz',\n",
       "  '..\\\\data\\\\TrainingSet\\\\labels\\\\hippocampus_219.nii.gz',\n",
       "  '..\\\\data\\\\TrainingSet\\\\labels\\\\hippocampus_220.nii.gz',\n",
       "  '..\\\\data\\\\TrainingSet\\\\labels\\\\hippocampus_223.nii.gz',\n",
       "  '..\\\\data\\\\TrainingSet\\\\labels\\\\hippocampus_224.nii.gz',\n",
       "  '..\\\\data\\\\TrainingSet\\\\labels\\\\hippocampus_227.nii.gz',\n",
       "  '..\\\\data\\\\TrainingSet\\\\labels\\\\hippocampus_228.nii.gz',\n",
       "  '..\\\\data\\\\TrainingSet\\\\labels\\\\hippocampus_229.nii.gz',\n",
       "  '..\\\\data\\\\TrainingSet\\\\labels\\\\hippocampus_230.nii.gz',\n",
       "  '..\\\\data\\\\TrainingSet\\\\labels\\\\hippocampus_232.nii.gz',\n",
       "  '..\\\\data\\\\TrainingSet\\\\labels\\\\hippocampus_233.nii.gz',\n",
       "  '..\\\\data\\\\TrainingSet\\\\labels\\\\hippocampus_234.nii.gz',\n",
       "  '..\\\\data\\\\TrainingSet\\\\labels\\\\hippocampus_235.nii.gz',\n",
       "  '..\\\\data\\\\TrainingSet\\\\labels\\\\hippocampus_236.nii.gz',\n",
       "  '..\\\\data\\\\TrainingSet\\\\labels\\\\hippocampus_238.nii.gz',\n",
       "  '..\\\\data\\\\TrainingSet\\\\labels\\\\hippocampus_242.nii.gz',\n",
       "  '..\\\\data\\\\TrainingSet\\\\labels\\\\hippocampus_243.nii.gz',\n",
       "  '..\\\\data\\\\TrainingSet\\\\labels\\\\hippocampus_244.nii.gz',\n",
       "  '..\\\\data\\\\TrainingSet\\\\labels\\\\hippocampus_248.nii.gz',\n",
       "  '..\\\\data\\\\TrainingSet\\\\labels\\\\hippocampus_249.nii.gz',\n",
       "  '..\\\\data\\\\TrainingSet\\\\labels\\\\hippocampus_250.nii.gz',\n",
       "  '..\\\\data\\\\TrainingSet\\\\labels\\\\hippocampus_251.nii.gz',\n",
       "  '..\\\\data\\\\TrainingSet\\\\labels\\\\hippocampus_252.nii.gz',\n",
       "  '..\\\\data\\\\TrainingSet\\\\labels\\\\hippocampus_257.nii.gz',\n",
       "  '..\\\\data\\\\TrainingSet\\\\labels\\\\hippocampus_259.nii.gz',\n",
       "  '..\\\\data\\\\TrainingSet\\\\labels\\\\hippocampus_260.nii.gz',\n",
       "  '..\\\\data\\\\TrainingSet\\\\labels\\\\hippocampus_261.nii.gz',\n",
       "  '..\\\\data\\\\TrainingSet\\\\labels\\\\hippocampus_263.nii.gz',\n",
       "  '..\\\\data\\\\TrainingSet\\\\labels\\\\hippocampus_264.nii.gz',\n",
       "  '..\\\\data\\\\TrainingSet\\\\labels\\\\hippocampus_265.nii.gz',\n",
       "  '..\\\\data\\\\TrainingSet\\\\labels\\\\hippocampus_269.nii.gz',\n",
       "  '..\\\\data\\\\TrainingSet\\\\labels\\\\hippocampus_276.nii.gz',\n",
       "  '..\\\\data\\\\TrainingSet\\\\labels\\\\hippocampus_277.nii.gz',\n",
       "  '..\\\\data\\\\TrainingSet\\\\labels\\\\hippocampus_286.nii.gz',\n",
       "  '..\\\\data\\\\TrainingSet\\\\labels\\\\hippocampus_287.nii.gz',\n",
       "  '..\\\\data\\\\TrainingSet\\\\labels\\\\hippocampus_288.nii.gz',\n",
       "  '..\\\\data\\\\TrainingSet\\\\labels\\\\hippocampus_290.nii.gz',\n",
       "  '..\\\\data\\\\TrainingSet\\\\labels\\\\hippocampus_292.nii.gz',\n",
       "  '..\\\\data\\\\TrainingSet\\\\labels\\\\hippocampus_294.nii.gz',\n",
       "  '..\\\\data\\\\TrainingSet\\\\labels\\\\hippocampus_295.nii.gz',\n",
       "  '..\\\\data\\\\TrainingSet\\\\labels\\\\hippocampus_296.nii.gz',\n",
       "  '..\\\\data\\\\TrainingSet\\\\labels\\\\hippocampus_298.nii.gz',\n",
       "  '..\\\\data\\\\TrainingSet\\\\labels\\\\hippocampus_299.nii.gz',\n",
       "  '..\\\\data\\\\TrainingSet\\\\labels\\\\hippocampus_300.nii.gz',\n",
       "  '..\\\\data\\\\TrainingSet\\\\labels\\\\hippocampus_303.nii.gz',\n",
       "  '..\\\\data\\\\TrainingSet\\\\labels\\\\hippocampus_304.nii.gz',\n",
       "  '..\\\\data\\\\TrainingSet\\\\labels\\\\hippocampus_308.nii.gz',\n",
       "  '..\\\\data\\\\TrainingSet\\\\labels\\\\hippocampus_309.nii.gz',\n",
       "  '..\\\\data\\\\TrainingSet\\\\labels\\\\hippocampus_310.nii.gz',\n",
       "  '..\\\\data\\\\TrainingSet\\\\labels\\\\hippocampus_311.nii.gz',\n",
       "  '..\\\\data\\\\TrainingSet\\\\labels\\\\hippocampus_314.nii.gz',\n",
       "  '..\\\\data\\\\TrainingSet\\\\labels\\\\hippocampus_316.nii.gz',\n",
       "  '..\\\\data\\\\TrainingSet\\\\labels\\\\hippocampus_317.nii.gz',\n",
       "  '..\\\\data\\\\TrainingSet\\\\labels\\\\hippocampus_318.nii.gz',\n",
       "  '..\\\\data\\\\TrainingSet\\\\labels\\\\hippocampus_325.nii.gz',\n",
       "  '..\\\\data\\\\TrainingSet\\\\labels\\\\hippocampus_326.nii.gz',\n",
       "  '..\\\\data\\\\TrainingSet\\\\labels\\\\hippocampus_327.nii.gz',\n",
       "  '..\\\\data\\\\TrainingSet\\\\labels\\\\hippocampus_328.nii.gz',\n",
       "  '..\\\\data\\\\TrainingSet\\\\labels\\\\hippocampus_329.nii.gz',\n",
       "  '..\\\\data\\\\TrainingSet\\\\labels\\\\hippocampus_330.nii.gz',\n",
       "  '..\\\\data\\\\TrainingSet\\\\labels\\\\hippocampus_337.nii.gz',\n",
       "  '..\\\\data\\\\TrainingSet\\\\labels\\\\hippocampus_338.nii.gz',\n",
       "  '..\\\\data\\\\TrainingSet\\\\labels\\\\hippocampus_340.nii.gz',\n",
       "  '..\\\\data\\\\TrainingSet\\\\labels\\\\hippocampus_345.nii.gz',\n",
       "  '..\\\\data\\\\TrainingSet\\\\labels\\\\hippocampus_350.nii.gz',\n",
       "  '..\\\\data\\\\TrainingSet\\\\labels\\\\hippocampus_351.nii.gz',\n",
       "  '..\\\\data\\\\TrainingSet\\\\labels\\\\hippocampus_352.nii.gz',\n",
       "  '..\\\\data\\\\TrainingSet\\\\labels\\\\hippocampus_354.nii.gz',\n",
       "  '..\\\\data\\\\TrainingSet\\\\labels\\\\hippocampus_355.nii.gz',\n",
       "  '..\\\\data\\\\TrainingSet\\\\labels\\\\hippocampus_356.nii.gz',\n",
       "  '..\\\\data\\\\TrainingSet\\\\labels\\\\hippocampus_358.nii.gz',\n",
       "  '..\\\\data\\\\TrainingSet\\\\labels\\\\hippocampus_360.nii.gz',\n",
       "  '..\\\\data\\\\TrainingSet\\\\labels\\\\hippocampus_363.nii.gz',\n",
       "  '..\\\\data\\\\TrainingSet\\\\labels\\\\hippocampus_366.nii.gz',\n",
       "  '..\\\\data\\\\TrainingSet\\\\labels\\\\hippocampus_367.nii.gz',\n",
       "  '..\\\\data\\\\TrainingSet\\\\labels\\\\hippocampus_368.nii.gz',\n",
       "  '..\\\\data\\\\TrainingSet\\\\labels\\\\hippocampus_370.nii.gz',\n",
       "  '..\\\\data\\\\TrainingSet\\\\labels\\\\hippocampus_372.nii.gz',\n",
       "  '..\\\\data\\\\TrainingSet\\\\labels\\\\hippocampus_373.nii.gz',\n",
       "  '..\\\\data\\\\TrainingSet\\\\labels\\\\hippocampus_374.nii.gz',\n",
       "  '..\\\\data\\\\TrainingSet\\\\labels\\\\hippocampus_380.nii.gz',\n",
       "  '..\\\\data\\\\TrainingSet\\\\labels\\\\hippocampus_381.nii.gz',\n",
       "  '..\\\\data\\\\TrainingSet\\\\labels\\\\hippocampus_383.nii.gz',\n",
       "  '..\\\\data\\\\TrainingSet\\\\labels\\\\hippocampus_385.nii.gz',\n",
       "  '..\\\\data\\\\TrainingSet\\\\labels\\\\hippocampus_386.nii.gz',\n",
       "  '..\\\\data\\\\TrainingSet\\\\labels\\\\hippocampus_387.nii.gz',\n",
       "  '..\\\\data\\\\TrainingSet\\\\labels\\\\hippocampus_389.nii.gz',\n",
       "  '..\\\\data\\\\TrainingSet\\\\labels\\\\hippocampus_390.nii.gz',\n",
       "  '..\\\\data\\\\TrainingSet\\\\labels\\\\hippocampus_393.nii.gz',\n",
       "  '..\\\\data\\\\TrainingSet\\\\labels\\\\hippocampus_394.nii.gz'],\n",
       " '[[1. 0. 0. 0.]\\n [0. 1. 0. 0.]\\n [0. 0. 1. 0.]\\n [0. 0. 0. 1.]]': ['..\\\\data\\\\TrainingSet\\\\labels\\\\hippocampus_039.nii.gz',\n",
       "  '..\\\\data\\\\TrainingSet\\\\labels\\\\hippocampus_040.nii.gz',\n",
       "  '..\\\\data\\\\TrainingSet\\\\labels\\\\hippocampus_074.nii.gz',\n",
       "  '..\\\\data\\\\TrainingSet\\\\labels\\\\hippocampus_093.nii.gz',\n",
       "  '..\\\\data\\\\TrainingSet\\\\labels\\\\hippocampus_094.nii.gz',\n",
       "  '..\\\\data\\\\TrainingSet\\\\labels\\\\hippocampus_245.nii.gz',\n",
       "  '..\\\\data\\\\TrainingSet\\\\labels\\\\hippocampus_253.nii.gz',\n",
       "  '..\\\\data\\\\TrainingSet\\\\labels\\\\hippocampus_268.nii.gz',\n",
       "  '..\\\\data\\\\TrainingSet\\\\labels\\\\hippocampus_301.nii.gz',\n",
       "  '..\\\\data\\\\TrainingSet\\\\labels\\\\hippocampus_302.nii.gz',\n",
       "  '..\\\\data\\\\TrainingSet\\\\labels\\\\hippocampus_305.nii.gz',\n",
       "  '..\\\\data\\\\TrainingSet\\\\labels\\\\hippocampus_321.nii.gz',\n",
       "  '..\\\\data\\\\TrainingSet\\\\labels\\\\hippocampus_322.nii.gz',\n",
       "  '..\\\\data\\\\TrainingSet\\\\labels\\\\hippocampus_331.nii.gz',\n",
       "  '..\\\\data\\\\TrainingSet\\\\labels\\\\hippocampus_332.nii.gz',\n",
       "  '..\\\\data\\\\TrainingSet\\\\labels\\\\hippocampus_361.nii.gz',\n",
       "  '..\\\\data\\\\TrainingSet\\\\labels\\\\hippocampus_375.nii.gz',\n",
       "  '..\\\\data\\\\TrainingSet\\\\labels\\\\hippocampus_376.nii.gz']}"
      ]
     },
     "execution_count": 178,
     "metadata": {},
     "output_type": "execute_result"
    }
   ],
   "source": [
    "no_outlier_sform"
   ]
  },
  {
   "cell_type": "code",
   "execution_count": 179,
   "metadata": {},
   "outputs": [
    {
     "data": {
      "text/plain": [
       "dict_keys(['8', '32'])"
      ]
     },
     "execution_count": 179,
     "metadata": {},
     "output_type": "execute_result"
    }
   ],
   "source": [
    "no_outlier_bitpix.keys()"
   ]
  },
  {
   "cell_type": "code",
   "execution_count": 180,
   "metadata": {},
   "outputs": [
    {
     "data": {
      "text/plain": [
       "['..\\\\data\\\\TrainingSet\\\\labels\\\\hippocampus_003.nii.gz',\n",
       " '..\\\\data\\\\TrainingSet\\\\labels\\\\hippocampus_243.nii.gz']"
      ]
     },
     "execution_count": 180,
     "metadata": {},
     "output_type": "execute_result"
    }
   ],
   "source": [
    "no_outlier_bitpix['32']"
   ]
  },
  {
   "cell_type": "code",
   "execution_count": 181,
   "metadata": {},
   "outputs": [
    {
     "name": "stdout",
     "output_type": "stream",
     "text": [
      "<class 'nibabel.nifti1.Nifti1Header'> object, endian='<'\n",
      "sizeof_hdr      : 348\n",
      "data_type       : b''\n",
      "db_name         : b''\n",
      "extents         : 0\n",
      "session_error   : 0\n",
      "regular         : b'r'\n",
      "dim_info        : 0\n",
      "dim             : [ 3 34 52 35  1  1  1  1]\n",
      "intent_p1       : 0.0\n",
      "intent_p2       : 0.0\n",
      "intent_p3       : 0.0\n",
      "intent_code     : none\n",
      "datatype        : float32\n",
      "bitpix          : 32\n",
      "slice_start     : 0\n",
      "pixdim          : [1. 1. 1. 1. 1. 0. 0. 0.]\n",
      "vox_offset      : 0.0\n",
      "scl_slope       : nan\n",
      "scl_inter       : nan\n",
      "slice_end       : 0\n",
      "slice_code      : unknown\n",
      "xyzt_units      : 10\n",
      "cal_max         : 0.0\n",
      "cal_min         : 0.0\n",
      "slice_duration  : 0.0\n",
      "toffset         : 0.0\n",
      "glmax           : 0\n",
      "glmin           : 0\n",
      "descrip         : b'5.0.10'\n",
      "aux_file        : b'none'\n",
      "qform_code      : scanner\n",
      "sform_code      : scanner\n",
      "quatern_b       : 0.0\n",
      "quatern_c       : 0.0\n",
      "quatern_d       : 0.0\n",
      "qoffset_x       : 1.0\n",
      "qoffset_y       : 1.0\n",
      "qoffset_z       : 1.0\n",
      "srow_x          : [1. 0. 0. 1.]\n",
      "srow_y          : [0. 1. 0. 1.]\n",
      "srow_z          : [0. 0. 1. 1.]\n",
      "intent_name     : b''\n",
      "magic           : b'n+1'\n"
     ]
    }
   ],
   "source": [
    "print(nib.load(no_outlier_bitpix['32'][0]).header)"
   ]
  },
  {
   "cell_type": "code",
   "execution_count": 182,
   "metadata": {},
   "outputs": [
    {
     "data": {
      "text/plain": [
       "<matplotlib.image.AxesImage at 0x218b501b288>"
      ]
     },
     "execution_count": 182,
     "metadata": {},
     "output_type": "execute_result"
    },
    {
     "data": {
      "image/png": "[encoded data removed]",
      "text/plain": [
       "<Figure size 720x720 with 1 Axes>"
      ]
     },
     "metadata": {
      "needs_background": "light"
     },
     "output_type": "display_data"
    }
   ],
   "source": [
    "plt.imshow(nib.load(no_outlier_bitpix['32'][0]).get_fdata()[14,:,:])"
   ]
  },
  {
   "cell_type": "code",
   "execution_count": 250,
   "metadata": {},
   "outputs": [
    {
     "data": {
      "text/plain": [
       "<matplotlib.image.AxesImage at 0x218af164d08>"
      ]
     },
     "execution_count": 250,
     "metadata": {},
     "output_type": "execute_result"
    },
    {
     "data": {
      "image/png": "[encoded data removed]",
      "text/plain": [
       "<Figure size 720x720 with 1 Axes>"
      ]
     },
     "metadata": {
      "needs_background": "light"
     },
     "output_type": "display_data"
    }
   ],
   "source": [
    "plt.imshow(nib.load(os.path.join(path, 'images', 'hippocampus_003.nii.gz')).get_fdata()[14,:,:])"
   ]
  },
  {
   "cell_type": "code",
   "execution_count": 251,
   "metadata": {},
   "outputs": [
    {
     "data": {
      "text/plain": [
       "<matplotlib.image.AxesImage at 0x218af084888>"
      ]
     },
     "execution_count": 251,
     "metadata": {},
     "output_type": "execute_result"
    },
    {
     "data": {
      "image/png": "[encoded data removed]",
      "text/plain": [
       "<Figure size 720x720 with 1 Axes>"
      ]
     },
     "metadata": {
      "needs_background": "light"
     },
     "output_type": "display_data"
    }
   ],
   "source": [
    "plt.imshow(nib.load(os.path.join(path, 'images', 'hippocampus_003.nii.gz')).get_fdata()[:,:,14])"
   ]
  },
  {
   "cell_type": "code",
   "execution_count": 185,
   "metadata": {},
   "outputs": [
    {
     "name": "stdout",
     "output_type": "stream",
     "text": [
      "<class 'nibabel.nifti1.Nifti1Header'> object, endian='<'\n",
      "sizeof_hdr      : 348\n",
      "data_type       : b''\n",
      "db_name         : b''\n",
      "extents         : 0\n",
      "session_error   : 0\n",
      "regular         : b'r'\n",
      "dim_info        : 0\n",
      "dim             : [ 3 34 53 24  1  1  1  1]\n",
      "intent_p1       : 0.0\n",
      "intent_p2       : 0.0\n",
      "intent_p3       : 0.0\n",
      "intent_code     : none\n",
      "datatype        : float32\n",
      "bitpix          : 32\n",
      "slice_start     : 0\n",
      "pixdim          : [1. 1. 1. 1. 1. 0. 0. 0.]\n",
      "vox_offset      : 0.0\n",
      "scl_slope       : nan\n",
      "scl_inter       : nan\n",
      "slice_end       : 0\n",
      "slice_code      : unknown\n",
      "xyzt_units      : 10\n",
      "cal_max         : 0.0\n",
      "cal_min         : 0.0\n",
      "slice_duration  : 0.0\n",
      "toffset         : 0.0\n",
      "glmax           : 0\n",
      "glmin           : 0\n",
      "descrip         : b'5.0.10'\n",
      "aux_file        : b'none'\n",
      "qform_code      : scanner\n",
      "sform_code      : scanner\n",
      "quatern_b       : 0.0\n",
      "quatern_c       : 0.0\n",
      "quatern_d       : 0.0\n",
      "qoffset_x       : 1.0\n",
      "qoffset_y       : 1.0\n",
      "qoffset_z       : 1.0\n",
      "srow_x          : [1. 0. 0. 1.]\n",
      "srow_y          : [0. 1. 0. 1.]\n",
      "srow_z          : [0. 0. 1. 1.]\n",
      "intent_name     : b''\n",
      "magic           : b'n+1'\n"
     ]
    }
   ],
   "source": [
    "print(nib.load(no_outlier_bitpix['32'][1]).header)"
   ]
  },
  {
   "cell_type": "code",
   "execution_count": 254,
   "metadata": {},
   "outputs": [
    {
     "data": {
      "text/plain": [
       "<matplotlib.image.AxesImage at 0x218aec4da08>"
      ]
     },
     "execution_count": 254,
     "metadata": {},
     "output_type": "execute_result"
    },
    {
     "data": {
      "image/png": "[encoded data removed]",
      "text/plain": [
       "<Figure size 720x720 with 1 Axes>"
      ]
     },
     "metadata": {
      "needs_background": "light"
     },
     "output_type": "display_data"
    }
   ],
   "source": [
    "plt.imshow(nib.load(os.path.join(path, 'images', 'hippocampus_243.nii.gz')).get_fdata()[16,:,:])"
   ]
  },
  {
   "cell_type": "markdown",
   "metadata": {},
   "source": [
    "#### Two NIFTI files have bitpix of 32, while the rest of label data set within acceptable hippocampus volume range have bitpix of 8.  May need to rescale these two files or remove from dataset for training."
   ]
  },
  {
   "cell_type": "markdown",
   "metadata": {},
   "source": [
    "## Labels with hippocampus volume less than 2850mm^3, which is below the 2.5th Percentile for any age in the range 52-71"
   ]
  },
  {
   "cell_type": "code",
   "execution_count": 187,
   "metadata": {},
   "outputs": [
    {
     "data": {
      "text/plain": [
       "[array([2773, '..\\\\data\\\\TrainingSet\\\\labels\\\\hippocampus_057.nii.gz',\n",
       "        array([ 3, 35, 51, 34,  1,  1,  1,  1], dtype=int16)], dtype=object),\n",
       " array([2753, '..\\\\data\\\\TrainingSet\\\\labels\\\\hippocampus_097.nii.gz',\n",
       "        array([ 3, 37, 48, 34,  1,  1,  1,  1], dtype=int16)], dtype=object),\n",
       " array([2535, '..\\\\data\\\\TrainingSet\\\\labels\\\\hippocampus_099.nii.gz',\n",
       "        array([ 3, 33, 52, 27,  1,  1,  1,  1], dtype=int16)], dtype=object),\n",
       " array([2726, '..\\\\data\\\\TrainingSet\\\\labels\\\\hippocampus_125.nii.gz',\n",
       "        array([ 3, 43, 42, 39,  1,  1,  1,  1], dtype=int16)], dtype=object),\n",
       " array([2629, '..\\\\data\\\\TrainingSet\\\\labels\\\\hippocampus_135.nii.gz',\n",
       "        array([ 3, 32, 49, 38,  1,  1,  1,  1], dtype=int16)], dtype=object),\n",
       " array([2534, '..\\\\data\\\\TrainingSet\\\\labels\\\\hippocampus_138.nii.gz',\n",
       "        array([ 3, 32, 46, 42,  1,  1,  1,  1], dtype=int16)], dtype=object),\n",
       " array([2714, '..\\\\data\\\\TrainingSet\\\\labels\\\\hippocampus_141.nii.gz',\n",
       "        array([ 3, 33, 44, 42,  1,  1,  1,  1], dtype=int16)], dtype=object),\n",
       " array([2697, '..\\\\data\\\\TrainingSet\\\\labels\\\\hippocampus_142.nii.gz',\n",
       "        array([ 3, 38, 43, 41,  1,  1,  1,  1], dtype=int16)], dtype=object),\n",
       " array([2397, '..\\\\data\\\\TrainingSet\\\\labels\\\\hippocampus_143.nii.gz',\n",
       "        array([ 3, 32, 45, 41,  1,  1,  1,  1], dtype=int16)], dtype=object),\n",
       " array([2471, '..\\\\data\\\\TrainingSet\\\\labels\\\\hippocampus_144.nii.gz',\n",
       "        array([ 3, 34, 45, 43,  1,  1,  1,  1], dtype=int16)], dtype=object),\n",
       " array([2739, '..\\\\data\\\\TrainingSet\\\\labels\\\\hippocampus_175.nii.gz',\n",
       "        array([ 3, 33, 47, 35,  1,  1,  1,  1], dtype=int16)], dtype=object),\n",
       " array([2593, '..\\\\data\\\\TrainingSet\\\\labels\\\\hippocampus_177.nii.gz',\n",
       "        array([ 3, 33, 44, 40,  1,  1,  1,  1], dtype=int16)], dtype=object),\n",
       " array([2714, '..\\\\data\\\\TrainingSet\\\\labels\\\\hippocampus_178.nii.gz',\n",
       "        array([ 3, 35, 44, 41,  1,  1,  1,  1], dtype=int16)], dtype=object),\n",
       " array([2678, '..\\\\data\\\\TrainingSet\\\\labels\\\\hippocampus_180.nii.gz',\n",
       "        array([ 3, 37, 45, 36,  1,  1,  1,  1], dtype=int16)], dtype=object),\n",
       " array([2708, '..\\\\data\\\\TrainingSet\\\\labels\\\\hippocampus_193.nii.gz',\n",
       "        array([ 3, 33, 50, 29,  1,  1,  1,  1], dtype=int16)], dtype=object),\n",
       " array([2570, '..\\\\data\\\\TrainingSet\\\\labels\\\\hippocampus_199.nii.gz',\n",
       "        array([ 3, 37, 52, 26,  1,  1,  1,  1], dtype=int16)], dtype=object),\n",
       " array([2704, '..\\\\data\\\\TrainingSet\\\\labels\\\\hippocampus_205.nii.gz',\n",
       "        array([ 3, 32, 47, 32,  1,  1,  1,  1], dtype=int16)], dtype=object),\n",
       " array([2448, '..\\\\data\\\\TrainingSet\\\\labels\\\\hippocampus_221.nii.gz',\n",
       "        array([ 3, 32, 48, 34,  1,  1,  1,  1], dtype=int16)], dtype=object),\n",
       " array([2684, '..\\\\data\\\\TrainingSet\\\\labels\\\\hippocampus_222.nii.gz',\n",
       "        array([ 3, 34, 49, 36,  1,  1,  1,  1], dtype=int16)], dtype=object),\n",
       " array([2475, '..\\\\data\\\\TrainingSet\\\\labels\\\\hippocampus_225.nii.gz',\n",
       "        array([ 3, 33, 53, 26,  1,  1,  1,  1], dtype=int16)], dtype=object),\n",
       " array([2546, '..\\\\data\\\\TrainingSet\\\\labels\\\\hippocampus_226.nii.gz',\n",
       "        array([ 3, 32, 51, 28,  1,  1,  1,  1], dtype=int16)], dtype=object),\n",
       " array([2647, '..\\\\data\\\\TrainingSet\\\\labels\\\\hippocampus_231.nii.gz',\n",
       "        array([ 3, 33, 47, 42,  1,  1,  1,  1], dtype=int16)], dtype=object),\n",
       " array([2665, '..\\\\data\\\\TrainingSet\\\\labels\\\\hippocampus_274.nii.gz',\n",
       "        array([ 3, 35, 40, 40,  1,  1,  1,  1], dtype=int16)], dtype=object),\n",
       " array([2382, '..\\\\data\\\\TrainingSet\\\\labels\\\\hippocampus_279.nii.gz',\n",
       "        array([ 3, 34, 50, 32,  1,  1,  1,  1], dtype=int16)], dtype=object),\n",
       " array([2613, '..\\\\data\\\\TrainingSet\\\\labels\\\\hippocampus_280.nii.gz',\n",
       "        array([ 3, 37, 47, 32,  1,  1,  1,  1], dtype=int16)], dtype=object),\n",
       " array([2416, '..\\\\data\\\\TrainingSet\\\\labels\\\\hippocampus_282.nii.gz',\n",
       "        array([ 3, 37, 52, 32,  1,  1,  1,  1], dtype=int16)], dtype=object),\n",
       " array([2738, '..\\\\data\\\\TrainingSet\\\\labels\\\\hippocampus_289.nii.gz',\n",
       "        array([ 3, 35, 49, 36,  1,  1,  1,  1], dtype=int16)], dtype=object),\n",
       " array([2786, '..\\\\data\\\\TrainingSet\\\\labels\\\\hippocampus_297.nii.gz',\n",
       "        array([ 3, 34, 51, 30,  1,  1,  1,  1], dtype=int16)], dtype=object),\n",
       " array([2422, '..\\\\data\\\\TrainingSet\\\\labels\\\\hippocampus_319.nii.gz',\n",
       "        array([ 3, 33, 48, 34,  1,  1,  1,  1], dtype=int16)], dtype=object),\n",
       " array([2451, '..\\\\data\\\\TrainingSet\\\\labels\\\\hippocampus_320.nii.gz',\n",
       "        array([ 3, 33, 47, 34,  1,  1,  1,  1], dtype=int16)], dtype=object),\n",
       " array([2635, '..\\\\data\\\\TrainingSet\\\\labels\\\\hippocampus_333.nii.gz',\n",
       "        array([ 3, 33, 46, 38,  1,  1,  1,  1], dtype=int16)], dtype=object),\n",
       " array([2678, '..\\\\data\\\\TrainingSet\\\\labels\\\\hippocampus_334.nii.gz',\n",
       "        array([ 3, 34, 47, 36,  1,  1,  1,  1], dtype=int16)], dtype=object),\n",
       " array([2532, '..\\\\data\\\\TrainingSet\\\\labels\\\\hippocampus_335.nii.gz',\n",
       "        array([ 3, 32, 47, 41,  1,  1,  1,  1], dtype=int16)], dtype=object),\n",
       " array([2593, '..\\\\data\\\\TrainingSet\\\\labels\\\\hippocampus_336.nii.gz',\n",
       "        array([ 3, 34, 47, 43,  1,  1,  1,  1], dtype=int16)], dtype=object),\n",
       " array([2588, '..\\\\data\\\\TrainingSet\\\\labels\\\\hippocampus_341.nii.gz',\n",
       "        array([ 3, 34, 48, 35,  1,  1,  1,  1], dtype=int16)], dtype=object),\n",
       " array([2618, '..\\\\data\\\\TrainingSet\\\\labels\\\\hippocampus_343.nii.gz',\n",
       "        array([ 3, 32, 45, 38,  1,  1,  1,  1], dtype=int16)], dtype=object),\n",
       " array([2590, '..\\\\data\\\\TrainingSet\\\\labels\\\\hippocampus_349.nii.gz',\n",
       "        array([ 3, 34, 50, 34,  1,  1,  1,  1], dtype=int16)], dtype=object),\n",
       " array([2755, '..\\\\data\\\\TrainingSet\\\\labels\\\\hippocampus_353.nii.gz',\n",
       "        array([ 3, 32, 51, 31,  1,  1,  1,  1], dtype=int16)], dtype=object),\n",
       " array([2634, '..\\\\data\\\\TrainingSet\\\\labels\\\\hippocampus_359.nii.gz',\n",
       "        array([ 3, 35, 49, 35,  1,  1,  1,  1], dtype=int16)], dtype=object),\n",
       " array([2757, '..\\\\data\\\\TrainingSet\\\\labels\\\\hippocampus_378.nii.gz',\n",
       "        array([ 3, 35, 52, 34,  1,  1,  1,  1], dtype=int16)], dtype=object)]"
      ]
     },
     "execution_count": 187,
     "metadata": {},
     "output_type": "execute_result"
    }
   ],
   "source": [
    "lo_outlier"
   ]
  },
  {
   "cell_type": "code",
   "execution_count": 188,
   "metadata": {},
   "outputs": [],
   "source": [
    "lo_outlier_shape = {}\n",
    "lo_outlier_pixdim = {}\n",
    "lo_outlier_sform = {}\n",
    "lo_outlier_bitpix = {}\n",
    "\n",
    "for label in lo_outlier:\n",
    "    fp = label[1]\n",
    "    keyshape = nib.load(fp).header.get_data_shape()\n",
    "    lo_outlier_shape.setdefault(keyshape,[])\n",
    "    lo_outlier_shape[keyshape].append(fp)\n",
    "    \n",
    "    keypixdim = str(nib.load(fp).header['pixdim'])\n",
    "    lo_outlier_pixdim.setdefault(keypixdim,[])\n",
    "    lo_outlier_pixdim[keypixdim].append(fp)\n",
    "    \n",
    "    keysf = str(nib.load(fp).header.get_sform())\n",
    "    lo_outlier_sform.setdefault(keysf,[])\n",
    "    lo_outlier_sform[keysf].append(fp)\n",
    "    \n",
    "    keybp = str(nib.load(fp).header['bitpix'])\n",
    "    lo_outlier_bitpix.setdefault(keybp,[])\n",
    "    lo_outlier_bitpix[keybp].append(fp)"
   ]
  },
  {
   "cell_type": "code",
   "execution_count": 189,
   "metadata": {},
   "outputs": [
    {
     "data": {
      "text/plain": [
       "(array([1., 1., 1., 7., 2., 8., 8., 3., 4., 5.]),\n",
       " array([40. , 41.3, 42.6, 43.9, 45.2, 46.5, 47.8, 49.1, 50.4, 51.7, 53. ]),\n",
       " <a list of 10 Patch objects>)"
      ]
     },
     "execution_count": 189,
     "metadata": {},
     "output_type": "execute_result"
    },
    {
     "data": {
      "image/png": "[encoded data removed]",
      "text/plain": [
       "<Figure size 720x720 with 1 Axes>"
      ]
     },
     "metadata": {
      "needs_background": "light"
     },
     "output_type": "display_data"
    }
   ],
   "source": [
    "lo_shape_keys = [(i) for i in lo_outlier_shape.keys()]\n",
    "lo_shape_keys = np.array(lo_shape_keys)\n",
    "plt.hist(lo_shape_keys[:,1])"
   ]
  },
  {
   "cell_type": "code",
   "execution_count": 190,
   "metadata": {},
   "outputs": [
    {
     "data": {
      "text/plain": [
       "40"
      ]
     },
     "execution_count": 190,
     "metadata": {},
     "output_type": "execute_result"
    }
   ],
   "source": [
    "len(lo_outlier_shape.keys())"
   ]
  },
  {
   "cell_type": "code",
   "execution_count": 191,
   "metadata": {},
   "outputs": [
    {
     "data": {
      "text/plain": [
       "{'[[1. 0. 0. 1.]\\n [0. 1. 0. 1.]\\n [0. 0. 1. 1.]\\n [0. 0. 0. 1.]]': ['..\\\\data\\\\TrainingSet\\\\labels\\\\hippocampus_057.nii.gz',\n",
       "  '..\\\\data\\\\TrainingSet\\\\labels\\\\hippocampus_097.nii.gz',\n",
       "  '..\\\\data\\\\TrainingSet\\\\labels\\\\hippocampus_099.nii.gz',\n",
       "  '..\\\\data\\\\TrainingSet\\\\labels\\\\hippocampus_125.nii.gz',\n",
       "  '..\\\\data\\\\TrainingSet\\\\labels\\\\hippocampus_135.nii.gz',\n",
       "  '..\\\\data\\\\TrainingSet\\\\labels\\\\hippocampus_138.nii.gz',\n",
       "  '..\\\\data\\\\TrainingSet\\\\labels\\\\hippocampus_141.nii.gz',\n",
       "  '..\\\\data\\\\TrainingSet\\\\labels\\\\hippocampus_142.nii.gz',\n",
       "  '..\\\\data\\\\TrainingSet\\\\labels\\\\hippocampus_143.nii.gz',\n",
       "  '..\\\\data\\\\TrainingSet\\\\labels\\\\hippocampus_144.nii.gz',\n",
       "  '..\\\\data\\\\TrainingSet\\\\labels\\\\hippocampus_175.nii.gz',\n",
       "  '..\\\\data\\\\TrainingSet\\\\labels\\\\hippocampus_177.nii.gz',\n",
       "  '..\\\\data\\\\TrainingSet\\\\labels\\\\hippocampus_178.nii.gz',\n",
       "  '..\\\\data\\\\TrainingSet\\\\labels\\\\hippocampus_180.nii.gz',\n",
       "  '..\\\\data\\\\TrainingSet\\\\labels\\\\hippocampus_193.nii.gz',\n",
       "  '..\\\\data\\\\TrainingSet\\\\labels\\\\hippocampus_205.nii.gz',\n",
       "  '..\\\\data\\\\TrainingSet\\\\labels\\\\hippocampus_221.nii.gz',\n",
       "  '..\\\\data\\\\TrainingSet\\\\labels\\\\hippocampus_222.nii.gz',\n",
       "  '..\\\\data\\\\TrainingSet\\\\labels\\\\hippocampus_225.nii.gz',\n",
       "  '..\\\\data\\\\TrainingSet\\\\labels\\\\hippocampus_226.nii.gz',\n",
       "  '..\\\\data\\\\TrainingSet\\\\labels\\\\hippocampus_231.nii.gz',\n",
       "  '..\\\\data\\\\TrainingSet\\\\labels\\\\hippocampus_274.nii.gz',\n",
       "  '..\\\\data\\\\TrainingSet\\\\labels\\\\hippocampus_279.nii.gz',\n",
       "  '..\\\\data\\\\TrainingSet\\\\labels\\\\hippocampus_280.nii.gz',\n",
       "  '..\\\\data\\\\TrainingSet\\\\labels\\\\hippocampus_282.nii.gz',\n",
       "  '..\\\\data\\\\TrainingSet\\\\labels\\\\hippocampus_289.nii.gz',\n",
       "  '..\\\\data\\\\TrainingSet\\\\labels\\\\hippocampus_297.nii.gz',\n",
       "  '..\\\\data\\\\TrainingSet\\\\labels\\\\hippocampus_319.nii.gz',\n",
       "  '..\\\\data\\\\TrainingSet\\\\labels\\\\hippocampus_320.nii.gz',\n",
       "  '..\\\\data\\\\TrainingSet\\\\labels\\\\hippocampus_333.nii.gz',\n",
       "  '..\\\\data\\\\TrainingSet\\\\labels\\\\hippocampus_334.nii.gz',\n",
       "  '..\\\\data\\\\TrainingSet\\\\labels\\\\hippocampus_335.nii.gz',\n",
       "  '..\\\\data\\\\TrainingSet\\\\labels\\\\hippocampus_336.nii.gz',\n",
       "  '..\\\\data\\\\TrainingSet\\\\labels\\\\hippocampus_341.nii.gz',\n",
       "  '..\\\\data\\\\TrainingSet\\\\labels\\\\hippocampus_343.nii.gz',\n",
       "  '..\\\\data\\\\TrainingSet\\\\labels\\\\hippocampus_349.nii.gz',\n",
       "  '..\\\\data\\\\TrainingSet\\\\labels\\\\hippocampus_353.nii.gz',\n",
       "  '..\\\\data\\\\TrainingSet\\\\labels\\\\hippocampus_359.nii.gz',\n",
       "  '..\\\\data\\\\TrainingSet\\\\labels\\\\hippocampus_378.nii.gz'],\n",
       " '[[1. 0. 0. 0.]\\n [0. 1. 0. 0.]\\n [0. 0. 1. 0.]\\n [0. 0. 0. 1.]]': ['..\\\\data\\\\TrainingSet\\\\labels\\\\hippocampus_199.nii.gz']}"
      ]
     },
     "execution_count": 191,
     "metadata": {},
     "output_type": "execute_result"
    }
   ],
   "source": [
    "lo_outlier_sform"
   ]
  },
  {
   "cell_type": "code",
   "execution_count": 255,
   "metadata": {},
   "outputs": [
    {
     "data": {
      "text/plain": [
       "<matplotlib.image.AxesImage at 0x218af464888>"
      ]
     },
     "execution_count": 255,
     "metadata": {},
     "output_type": "execute_result"
    },
    {
     "data": {
      "image/png": "[encoded data removed]",
      "text/plain": [
       "<Figure size 720x720 with 2 Axes>"
      ]
     },
     "metadata": {
      "needs_background": "light"
     },
     "output_type": "display_data"
    }
   ],
   "source": [
    "plt.subplots(1,2)\n",
    "plt.subplot(1,2,1)\n",
    "plt.imshow(nib.load(os.path.join(path, 'images', 'hippocampus_279.nii.gz')).get_fdata()[15,:,:])\n",
    "plt.subplot(1,2,2)\n",
    "plt.imshow(nib.load(os.path.join(path, 'labels', 'hippocampus_279.nii.gz')).get_fdata()[15,:,:])"
   ]
  },
  {
   "cell_type": "code",
   "execution_count": 193,
   "metadata": {},
   "outputs": [
    {
     "data": {
      "text/plain": [
       "{'8': ['..\\\\data\\\\TrainingSet\\\\labels\\\\hippocampus_057.nii.gz',\n",
       "  '..\\\\data\\\\TrainingSet\\\\labels\\\\hippocampus_097.nii.gz',\n",
       "  '..\\\\data\\\\TrainingSet\\\\labels\\\\hippocampus_099.nii.gz',\n",
       "  '..\\\\data\\\\TrainingSet\\\\labels\\\\hippocampus_125.nii.gz',\n",
       "  '..\\\\data\\\\TrainingSet\\\\labels\\\\hippocampus_135.nii.gz',\n",
       "  '..\\\\data\\\\TrainingSet\\\\labels\\\\hippocampus_138.nii.gz',\n",
       "  '..\\\\data\\\\TrainingSet\\\\labels\\\\hippocampus_141.nii.gz',\n",
       "  '..\\\\data\\\\TrainingSet\\\\labels\\\\hippocampus_142.nii.gz',\n",
       "  '..\\\\data\\\\TrainingSet\\\\labels\\\\hippocampus_143.nii.gz',\n",
       "  '..\\\\data\\\\TrainingSet\\\\labels\\\\hippocampus_144.nii.gz',\n",
       "  '..\\\\data\\\\TrainingSet\\\\labels\\\\hippocampus_175.nii.gz',\n",
       "  '..\\\\data\\\\TrainingSet\\\\labels\\\\hippocampus_177.nii.gz',\n",
       "  '..\\\\data\\\\TrainingSet\\\\labels\\\\hippocampus_178.nii.gz',\n",
       "  '..\\\\data\\\\TrainingSet\\\\labels\\\\hippocampus_180.nii.gz',\n",
       "  '..\\\\data\\\\TrainingSet\\\\labels\\\\hippocampus_193.nii.gz',\n",
       "  '..\\\\data\\\\TrainingSet\\\\labels\\\\hippocampus_199.nii.gz',\n",
       "  '..\\\\data\\\\TrainingSet\\\\labels\\\\hippocampus_205.nii.gz',\n",
       "  '..\\\\data\\\\TrainingSet\\\\labels\\\\hippocampus_221.nii.gz',\n",
       "  '..\\\\data\\\\TrainingSet\\\\labels\\\\hippocampus_222.nii.gz',\n",
       "  '..\\\\data\\\\TrainingSet\\\\labels\\\\hippocampus_225.nii.gz',\n",
       "  '..\\\\data\\\\TrainingSet\\\\labels\\\\hippocampus_226.nii.gz',\n",
       "  '..\\\\data\\\\TrainingSet\\\\labels\\\\hippocampus_231.nii.gz',\n",
       "  '..\\\\data\\\\TrainingSet\\\\labels\\\\hippocampus_274.nii.gz',\n",
       "  '..\\\\data\\\\TrainingSet\\\\labels\\\\hippocampus_279.nii.gz',\n",
       "  '..\\\\data\\\\TrainingSet\\\\labels\\\\hippocampus_280.nii.gz',\n",
       "  '..\\\\data\\\\TrainingSet\\\\labels\\\\hippocampus_282.nii.gz',\n",
       "  '..\\\\data\\\\TrainingSet\\\\labels\\\\hippocampus_289.nii.gz',\n",
       "  '..\\\\data\\\\TrainingSet\\\\labels\\\\hippocampus_297.nii.gz',\n",
       "  '..\\\\data\\\\TrainingSet\\\\labels\\\\hippocampus_319.nii.gz',\n",
       "  '..\\\\data\\\\TrainingSet\\\\labels\\\\hippocampus_320.nii.gz',\n",
       "  '..\\\\data\\\\TrainingSet\\\\labels\\\\hippocampus_333.nii.gz',\n",
       "  '..\\\\data\\\\TrainingSet\\\\labels\\\\hippocampus_334.nii.gz',\n",
       "  '..\\\\data\\\\TrainingSet\\\\labels\\\\hippocampus_335.nii.gz',\n",
       "  '..\\\\data\\\\TrainingSet\\\\labels\\\\hippocampus_336.nii.gz',\n",
       "  '..\\\\data\\\\TrainingSet\\\\labels\\\\hippocampus_341.nii.gz',\n",
       "  '..\\\\data\\\\TrainingSet\\\\labels\\\\hippocampus_343.nii.gz',\n",
       "  '..\\\\data\\\\TrainingSet\\\\labels\\\\hippocampus_349.nii.gz',\n",
       "  '..\\\\data\\\\TrainingSet\\\\labels\\\\hippocampus_353.nii.gz',\n",
       "  '..\\\\data\\\\TrainingSet\\\\labels\\\\hippocampus_359.nii.gz',\n",
       "  '..\\\\data\\\\TrainingSet\\\\labels\\\\hippocampus_378.nii.gz']}"
      ]
     },
     "execution_count": 193,
     "metadata": {},
     "output_type": "execute_result"
    }
   ],
   "source": [
    "lo_outlier_bitpix"
   ]
  },
  {
   "cell_type": "markdown",
   "metadata": {},
   "source": [
    "All data has bitpix of 8."
   ]
  },
  {
   "cell_type": "code",
   "execution_count": 194,
   "metadata": {},
   "outputs": [
    {
     "data": {
      "text/plain": [
       "<function matplotlib.pyplot.show(*args, **kw)>"
      ]
     },
     "execution_count": 194,
     "metadata": {},
     "output_type": "execute_result"
    },
    {
     "data": {
      "image/png": "[encoded data removed]",
      "text/plain": [
       "<Figure size 1080x1080 with 1 Axes>"
      ]
     },
     "metadata": {
      "needs_background": "light"
     },
     "output_type": "display_data"
    }
   ],
   "source": [
    "plt.figure(figsize=(15,15))\n",
    "plt.xlim(0,5000)\n",
    "plt.hist(train_set_volumes, bins = 1000)\n",
    "plt.axvline(2200,color='r')\n",
    "plt.show"
   ]
  },
  {
   "cell_type": "markdown",
   "metadata": {},
   "source": [
    "### Did not identify one discernable outlier in the low hippocampus volume set."
   ]
  },
  {
   "cell_type": "markdown",
   "metadata": {},
   "source": [
    "### Check that all remaining labels and images have the same dimensions"
   ]
  },
  {
   "cell_type": "code",
   "execution_count": 195,
   "metadata": {},
   "outputs": [],
   "source": [
    "no_outlier2 = np.concatenate((no_outlier,lo_outlier))"
   ]
  },
  {
   "cell_type": "code",
   "execution_count": 263,
   "metadata": {},
   "outputs": [
    {
     "data": {
      "text/plain": [
       "array([[2948, '..\\\\data\\\\TrainingSet\\\\labels\\\\hippocampus_001.nii.gz',\n",
       "        array([ 3, 35, 51, 35,  1,  1,  1,  1], dtype=int16)],\n",
       "       [3353, '..\\\\data\\\\TrainingSet\\\\labels\\\\hippocampus_003.nii.gz',\n",
       "        array([ 3, 34, 52, 35,  1,  1,  1,  1], dtype=int16)],\n",
       "       [3698, '..\\\\data\\\\TrainingSet\\\\labels\\\\hippocampus_004.nii.gz',\n",
       "        array([ 3, 36, 52, 38,  1,  1,  1,  1], dtype=int16)],\n",
       "       [4263, '..\\\\data\\\\TrainingSet\\\\labels\\\\hippocampus_006.nii.gz',\n",
       "        array([ 3, 35, 52, 34,  1,  1,  1,  1], dtype=int16)],\n",
       "       [3372, '..\\\\data\\\\TrainingSet\\\\labels\\\\hippocampus_007.nii.gz',\n",
       "        array([ 3, 34, 47, 40,  1,  1,  1,  1], dtype=int16)],\n",
       "       [3248, '..\\\\data\\\\TrainingSet\\\\labels\\\\hippocampus_008.nii.gz',\n",
       "        array([ 3, 36, 48, 40,  1,  1,  1,  1], dtype=int16)],\n",
       "       [3456, '..\\\\data\\\\TrainingSet\\\\labels\\\\hippocampus_011.nii.gz',\n",
       "        array([ 3, 36, 50, 31,  1,  1,  1,  1], dtype=int16)],\n",
       "       [3622, '..\\\\data\\\\TrainingSet\\\\labels\\\\hippocampus_014.nii.gz',\n",
       "        array([ 3, 39, 50, 40,  1,  1,  1,  1], dtype=int16)],\n",
       "       [2819, '..\\\\data\\\\TrainingSet\\\\labels\\\\hippocampus_015.nii.gz',\n",
       "        array([ 3, 42, 51, 28,  1,  1,  1,  1], dtype=int16)],\n",
       "       [3478, '..\\\\data\\\\TrainingSet\\\\labels\\\\hippocampus_017.nii.gz',\n",
       "        array([ 3, 35, 48, 32,  1,  1,  1,  1], dtype=int16)],\n",
       "       [3356, '..\\\\data\\\\TrainingSet\\\\labels\\\\hippocampus_019.nii.gz',\n",
       "        array([ 3, 36, 47, 41,  1,  1,  1,  1], dtype=int16)],\n",
       "       [3611, '..\\\\data\\\\TrainingSet\\\\labels\\\\hippocampus_020.nii.gz',\n",
       "        array([ 3, 36, 46, 43,  1,  1,  1,  1], dtype=int16)],\n",
       "       [3568, '..\\\\data\\\\TrainingSet\\\\labels\\\\hippocampus_023.nii.gz',\n",
       "        array([ 3, 35, 51, 35,  1,  1,  1,  1], dtype=int16)],\n",
       "       [4030, '..\\\\data\\\\TrainingSet\\\\labels\\\\hippocampus_024.nii.gz',\n",
       "        array([ 3, 38, 52, 33,  1,  1,  1,  1], dtype=int16)],\n",
       "       [3326, '..\\\\data\\\\TrainingSet\\\\labels\\\\hippocampus_025.nii.gz',\n",
       "        array([ 3, 35, 48, 35,  1,  1,  1,  1], dtype=int16)],\n",
       "       [3628, '..\\\\data\\\\TrainingSet\\\\labels\\\\hippocampus_026.nii.gz',\n",
       "        array([ 3, 36, 50, 36,  1,  1,  1,  1], dtype=int16)],\n",
       "       [3423, '..\\\\data\\\\TrainingSet\\\\labels\\\\hippocampus_033.nii.gz',\n",
       "        array([ 3, 33, 48, 38,  1,  1,  1,  1], dtype=int16)],\n",
       "       [3375, '..\\\\data\\\\TrainingSet\\\\labels\\\\hippocampus_034.nii.gz',\n",
       "        array([ 3, 36, 49, 40,  1,  1,  1,  1], dtype=int16)],\n",
       "       [3450, '..\\\\data\\\\TrainingSet\\\\labels\\\\hippocampus_035.nii.gz',\n",
       "        array([ 3, 35, 47, 37,  1,  1,  1,  1], dtype=int16)],\n",
       "       [3509, '..\\\\data\\\\TrainingSet\\\\labels\\\\hippocampus_036.nii.gz',\n",
       "        array([ 3, 36, 47, 39,  1,  1,  1,  1], dtype=int16)],\n",
       "       [3195, '..\\\\data\\\\TrainingSet\\\\labels\\\\hippocampus_037.nii.gz',\n",
       "        array([ 3, 34, 51, 32,  1,  1,  1,  1], dtype=int16)],\n",
       "       [3558, '..\\\\data\\\\TrainingSet\\\\labels\\\\hippocampus_038.nii.gz',\n",
       "        array([ 3, 37, 51, 35,  1,  1,  1,  1], dtype=int16)],\n",
       "       [3658, '..\\\\data\\\\TrainingSet\\\\labels\\\\hippocampus_039.nii.gz',\n",
       "        array([ 3, 34, 53, 34,  1,  1,  1,  1], dtype=int16)],\n",
       "       [3445, '..\\\\data\\\\TrainingSet\\\\labels\\\\hippocampus_040.nii.gz',\n",
       "        array([ 3, 36, 52, 37,  1,  1,  1,  1], dtype=int16)],\n",
       "       [3763, '..\\\\data\\\\TrainingSet\\\\labels\\\\hippocampus_041.nii.gz',\n",
       "        array([ 3, 36, 51, 34,  1,  1,  1,  1], dtype=int16)],\n",
       "       [3847, '..\\\\data\\\\TrainingSet\\\\labels\\\\hippocampus_042.nii.gz',\n",
       "        array([ 3, 37, 52, 34,  1,  1,  1,  1], dtype=int16)],\n",
       "       [3220, '..\\\\data\\\\TrainingSet\\\\labels\\\\hippocampus_044.nii.gz',\n",
       "        array([ 3, 38, 48, 33,  1,  1,  1,  1], dtype=int16)],\n",
       "       [2868, '..\\\\data\\\\TrainingSet\\\\labels\\\\hippocampus_045.nii.gz',\n",
       "        array([ 3, 36, 48, 37,  1,  1,  1,  1], dtype=int16)],\n",
       "       [3292, '..\\\\data\\\\TrainingSet\\\\labels\\\\hippocampus_046.nii.gz',\n",
       "        array([ 3, 36, 49, 38,  1,  1,  1,  1], dtype=int16)],\n",
       "       [3272, '..\\\\data\\\\TrainingSet\\\\labels\\\\hippocampus_048.nii.gz',\n",
       "        array([ 3, 38, 52, 29,  1,  1,  1,  1], dtype=int16)],\n",
       "       [3728, '..\\\\data\\\\TrainingSet\\\\labels\\\\hippocampus_049.nii.gz',\n",
       "        array([ 3, 35, 51, 36,  1,  1,  1,  1], dtype=int16)],\n",
       "       [3831, '..\\\\data\\\\TrainingSet\\\\labels\\\\hippocampus_050.nii.gz',\n",
       "        array([ 3, 38, 49, 38,  1,  1,  1,  1], dtype=int16)],\n",
       "       [3109, '..\\\\data\\\\TrainingSet\\\\labels\\\\hippocampus_051.nii.gz',\n",
       "        array([ 3, 33, 54, 39,  1,  1,  1,  1], dtype=int16)],\n",
       "       [3361, '..\\\\data\\\\TrainingSet\\\\labels\\\\hippocampus_052.nii.gz',\n",
       "        array([ 3, 34, 52, 40,  1,  1,  1,  1], dtype=int16)],\n",
       "       [3519, '..\\\\data\\\\TrainingSet\\\\labels\\\\hippocampus_053.nii.gz',\n",
       "        array([ 3, 37, 51, 35,  1,  1,  1,  1], dtype=int16)],\n",
       "       [3733, '..\\\\data\\\\TrainingSet\\\\labels\\\\hippocampus_056.nii.gz',\n",
       "        array([ 3, 41, 47, 42,  1,  1,  1,  1], dtype=int16)],\n",
       "       [3127, '..\\\\data\\\\TrainingSet\\\\labels\\\\hippocampus_058.nii.gz',\n",
       "        array([ 3, 34, 53, 36,  1,  1,  1,  1], dtype=int16)],\n",
       "       [3409, '..\\\\data\\\\TrainingSet\\\\labels\\\\hippocampus_060.nii.gz',\n",
       "        array([ 3, 39, 52, 31,  1,  1,  1,  1], dtype=int16)],\n",
       "       [3660, '..\\\\data\\\\TrainingSet\\\\labels\\\\hippocampus_064.nii.gz',\n",
       "        array([ 3, 35, 53, 35,  1,  1,  1,  1], dtype=int16)],\n",
       "       [3650, '..\\\\data\\\\TrainingSet\\\\labels\\\\hippocampus_065.nii.gz',\n",
       "        array([ 3, 39, 52, 37,  1,  1,  1,  1], dtype=int16)],\n",
       "       [2811, '..\\\\data\\\\TrainingSet\\\\labels\\\\hippocampus_067.nii.gz',\n",
       "        array([ 3, 36, 42, 41,  1,  1,  1,  1], dtype=int16)],\n",
       "       [3000, '..\\\\data\\\\TrainingSet\\\\labels\\\\hippocampus_068.nii.gz',\n",
       "        array([ 3, 36, 40, 43,  1,  1,  1,  1], dtype=int16)],\n",
       "       [3450, '..\\\\data\\\\TrainingSet\\\\labels\\\\hippocampus_070.nii.gz',\n",
       "        array([ 3, 37, 50, 38,  1,  1,  1,  1], dtype=int16)],\n",
       "       [3000, '..\\\\data\\\\TrainingSet\\\\labels\\\\hippocampus_074.nii.gz',\n",
       "        array([ 3, 37, 47, 42,  1,  1,  1,  1], dtype=int16)],\n",
       "       [3048, '..\\\\data\\\\TrainingSet\\\\labels\\\\hippocampus_075.nii.gz',\n",
       "        array([ 3, 32, 47, 41,  1,  1,  1,  1], dtype=int16)],\n",
       "       [3718, '..\\\\data\\\\TrainingSet\\\\labels\\\\hippocampus_077.nii.gz',\n",
       "        array([ 3, 35, 47, 45,  1,  1,  1,  1], dtype=int16)],\n",
       "       [3371, '..\\\\data\\\\TrainingSet\\\\labels\\\\hippocampus_083.nii.gz',\n",
       "        array([ 3, 33, 52, 37,  1,  1,  1,  1], dtype=int16)],\n",
       "       [3150, '..\\\\data\\\\TrainingSet\\\\labels\\\\hippocampus_084.nii.gz',\n",
       "        array([ 3, 34, 52, 37,  1,  1,  1,  1], dtype=int16)],\n",
       "       [3707, '..\\\\data\\\\TrainingSet\\\\labels\\\\hippocampus_087.nii.gz',\n",
       "        array([ 3, 35, 55, 32,  1,  1,  1,  1], dtype=int16)],\n",
       "       [3878, '..\\\\data\\\\TrainingSet\\\\labels\\\\hippocampus_088.nii.gz',\n",
       "        array([ 3, 40, 52, 35,  1,  1,  1,  1], dtype=int16)],\n",
       "       [3686, '..\\\\data\\\\TrainingSet\\\\labels\\\\hippocampus_089.nii.gz',\n",
       "        array([ 3, 34, 51, 38,  1,  1,  1,  1], dtype=int16)],\n",
       "       [4001, '..\\\\data\\\\TrainingSet\\\\labels\\\\hippocampus_090.nii.gz',\n",
       "        array([ 3, 37, 50, 40,  1,  1,  1,  1], dtype=int16)],\n",
       "       [3061, '..\\\\data\\\\TrainingSet\\\\labels\\\\hippocampus_091.nii.gz',\n",
       "        array([ 3, 36, 51, 29,  1,  1,  1,  1], dtype=int16)],\n",
       "       [3142, '..\\\\data\\\\TrainingSet\\\\labels\\\\hippocampus_092.nii.gz',\n",
       "        array([ 3, 38, 49, 28,  1,  1,  1,  1], dtype=int16)],\n",
       "       [3742, '..\\\\data\\\\TrainingSet\\\\labels\\\\hippocampus_093.nii.gz',\n",
       "        array([ 3, 34, 53, 37,  1,  1,  1,  1], dtype=int16)],\n",
       "       [4029, '..\\\\data\\\\TrainingSet\\\\labels\\\\hippocampus_094.nii.gz',\n",
       "        array([ 3, 38, 50, 38,  1,  1,  1,  1], dtype=int16)],\n",
       "       [3785, '..\\\\data\\\\TrainingSet\\\\labels\\\\hippocampus_095.nii.gz',\n",
       "        array([ 3, 34, 49, 39,  1,  1,  1,  1], dtype=int16)],\n",
       "       [3340, '..\\\\data\\\\TrainingSet\\\\labels\\\\hippocampus_096.nii.gz',\n",
       "        array([ 3, 34, 47, 39,  1,  1,  1,  1], dtype=int16)],\n",
       "       [2890, '..\\\\data\\\\TrainingSet\\\\labels\\\\hippocampus_098.nii.gz',\n",
       "        array([ 3, 37, 48, 34,  1,  1,  1,  1], dtype=int16)],\n",
       "       [3594, '..\\\\data\\\\TrainingSet\\\\labels\\\\hippocampus_101.nii.gz',\n",
       "        array([ 3, 36, 52, 32,  1,  1,  1,  1], dtype=int16)],\n",
       "       [3955, '..\\\\data\\\\TrainingSet\\\\labels\\\\hippocampus_102.nii.gz',\n",
       "        array([ 3, 36, 55, 32,  1,  1,  1,  1], dtype=int16)],\n",
       "       [3817, '..\\\\data\\\\TrainingSet\\\\labels\\\\hippocampus_104.nii.gz',\n",
       "        array([ 3, 35, 53, 39,  1,  1,  1,  1], dtype=int16)],\n",
       "       [3160, '..\\\\data\\\\TrainingSet\\\\labels\\\\hippocampus_105.nii.gz',\n",
       "        array([ 3, 33, 47, 37,  1,  1,  1,  1], dtype=int16)],\n",
       "       [3092, '..\\\\data\\\\TrainingSet\\\\labels\\\\hippocampus_106.nii.gz',\n",
       "        array([ 3, 34, 46, 38,  1,  1,  1,  1], dtype=int16)],\n",
       "       [3946, '..\\\\data\\\\TrainingSet\\\\labels\\\\hippocampus_107.nii.gz',\n",
       "        array([ 3, 35, 55, 34,  1,  1,  1,  1], dtype=int16)],\n",
       "       [3940, '..\\\\data\\\\TrainingSet\\\\labels\\\\hippocampus_108.nii.gz',\n",
       "        array([ 3, 36, 53, 37,  1,  1,  1,  1], dtype=int16)],\n",
       "       [3219, '..\\\\data\\\\TrainingSet\\\\labels\\\\hippocampus_109.nii.gz',\n",
       "        array([ 3, 36, 49, 36,  1,  1,  1,  1], dtype=int16)],\n",
       "       [3704, '..\\\\data\\\\TrainingSet\\\\labels\\\\hippocampus_114.nii.gz',\n",
       "        array([ 3, 38, 50, 39,  1,  1,  1,  1], dtype=int16)],\n",
       "       [3229, '..\\\\data\\\\TrainingSet\\\\labels\\\\hippocampus_123.nii.gz',\n",
       "        array([ 3, 32, 53, 38,  1,  1,  1,  1], dtype=int16)],\n",
       "       [3137, '..\\\\data\\\\TrainingSet\\\\labels\\\\hippocampus_124.nii.gz',\n",
       "        array([ 3, 35, 55, 41,  1,  1,  1,  1], dtype=int16)],\n",
       "       [3145, '..\\\\data\\\\TrainingSet\\\\labels\\\\hippocampus_126.nii.gz',\n",
       "        array([ 3, 39, 44, 43,  1,  1,  1,  1], dtype=int16)],\n",
       "       [3749, '..\\\\data\\\\TrainingSet\\\\labels\\\\hippocampus_127.nii.gz',\n",
       "        array([ 3, 38, 55, 31,  1,  1,  1,  1], dtype=int16)],\n",
       "       [3285, '..\\\\data\\\\TrainingSet\\\\labels\\\\hippocampus_130.nii.gz',\n",
       "        array([ 3, 35, 49, 40,  1,  1,  1,  1], dtype=int16)],\n",
       "       [3251, '..\\\\data\\\\TrainingSet\\\\labels\\\\hippocampus_132.nii.gz',\n",
       "        array([ 3, 36, 50, 40,  1,  1,  1,  1], dtype=int16)],\n",
       "       [3409, '..\\\\data\\\\TrainingSet\\\\labels\\\\hippocampus_133.nii.gz',\n",
       "        array([ 3, 39, 41, 42,  1,  1,  1,  1], dtype=int16)],\n",
       "       [2813, '..\\\\data\\\\TrainingSet\\\\labels\\\\hippocampus_136.nii.gz',\n",
       "        array([ 3, 34, 49, 41,  1,  1,  1,  1], dtype=int16)],\n",
       "       [3536, '..\\\\data\\\\TrainingSet\\\\labels\\\\hippocampus_145.nii.gz',\n",
       "        array([ 3, 36, 53, 33,  1,  1,  1,  1], dtype=int16)],\n",
       "       [3522, '..\\\\data\\\\TrainingSet\\\\labels\\\\hippocampus_146.nii.gz',\n",
       "        array([ 3, 36, 51, 32,  1,  1,  1,  1], dtype=int16)],\n",
       "       [2945, '..\\\\data\\\\TrainingSet\\\\labels\\\\hippocampus_148.nii.gz',\n",
       "        array([ 3, 34, 48, 32,  1,  1,  1,  1], dtype=int16)],\n",
       "       [3143, '..\\\\data\\\\TrainingSet\\\\labels\\\\hippocampus_149.nii.gz',\n",
       "        array([ 3, 33, 49, 32,  1,  1,  1,  1], dtype=int16)],\n",
       "       [3088, '..\\\\data\\\\TrainingSet\\\\labels\\\\hippocampus_150.nii.gz',\n",
       "        array([ 3, 37, 49, 34,  1,  1,  1,  1], dtype=int16)],\n",
       "       [3994, '..\\\\data\\\\TrainingSet\\\\labels\\\\hippocampus_152.nii.gz',\n",
       "        array([ 3, 36, 53, 37,  1,  1,  1,  1], dtype=int16)],\n",
       "       [3257, '..\\\\data\\\\TrainingSet\\\\labels\\\\hippocampus_154.nii.gz',\n",
       "        array([ 3, 35, 46, 42,  1,  1,  1,  1], dtype=int16)],\n",
       "       [3555, '..\\\\data\\\\TrainingSet\\\\labels\\\\hippocampus_155.nii.gz',\n",
       "        array([ 3, 34, 53, 37,  1,  1,  1,  1], dtype=int16)],\n",
       "       [3600, '..\\\\data\\\\TrainingSet\\\\labels\\\\hippocampus_156.nii.gz',\n",
       "        array([ 3, 36, 52, 36,  1,  1,  1,  1], dtype=int16)],\n",
       "       [3352, '..\\\\data\\\\TrainingSet\\\\labels\\\\hippocampus_157.nii.gz',\n",
       "        array([ 3, 36, 51, 35,  1,  1,  1,  1], dtype=int16)],\n",
       "       [3412, '..\\\\data\\\\TrainingSet\\\\labels\\\\hippocampus_158.nii.gz',\n",
       "        array([ 3, 38, 52, 36,  1,  1,  1,  1], dtype=int16)],\n",
       "       [3146, '..\\\\data\\\\TrainingSet\\\\labels\\\\hippocampus_160.nii.gz',\n",
       "        array([ 3, 34, 51, 26,  1,  1,  1,  1], dtype=int16)],\n",
       "       [3717, '..\\\\data\\\\TrainingSet\\\\labels\\\\hippocampus_161.nii.gz',\n",
       "        array([ 3, 35, 51, 36,  1,  1,  1,  1], dtype=int16)],\n",
       "       [3420, '..\\\\data\\\\TrainingSet\\\\labels\\\\hippocampus_162.nii.gz',\n",
       "        array([ 3, 38, 51, 37,  1,  1,  1,  1], dtype=int16)],\n",
       "       [3503, '..\\\\data\\\\TrainingSet\\\\labels\\\\hippocampus_163.nii.gz',\n",
       "        array([ 3, 36, 47, 44,  1,  1,  1,  1], dtype=int16)],\n",
       "       [3869, '..\\\\data\\\\TrainingSet\\\\labels\\\\hippocampus_164.nii.gz',\n",
       "        array([ 3, 41, 48, 47,  1,  1,  1,  1], dtype=int16)],\n",
       "       [3023, '..\\\\data\\\\TrainingSet\\\\labels\\\\hippocampus_165.nii.gz',\n",
       "        array([ 3, 34, 49, 29,  1,  1,  1,  1], dtype=int16)],\n",
       "       [3027, '..\\\\data\\\\TrainingSet\\\\labels\\\\hippocampus_166.nii.gz',\n",
       "        array([ 3, 36, 49, 31,  1,  1,  1,  1], dtype=int16)],\n",
       "       [2859, '..\\\\data\\\\TrainingSet\\\\labels\\\\hippocampus_169.nii.gz',\n",
       "        array([ 3, 36, 45, 39,  1,  1,  1,  1], dtype=int16)],\n",
       "       [2870, '..\\\\data\\\\TrainingSet\\\\labels\\\\hippocampus_170.nii.gz',\n",
       "        array([ 3, 34, 48, 40,  1,  1,  1,  1], dtype=int16)],\n",
       "       [3674, '..\\\\data\\\\TrainingSet\\\\labels\\\\hippocampus_171.nii.gz',\n",
       "        array([ 3, 35, 56, 28,  1,  1,  1,  1], dtype=int16)],\n",
       "       [3923, '..\\\\data\\\\TrainingSet\\\\labels\\\\hippocampus_172.nii.gz',\n",
       "        array([ 3, 34, 56, 31,  1,  1,  1,  1], dtype=int16)],\n",
       "       [3557, '..\\\\data\\\\TrainingSet\\\\labels\\\\hippocampus_173.nii.gz',\n",
       "        array([ 3, 35, 53, 32,  1,  1,  1,  1], dtype=int16)],\n",
       "       [3947, '..\\\\data\\\\TrainingSet\\\\labels\\\\hippocampus_174.nii.gz',\n",
       "        array([ 3, 37, 55, 34,  1,  1,  1,  1], dtype=int16)],\n",
       "       [2920, '..\\\\data\\\\TrainingSet\\\\labels\\\\hippocampus_176.nii.gz',\n",
       "        array([ 3, 35, 50, 36,  1,  1,  1,  1], dtype=int16)],\n",
       "       [3692, '..\\\\data\\\\TrainingSet\\\\labels\\\\hippocampus_181.nii.gz',\n",
       "        array([ 3, 33, 49, 40,  1,  1,  1,  1], dtype=int16)],\n",
       "       [3605, '..\\\\data\\\\TrainingSet\\\\labels\\\\hippocampus_184.nii.gz',\n",
       "        array([ 3, 37, 51, 33,  1,  1,  1,  1], dtype=int16)],\n",
       "       [3113, '..\\\\data\\\\TrainingSet\\\\labels\\\\hippocampus_185.nii.gz',\n",
       "        array([ 3, 35, 49, 33,  1,  1,  1,  1], dtype=int16)],\n",
       "       [3374, '..\\\\data\\\\TrainingSet\\\\labels\\\\hippocampus_188.nii.gz',\n",
       "        array([ 3, 37, 54, 36,  1,  1,  1,  1], dtype=int16)],\n",
       "       [3455, '..\\\\data\\\\TrainingSet\\\\labels\\\\hippocampus_189.nii.gz',\n",
       "        array([ 3, 35, 53, 30,  1,  1,  1,  1], dtype=int16)],\n",
       "       [3309, '..\\\\data\\\\TrainingSet\\\\labels\\\\hippocampus_190.nii.gz',\n",
       "        array([ 3, 37, 52, 30,  1,  1,  1,  1], dtype=int16)],\n",
       "       [2894, '..\\\\data\\\\TrainingSet\\\\labels\\\\hippocampus_194.nii.gz',\n",
       "        array([ 3, 35, 50, 30,  1,  1,  1,  1], dtype=int16)],\n",
       "       [3661, '..\\\\data\\\\TrainingSet\\\\labels\\\\hippocampus_195.nii.gz',\n",
       "        array([ 3, 33, 53, 28,  1,  1,  1,  1], dtype=int16)],\n",
       "       [3377, '..\\\\data\\\\TrainingSet\\\\labels\\\\hippocampus_197.nii.gz',\n",
       "        array([ 3, 38, 51, 31,  1,  1,  1,  1], dtype=int16)],\n",
       "       [2827, '..\\\\data\\\\TrainingSet\\\\labels\\\\hippocampus_203.nii.gz',\n",
       "        array([ 3, 34, 49, 38,  1,  1,  1,  1], dtype=int16)],\n",
       "       [2873, '..\\\\data\\\\TrainingSet\\\\labels\\\\hippocampus_204.nii.gz',\n",
       "        array([ 3, 36, 48, 39,  1,  1,  1,  1], dtype=int16)],\n",
       "       [4074, '..\\\\data\\\\TrainingSet\\\\labels\\\\hippocampus_207.nii.gz',\n",
       "        array([ 3, 35, 53, 33,  1,  1,  1,  1], dtype=int16)],\n",
       "       [2995, '..\\\\data\\\\TrainingSet\\\\labels\\\\hippocampus_210.nii.gz',\n",
       "        array([ 3, 34, 48, 40,  1,  1,  1,  1], dtype=int16)],\n",
       "       [3582, '..\\\\data\\\\TrainingSet\\\\labels\\\\hippocampus_212.nii.gz',\n",
       "        array([ 3, 35, 56, 34,  1,  1,  1,  1], dtype=int16)],\n",
       "       [3333, '..\\\\data\\\\TrainingSet\\\\labels\\\\hippocampus_215.nii.gz',\n",
       "        array([ 3, 35, 49, 33,  1,  1,  1,  1], dtype=int16)],\n",
       "       [3442, '..\\\\data\\\\TrainingSet\\\\labels\\\\hippocampus_216.nii.gz',\n",
       "        array([ 3, 32, 49, 36,  1,  1,  1,  1], dtype=int16)],\n",
       "       [3102, '..\\\\data\\\\TrainingSet\\\\labels\\\\hippocampus_217.nii.gz',\n",
       "        array([ 3, 38, 53, 27,  1,  1,  1,  1], dtype=int16)],\n",
       "       [2830, '..\\\\data\\\\TrainingSet\\\\labels\\\\hippocampus_219.nii.gz',\n",
       "        array([ 3, 37, 45, 39,  1,  1,  1,  1], dtype=int16)],\n",
       "       [2930, '..\\\\data\\\\TrainingSet\\\\labels\\\\hippocampus_220.nii.gz',\n",
       "        array([ 3, 39, 45, 40,  1,  1,  1,  1], dtype=int16)],\n",
       "       [3502, '..\\\\data\\\\TrainingSet\\\\labels\\\\hippocampus_223.nii.gz',\n",
       "        array([ 3, 35, 52, 37,  1,  1,  1,  1], dtype=int16)],\n",
       "       [3820, '..\\\\data\\\\TrainingSet\\\\labels\\\\hippocampus_224.nii.gz',\n",
       "        array([ 3, 37, 48, 37,  1,  1,  1,  1], dtype=int16)],\n",
       "       [3536, '..\\\\data\\\\TrainingSet\\\\labels\\\\hippocampus_227.nii.gz',\n",
       "        array([ 3, 36, 47, 36,  1,  1,  1,  1], dtype=int16)],\n",
       "       [3671, '..\\\\data\\\\TrainingSet\\\\labels\\\\hippocampus_228.nii.gz',\n",
       "        array([ 3, 37, 48, 36,  1,  1,  1,  1], dtype=int16)],\n",
       "       [3177, '..\\\\data\\\\TrainingSet\\\\labels\\\\hippocampus_229.nii.gz',\n",
       "        array([ 3, 33, 50, 35,  1,  1,  1,  1], dtype=int16)],\n",
       "       [3165, '..\\\\data\\\\TrainingSet\\\\labels\\\\hippocampus_230.nii.gz',\n",
       "        array([ 3, 34, 49, 37,  1,  1,  1,  1], dtype=int16)],\n",
       "       [2863, '..\\\\data\\\\TrainingSet\\\\labels\\\\hippocampus_232.nii.gz',\n",
       "        array([ 3, 36, 44, 43,  1,  1,  1,  1], dtype=int16)],\n",
       "       [3167, '..\\\\data\\\\TrainingSet\\\\labels\\\\hippocampus_233.nii.gz',\n",
       "        array([ 3, 33, 51, 37,  1,  1,  1,  1], dtype=int16)],\n",
       "       [3216, '..\\\\data\\\\TrainingSet\\\\labels\\\\hippocampus_234.nii.gz',\n",
       "        array([ 3, 38, 49, 36,  1,  1,  1,  1], dtype=int16)],\n",
       "       [3040, '..\\\\data\\\\TrainingSet\\\\labels\\\\hippocampus_235.nii.gz',\n",
       "        array([ 3, 37, 58, 35,  1,  1,  1,  1], dtype=int16)],\n",
       "       [3089, '..\\\\data\\\\TrainingSet\\\\labels\\\\hippocampus_236.nii.gz',\n",
       "        array([ 3, 37, 57, 35,  1,  1,  1,  1], dtype=int16)],\n",
       "       [3987, '..\\\\data\\\\TrainingSet\\\\labels\\\\hippocampus_238.nii.gz',\n",
       "        array([ 3, 37, 56, 36,  1,  1,  1,  1], dtype=int16)],\n",
       "       [4383, '..\\\\data\\\\TrainingSet\\\\labels\\\\hippocampus_242.nii.gz',\n",
       "        array([ 3, 38, 52, 34,  1,  1,  1,  1], dtype=int16)],\n",
       "       [2956, '..\\\\data\\\\TrainingSet\\\\labels\\\\hippocampus_243.nii.gz',\n",
       "        array([ 3, 34, 53, 24,  1,  1,  1,  1], dtype=int16)],\n",
       "       [3208, '..\\\\data\\\\TrainingSet\\\\labels\\\\hippocampus_244.nii.gz',\n",
       "        array([ 3, 38, 53, 30,  1,  1,  1,  1], dtype=int16)],\n",
       "       [3325, '..\\\\data\\\\TrainingSet\\\\labels\\\\hippocampus_245.nii.gz',\n",
       "        array([ 3, 35, 48, 42,  1,  1,  1,  1], dtype=int16)],\n",
       "       [3438, '..\\\\data\\\\TrainingSet\\\\labels\\\\hippocampus_248.nii.gz',\n",
       "        array([ 3, 36, 50, 38,  1,  1,  1,  1], dtype=int16)],\n",
       "       [3349, '..\\\\data\\\\TrainingSet\\\\labels\\\\hippocampus_249.nii.gz',\n",
       "        array([ 3, 32, 52, 34,  1,  1,  1,  1], dtype=int16)],\n",
       "       [3431, '..\\\\data\\\\TrainingSet\\\\labels\\\\hippocampus_250.nii.gz',\n",
       "        array([ 3, 35, 51, 36,  1,  1,  1,  1], dtype=int16)],\n",
       "       [3575, '..\\\\data\\\\TrainingSet\\\\labels\\\\hippocampus_251.nii.gz',\n",
       "        array([ 3, 36, 58, 28,  1,  1,  1,  1], dtype=int16)],\n",
       "       [3575, '..\\\\data\\\\TrainingSet\\\\labels\\\\hippocampus_252.nii.gz',\n",
       "        array([ 3, 37, 55, 26,  1,  1,  1,  1], dtype=int16)],\n",
       "       [3823, '..\\\\data\\\\TrainingSet\\\\labels\\\\hippocampus_253.nii.gz',\n",
       "        array([ 3, 34, 51, 31,  1,  1,  1,  1], dtype=int16)],\n",
       "       [2863, '..\\\\data\\\\TrainingSet\\\\labels\\\\hippocampus_257.nii.gz',\n",
       "        array([ 3, 34, 51, 33,  1,  1,  1,  1], dtype=int16)],\n",
       "       [2920, '..\\\\data\\\\TrainingSet\\\\labels\\\\hippocampus_259.nii.gz',\n",
       "        array([ 3, 33, 51, 28,  1,  1,  1,  1], dtype=int16)],\n",
       "       [3097, '..\\\\data\\\\TrainingSet\\\\labels\\\\hippocampus_260.nii.gz',\n",
       "        array([ 3, 35, 53, 29,  1,  1,  1,  1], dtype=int16)],\n",
       "       [4071, '..\\\\data\\\\TrainingSet\\\\labels\\\\hippocampus_261.nii.gz',\n",
       "        array([ 3, 36, 58, 33,  1,  1,  1,  1], dtype=int16)],\n",
       "       [3534, '..\\\\data\\\\TrainingSet\\\\labels\\\\hippocampus_263.nii.gz',\n",
       "        array([ 3, 36, 51, 35,  1,  1,  1,  1], dtype=int16)],\n",
       "       [3842, '..\\\\data\\\\TrainingSet\\\\labels\\\\hippocampus_264.nii.gz',\n",
       "        array([ 3, 38, 51, 37,  1,  1,  1,  1], dtype=int16)],\n",
       "       [3109, '..\\\\data\\\\TrainingSet\\\\labels\\\\hippocampus_265.nii.gz',\n",
       "        array([ 3, 31, 54, 34,  1,  1,  1,  1], dtype=int16)],\n",
       "       [3054, '..\\\\data\\\\TrainingSet\\\\labels\\\\hippocampus_268.nii.gz',\n",
       "        array([ 3, 34, 51, 37,  1,  1,  1,  1], dtype=int16)],\n",
       "       [3439, '..\\\\data\\\\TrainingSet\\\\labels\\\\hippocampus_269.nii.gz',\n",
       "        array([ 3, 35, 49, 37,  1,  1,  1,  1], dtype=int16)],\n",
       "       [3643, '..\\\\data\\\\TrainingSet\\\\labels\\\\hippocampus_276.nii.gz',\n",
       "        array([ 3, 35, 50, 33,  1,  1,  1,  1], dtype=int16)],\n",
       "       [3304, '..\\\\data\\\\TrainingSet\\\\labels\\\\hippocampus_277.nii.gz',\n",
       "        array([ 3, 33, 59, 29,  1,  1,  1,  1], dtype=int16)],\n",
       "       [3172, '..\\\\data\\\\TrainingSet\\\\labels\\\\hippocampus_286.nii.gz',\n",
       "        array([ 3, 37, 45, 46,  1,  1,  1,  1], dtype=int16)],\n",
       "       [3700, '..\\\\data\\\\TrainingSet\\\\labels\\\\hippocampus_287.nii.gz',\n",
       "        array([ 3, 37, 50, 39,  1,  1,  1,  1], dtype=int16)],\n",
       "       [3845, '..\\\\data\\\\TrainingSet\\\\labels\\\\hippocampus_288.nii.gz',\n",
       "        array([ 3, 38, 50, 42,  1,  1,  1,  1], dtype=int16)],\n",
       "       [3167, '..\\\\data\\\\TrainingSet\\\\labels\\\\hippocampus_290.nii.gz',\n",
       "        array([ 3, 35, 49, 40,  1,  1,  1,  1], dtype=int16)],\n",
       "       [3479, '..\\\\data\\\\TrainingSet\\\\labels\\\\hippocampus_292.nii.gz',\n",
       "        array([ 3, 38, 52, 33,  1,  1,  1,  1], dtype=int16)],\n",
       "       [3248, '..\\\\data\\\\TrainingSet\\\\labels\\\\hippocampus_294.nii.gz',\n",
       "        array([ 3, 35, 44, 44,  1,  1,  1,  1], dtype=int16)],\n",
       "       [3628, '..\\\\data\\\\TrainingSet\\\\labels\\\\hippocampus_295.nii.gz',\n",
       "        array([ 3, 35, 53, 36,  1,  1,  1,  1], dtype=int16)],\n",
       "       [3918, '..\\\\data\\\\TrainingSet\\\\labels\\\\hippocampus_296.nii.gz',\n",
       "        array([ 3, 35, 54, 35,  1,  1,  1,  1], dtype=int16)],\n",
       "       [2857, '..\\\\data\\\\TrainingSet\\\\labels\\\\hippocampus_298.nii.gz',\n",
       "        array([ 3, 37, 50, 33,  1,  1,  1,  1], dtype=int16)],\n",
       "       [3202, '..\\\\data\\\\TrainingSet\\\\labels\\\\hippocampus_299.nii.gz',\n",
       "        array([ 3, 32, 54, 34,  1,  1,  1,  1], dtype=int16)],\n",
       "       [3404, '..\\\\data\\\\TrainingSet\\\\labels\\\\hippocampus_300.nii.gz',\n",
       "        array([ 3, 34, 53, 35,  1,  1,  1,  1], dtype=int16)],\n",
       "       [3460, '..\\\\data\\\\TrainingSet\\\\labels\\\\hippocampus_301.nii.gz',\n",
       "        array([ 3, 31, 50, 36,  1,  1,  1,  1], dtype=int16)],\n",
       "       [3856, '..\\\\data\\\\TrainingSet\\\\labels\\\\hippocampus_302.nii.gz',\n",
       "        array([ 3, 35, 46, 39,  1,  1,  1,  1], dtype=int16)],\n",
       "       [3294, '..\\\\data\\\\TrainingSet\\\\labels\\\\hippocampus_303.nii.gz',\n",
       "        array([ 3, 35, 48, 38,  1,  1,  1,  1], dtype=int16)],\n",
       "       [3536, '..\\\\data\\\\TrainingSet\\\\labels\\\\hippocampus_304.nii.gz',\n",
       "        array([ 3, 36, 48, 38,  1,  1,  1,  1], dtype=int16)],\n",
       "       [3029, '..\\\\data\\\\TrainingSet\\\\labels\\\\hippocampus_305.nii.gz',\n",
       "        array([ 3, 34, 49, 30,  1,  1,  1,  1], dtype=int16)],\n",
       "       [3654, '..\\\\data\\\\TrainingSet\\\\labels\\\\hippocampus_308.nii.gz',\n",
       "        array([ 3, 38, 48, 40,  1,  1,  1,  1], dtype=int16)],\n",
       "       [3612, '..\\\\data\\\\TrainingSet\\\\labels\\\\hippocampus_309.nii.gz',\n",
       "        array([ 3, 34, 52, 38,  1,  1,  1,  1], dtype=int16)],\n",
       "       [3773, '..\\\\data\\\\TrainingSet\\\\labels\\\\hippocampus_310.nii.gz',\n",
       "        array([ 3, 35, 52, 38,  1,  1,  1,  1], dtype=int16)],\n",
       "       [3201, '..\\\\data\\\\TrainingSet\\\\labels\\\\hippocampus_311.nii.gz',\n",
       "        array([ 3, 37, 49, 37,  1,  1,  1,  1], dtype=int16)],\n",
       "       [2943, '..\\\\data\\\\TrainingSet\\\\labels\\\\hippocampus_314.nii.gz',\n",
       "        array([ 3, 37, 53, 33,  1,  1,  1,  1], dtype=int16)],\n",
       "       [3095, '..\\\\data\\\\TrainingSet\\\\labels\\\\hippocampus_316.nii.gz',\n",
       "        array([ 3, 37, 51, 33,  1,  1,  1,  1], dtype=int16)],\n",
       "       [3285, '..\\\\data\\\\TrainingSet\\\\labels\\\\hippocampus_317.nii.gz',\n",
       "        array([ 3, 33, 51, 34,  1,  1,  1,  1], dtype=int16)],\n",
       "       [3516, '..\\\\data\\\\TrainingSet\\\\labels\\\\hippocampus_318.nii.gz',\n",
       "        array([ 3, 37, 51, 33,  1,  1,  1,  1], dtype=int16)],\n",
       "       [2950, '..\\\\data\\\\TrainingSet\\\\labels\\\\hippocampus_321.nii.gz',\n",
       "        array([ 3, 34, 46, 34,  1,  1,  1,  1], dtype=int16)],\n",
       "       [3450, '..\\\\data\\\\TrainingSet\\\\labels\\\\hippocampus_322.nii.gz',\n",
       "        array([ 3, 38, 47, 37,  1,  1,  1,  1], dtype=int16)],\n",
       "       [3834, '..\\\\data\\\\TrainingSet\\\\labels\\\\hippocampus_325.nii.gz',\n",
       "        array([ 3, 35, 51, 40,  1,  1,  1,  1], dtype=int16)],\n",
       "       [3983, '..\\\\data\\\\TrainingSet\\\\labels\\\\hippocampus_326.nii.gz',\n",
       "        array([ 3, 36, 49, 41,  1,  1,  1,  1], dtype=int16)],\n",
       "       [3643, '..\\\\data\\\\TrainingSet\\\\labels\\\\hippocampus_327.nii.gz',\n",
       "        array([ 3, 36, 54, 27,  1,  1,  1,  1], dtype=int16)],\n",
       "       [3957, '..\\\\data\\\\TrainingSet\\\\labels\\\\hippocampus_328.nii.gz',\n",
       "        array([ 3, 38, 54, 30,  1,  1,  1,  1], dtype=int16)],\n",
       "       [3675, '..\\\\data\\\\TrainingSet\\\\labels\\\\hippocampus_329.nii.gz',\n",
       "        array([ 3, 34, 53, 32,  1,  1,  1,  1], dtype=int16)],\n",
       "       [3997, '..\\\\data\\\\TrainingSet\\\\labels\\\\hippocampus_330.nii.gz',\n",
       "        array([ 3, 35, 55, 33,  1,  1,  1,  1], dtype=int16)],\n",
       "       [3194, '..\\\\data\\\\TrainingSet\\\\labels\\\\hippocampus_331.nii.gz',\n",
       "        array([ 3, 35, 52, 33,  1,  1,  1,  1], dtype=int16)],\n",
       "       [3327, '..\\\\data\\\\TrainingSet\\\\labels\\\\hippocampus_332.nii.gz',\n",
       "        array([ 3, 35, 52, 33,  1,  1,  1,  1], dtype=int16)],\n",
       "       [3253, '..\\\\data\\\\TrainingSet\\\\labels\\\\hippocampus_337.nii.gz',\n",
       "        array([ 3, 33, 44, 41,  1,  1,  1,  1], dtype=int16)],\n",
       "       [3623, '..\\\\data\\\\TrainingSet\\\\labels\\\\hippocampus_338.nii.gz',\n",
       "        array([ 3, 37, 43, 43,  1,  1,  1,  1], dtype=int16)],\n",
       "       [3210, '..\\\\data\\\\TrainingSet\\\\labels\\\\hippocampus_340.nii.gz',\n",
       "        array([ 3, 35, 46, 38,  1,  1,  1,  1], dtype=int16)],\n",
       "       [2980, '..\\\\data\\\\TrainingSet\\\\labels\\\\hippocampus_345.nii.gz',\n",
       "        array([ 3, 32, 49, 30,  1,  1,  1,  1], dtype=int16)],\n",
       "       [2942, '..\\\\data\\\\TrainingSet\\\\labels\\\\hippocampus_350.nii.gz',\n",
       "        array([ 3, 35, 49, 34,  1,  1,  1,  1], dtype=int16)],\n",
       "       [3724, '..\\\\data\\\\TrainingSet\\\\labels\\\\hippocampus_351.nii.gz',\n",
       "        array([ 3, 35, 51, 35,  1,  1,  1,  1], dtype=int16)],\n",
       "       [3679, '..\\\\data\\\\TrainingSet\\\\labels\\\\hippocampus_352.nii.gz',\n",
       "        array([ 3, 38, 51, 35,  1,  1,  1,  1], dtype=int16)],\n",
       "       [2912, '..\\\\data\\\\TrainingSet\\\\labels\\\\hippocampus_354.nii.gz',\n",
       "        array([ 3, 36, 50, 32,  1,  1,  1,  1], dtype=int16)],\n",
       "       [3335, '..\\\\data\\\\TrainingSet\\\\labels\\\\hippocampus_355.nii.gz',\n",
       "        array([ 3, 33, 47, 38,  1,  1,  1,  1], dtype=int16)],\n",
       "       [3496, '..\\\\data\\\\TrainingSet\\\\labels\\\\hippocampus_356.nii.gz',\n",
       "        array([ 3, 36, 51, 37,  1,  1,  1,  1], dtype=int16)],\n",
       "       [2887, '..\\\\data\\\\TrainingSet\\\\labels\\\\hippocampus_358.nii.gz',\n",
       "        array([ 3, 35, 50, 34,  1,  1,  1,  1], dtype=int16)],\n",
       "       [2931, '..\\\\data\\\\TrainingSet\\\\labels\\\\hippocampus_360.nii.gz',\n",
       "        array([ 3, 34, 49, 37,  1,  1,  1,  1], dtype=int16)],\n",
       "       [3105, '..\\\\data\\\\TrainingSet\\\\labels\\\\hippocampus_361.nii.gz',\n",
       "        array([ 3, 36, 50, 33,  1,  1,  1,  1], dtype=int16)],\n",
       "       [3506, '..\\\\data\\\\TrainingSet\\\\labels\\\\hippocampus_363.nii.gz',\n",
       "        array([ 3, 38, 52, 35,  1,  1,  1,  1], dtype=int16)],\n",
       "       [3979, '..\\\\data\\\\TrainingSet\\\\labels\\\\hippocampus_366.nii.gz',\n",
       "        array([ 3, 37, 47, 34,  1,  1,  1,  1], dtype=int16)],\n",
       "       [4151, '..\\\\data\\\\TrainingSet\\\\labels\\\\hippocampus_367.nii.gz',\n",
       "        array([ 3, 36, 57, 37,  1,  1,  1,  1], dtype=int16)],\n",
       "       [4401, '..\\\\data\\\\TrainingSet\\\\labels\\\\hippocampus_368.nii.gz',\n",
       "        array([ 3, 38, 55, 40,  1,  1,  1,  1], dtype=int16)],\n",
       "       [3398, '..\\\\data\\\\TrainingSet\\\\labels\\\\hippocampus_370.nii.gz',\n",
       "        array([ 3, 35, 50, 36,  1,  1,  1,  1], dtype=int16)],\n",
       "       [3483, '..\\\\data\\\\TrainingSet\\\\labels\\\\hippocampus_372.nii.gz',\n",
       "        array([ 3, 36, 50, 34,  1,  1,  1,  1], dtype=int16)],\n",
       "       [3689, '..\\\\data\\\\TrainingSet\\\\labels\\\\hippocampus_373.nii.gz',\n",
       "        array([ 3, 34, 49, 35,  1,  1,  1,  1], dtype=int16)],\n",
       "       [3877, '..\\\\data\\\\TrainingSet\\\\labels\\\\hippocampus_374.nii.gz',\n",
       "        array([ 3, 38, 48, 39,  1,  1,  1,  1], dtype=int16)],\n",
       "       [3222, '..\\\\data\\\\TrainingSet\\\\labels\\\\hippocampus_375.nii.gz',\n",
       "        array([ 3, 32, 54, 34,  1,  1,  1,  1], dtype=int16)],\n",
       "       [3581, '..\\\\data\\\\TrainingSet\\\\labels\\\\hippocampus_376.nii.gz',\n",
       "        array([ 3, 35, 55, 37,  1,  1,  1,  1], dtype=int16)],\n",
       "       [3435, '..\\\\data\\\\TrainingSet\\\\labels\\\\hippocampus_380.nii.gz',\n",
       "        array([ 3, 35, 46, 42,  1,  1,  1,  1], dtype=int16)],\n",
       "       [3152, '..\\\\data\\\\TrainingSet\\\\labels\\\\hippocampus_381.nii.gz',\n",
       "        array([ 3, 33, 49, 37,  1,  1,  1,  1], dtype=int16)],\n",
       "       [3420, '..\\\\data\\\\TrainingSet\\\\labels\\\\hippocampus_383.nii.gz',\n",
       "        array([ 3, 33, 55, 29,  1,  1,  1,  1], dtype=int16)],\n",
       "       [3397, '..\\\\data\\\\TrainingSet\\\\labels\\\\hippocampus_385.nii.gz',\n",
       "        array([ 3, 35, 48, 40,  1,  1,  1,  1], dtype=int16)],\n",
       "       [3208, '..\\\\data\\\\TrainingSet\\\\labels\\\\hippocampus_386.nii.gz',\n",
       "        array([ 3, 37, 45, 40,  1,  1,  1,  1], dtype=int16)],\n",
       "       [3080, '..\\\\data\\\\TrainingSet\\\\labels\\\\hippocampus_387.nii.gz',\n",
       "        array([ 3, 33, 51, 32,  1,  1,  1,  1], dtype=int16)],\n",
       "       [2947, '..\\\\data\\\\TrainingSet\\\\labels\\\\hippocampus_389.nii.gz',\n",
       "        array([ 3, 34, 49, 32,  1,  1,  1,  1], dtype=int16)],\n",
       "       [3252, '..\\\\data\\\\TrainingSet\\\\labels\\\\hippocampus_390.nii.gz',\n",
       "        array([ 3, 38, 51, 33,  1,  1,  1,  1], dtype=int16)],\n",
       "       [3682, '..\\\\data\\\\TrainingSet\\\\labels\\\\hippocampus_393.nii.gz',\n",
       "        array([ 3, 36, 51, 31,  1,  1,  1,  1], dtype=int16)],\n",
       "       [3814, '..\\\\data\\\\TrainingSet\\\\labels\\\\hippocampus_394.nii.gz',\n",
       "        array([ 3, 36, 52, 32,  1,  1,  1,  1], dtype=int16)],\n",
       "       [2773, '..\\\\data\\\\TrainingSet\\\\labels\\\\hippocampus_057.nii.gz',\n",
       "        array([ 3, 35, 51, 34,  1,  1,  1,  1], dtype=int16)],\n",
       "       [2753, '..\\\\data\\\\TrainingSet\\\\labels\\\\hippocampus_097.nii.gz',\n",
       "        array([ 3, 37, 48, 34,  1,  1,  1,  1], dtype=int16)],\n",
       "       [2535, '..\\\\data\\\\TrainingSet\\\\labels\\\\hippocampus_099.nii.gz',\n",
       "        array([ 3, 33, 52, 27,  1,  1,  1,  1], dtype=int16)],\n",
       "       [2726, '..\\\\data\\\\TrainingSet\\\\labels\\\\hippocampus_125.nii.gz',\n",
       "        array([ 3, 43, 42, 39,  1,  1,  1,  1], dtype=int16)],\n",
       "       [2629, '..\\\\data\\\\TrainingSet\\\\labels\\\\hippocampus_135.nii.gz',\n",
       "        array([ 3, 32, 49, 38,  1,  1,  1,  1], dtype=int16)],\n",
       "       [2534, '..\\\\data\\\\TrainingSet\\\\labels\\\\hippocampus_138.nii.gz',\n",
       "        array([ 3, 32, 46, 42,  1,  1,  1,  1], dtype=int16)],\n",
       "       [2714, '..\\\\data\\\\TrainingSet\\\\labels\\\\hippocampus_141.nii.gz',\n",
       "        array([ 3, 33, 44, 42,  1,  1,  1,  1], dtype=int16)],\n",
       "       [2697, '..\\\\data\\\\TrainingSet\\\\labels\\\\hippocampus_142.nii.gz',\n",
       "        array([ 3, 38, 43, 41,  1,  1,  1,  1], dtype=int16)],\n",
       "       [2397, '..\\\\data\\\\TrainingSet\\\\labels\\\\hippocampus_143.nii.gz',\n",
       "        array([ 3, 32, 45, 41,  1,  1,  1,  1], dtype=int16)],\n",
       "       [2471, '..\\\\data\\\\TrainingSet\\\\labels\\\\hippocampus_144.nii.gz',\n",
       "        array([ 3, 34, 45, 43,  1,  1,  1,  1], dtype=int16)],\n",
       "       [2739, '..\\\\data\\\\TrainingSet\\\\labels\\\\hippocampus_175.nii.gz',\n",
       "        array([ 3, 33, 47, 35,  1,  1,  1,  1], dtype=int16)],\n",
       "       [2593, '..\\\\data\\\\TrainingSet\\\\labels\\\\hippocampus_177.nii.gz',\n",
       "        array([ 3, 33, 44, 40,  1,  1,  1,  1], dtype=int16)],\n",
       "       [2714, '..\\\\data\\\\TrainingSet\\\\labels\\\\hippocampus_178.nii.gz',\n",
       "        array([ 3, 35, 44, 41,  1,  1,  1,  1], dtype=int16)],\n",
       "       [2678, '..\\\\data\\\\TrainingSet\\\\labels\\\\hippocampus_180.nii.gz',\n",
       "        array([ 3, 37, 45, 36,  1,  1,  1,  1], dtype=int16)],\n",
       "       [2708, '..\\\\data\\\\TrainingSet\\\\labels\\\\hippocampus_193.nii.gz',\n",
       "        array([ 3, 33, 50, 29,  1,  1,  1,  1], dtype=int16)],\n",
       "       [2570, '..\\\\data\\\\TrainingSet\\\\labels\\\\hippocampus_199.nii.gz',\n",
       "        array([ 3, 37, 52, 26,  1,  1,  1,  1], dtype=int16)],\n",
       "       [2704, '..\\\\data\\\\TrainingSet\\\\labels\\\\hippocampus_205.nii.gz',\n",
       "        array([ 3, 32, 47, 32,  1,  1,  1,  1], dtype=int16)],\n",
       "       [2448, '..\\\\data\\\\TrainingSet\\\\labels\\\\hippocampus_221.nii.gz',\n",
       "        array([ 3, 32, 48, 34,  1,  1,  1,  1], dtype=int16)],\n",
       "       [2684, '..\\\\data\\\\TrainingSet\\\\labels\\\\hippocampus_222.nii.gz',\n",
       "        array([ 3, 34, 49, 36,  1,  1,  1,  1], dtype=int16)],\n",
       "       [2475, '..\\\\data\\\\TrainingSet\\\\labels\\\\hippocampus_225.nii.gz',\n",
       "        array([ 3, 33, 53, 26,  1,  1,  1,  1], dtype=int16)],\n",
       "       [2546, '..\\\\data\\\\TrainingSet\\\\labels\\\\hippocampus_226.nii.gz',\n",
       "        array([ 3, 32, 51, 28,  1,  1,  1,  1], dtype=int16)],\n",
       "       [2647, '..\\\\data\\\\TrainingSet\\\\labels\\\\hippocampus_231.nii.gz',\n",
       "        array([ 3, 33, 47, 42,  1,  1,  1,  1], dtype=int16)],\n",
       "       [2665, '..\\\\data\\\\TrainingSet\\\\labels\\\\hippocampus_274.nii.gz',\n",
       "        array([ 3, 35, 40, 40,  1,  1,  1,  1], dtype=int16)],\n",
       "       [2382, '..\\\\data\\\\TrainingSet\\\\labels\\\\hippocampus_279.nii.gz',\n",
       "        array([ 3, 34, 50, 32,  1,  1,  1,  1], dtype=int16)],\n",
       "       [2613, '..\\\\data\\\\TrainingSet\\\\labels\\\\hippocampus_280.nii.gz',\n",
       "        array([ 3, 37, 47, 32,  1,  1,  1,  1], dtype=int16)],\n",
       "       [2416, '..\\\\data\\\\TrainingSet\\\\labels\\\\hippocampus_282.nii.gz',\n",
       "        array([ 3, 37, 52, 32,  1,  1,  1,  1], dtype=int16)],\n",
       "       [2738, '..\\\\data\\\\TrainingSet\\\\labels\\\\hippocampus_289.nii.gz',\n",
       "        array([ 3, 35, 49, 36,  1,  1,  1,  1], dtype=int16)],\n",
       "       [2786, '..\\\\data\\\\TrainingSet\\\\labels\\\\hippocampus_297.nii.gz',\n",
       "        array([ 3, 34, 51, 30,  1,  1,  1,  1], dtype=int16)],\n",
       "       [2422, '..\\\\data\\\\TrainingSet\\\\labels\\\\hippocampus_319.nii.gz',\n",
       "        array([ 3, 33, 48, 34,  1,  1,  1,  1], dtype=int16)],\n",
       "       [2451, '..\\\\data\\\\TrainingSet\\\\labels\\\\hippocampus_320.nii.gz',\n",
       "        array([ 3, 33, 47, 34,  1,  1,  1,  1], dtype=int16)],\n",
       "       [2635, '..\\\\data\\\\TrainingSet\\\\labels\\\\hippocampus_333.nii.gz',\n",
       "        array([ 3, 33, 46, 38,  1,  1,  1,  1], dtype=int16)],\n",
       "       [2678, '..\\\\data\\\\TrainingSet\\\\labels\\\\hippocampus_334.nii.gz',\n",
       "        array([ 3, 34, 47, 36,  1,  1,  1,  1], dtype=int16)],\n",
       "       [2532, '..\\\\data\\\\TrainingSet\\\\labels\\\\hippocampus_335.nii.gz',\n",
       "        array([ 3, 32, 47, 41,  1,  1,  1,  1], dtype=int16)],\n",
       "       [2593, '..\\\\data\\\\TrainingSet\\\\labels\\\\hippocampus_336.nii.gz',\n",
       "        array([ 3, 34, 47, 43,  1,  1,  1,  1], dtype=int16)],\n",
       "       [2588, '..\\\\data\\\\TrainingSet\\\\labels\\\\hippocampus_341.nii.gz',\n",
       "        array([ 3, 34, 48, 35,  1,  1,  1,  1], dtype=int16)],\n",
       "       [2618, '..\\\\data\\\\TrainingSet\\\\labels\\\\hippocampus_343.nii.gz',\n",
       "        array([ 3, 32, 45, 38,  1,  1,  1,  1], dtype=int16)],\n",
       "       [2590, '..\\\\data\\\\TrainingSet\\\\labels\\\\hippocampus_349.nii.gz',\n",
       "        array([ 3, 34, 50, 34,  1,  1,  1,  1], dtype=int16)],\n",
       "       [2755, '..\\\\data\\\\TrainingSet\\\\labels\\\\hippocampus_353.nii.gz',\n",
       "        array([ 3, 32, 51, 31,  1,  1,  1,  1], dtype=int16)],\n",
       "       [2634, '..\\\\data\\\\TrainingSet\\\\labels\\\\hippocampus_359.nii.gz',\n",
       "        array([ 3, 35, 49, 35,  1,  1,  1,  1], dtype=int16)],\n",
       "       [2757, '..\\\\data\\\\TrainingSet\\\\labels\\\\hippocampus_378.nii.gz',\n",
       "        array([ 3, 35, 52, 34,  1,  1,  1,  1], dtype=int16)]],\n",
       "      dtype=object)"
      ]
     },
     "execution_count": 263,
     "metadata": {},
     "output_type": "execute_result"
    }
   ],
   "source": [
    "no_outlier2"
   ]
  },
  {
   "cell_type": "code",
   "execution_count": 223,
   "metadata": {},
   "outputs": [],
   "source": [
    "difference = []\n",
    "no_outlier2[0][1]\n",
    "for i in no_outlier2:\n",
    "    fN = os.path.split(i[1])[1]\n",
    "    delta = nib.load(os.path.join(path, 'labels', fN)).header['dim'] - nib.load(os.path.join(path, 'images', fN)).header['dim']\n",
    "    difference.append([fN, delta])"
   ]
  },
  {
   "cell_type": "code",
   "execution_count": 224,
   "metadata": {},
   "outputs": [
    {
     "name": "stdout",
     "output_type": "stream",
     "text": [
      "['hippocampus_010.nii.gz'\n",
      " array([   0, -476, -462, -210,    0,    0,    0,    0], dtype=int16)]\n"
     ]
    }
   ],
   "source": [
    "for i in np.array(difference):\n",
    "    if np.sum(np.abs(i[1])) != 0:\n",
    "        print(i)"
   ]
  },
  {
   "cell_type": "markdown",
   "metadata": {},
   "source": [
    "Found a second outlier!\n",
    "NIFTI file 'hippocampus_010.nii.gz' has a mismatch in the dimensions of its mask and its image."
   ]
  },
  {
   "cell_type": "code",
   "execution_count": 256,
   "metadata": {},
   "outputs": [
    {
     "data": {
      "text/plain": [
       "<matplotlib.image.AxesImage at 0x218aebe7748>"
      ]
     },
     "execution_count": 256,
     "metadata": {},
     "output_type": "execute_result"
    },
    {
     "data": {
      "image/png": "[encoded data removed]",
      "text/plain": [
       "<Figure size 720x720 with 2 Axes>"
      ]
     },
     "metadata": {
      "needs_background": "light"
     },
     "output_type": "display_data"
    }
   ],
   "source": [
    "plt.subplots(1,2)\n",
    "plt.subplot(1,2,1)\n",
    "plt.imshow(nib.load(os.path.join(path, 'images', 'hippocampus_010.nii.gz')).get_fdata()[16,:,:])\n",
    "plt.title('Image')\n",
    "plt.subplot(1,2,2)\n",
    "plt.title('Label')\n",
    "plt.imshow(nib.load(os.path.join(path, 'labels', 'hippocampus_010.nii.gz')).get_fdata()[16,:,:])"
   ]
  },
  {
   "cell_type": "markdown",
   "metadata": {},
   "source": [
    "The Image looks odd and doesn't match the label.  The label may represent a Hippocampus, but it has no corresponding image to train to.  Hence this file must be dropped 'hippocampus_010.nii.gz'"
   ]
  },
  {
   "cell_type": "code",
   "execution_count": 258,
   "metadata": {},
   "outputs": [],
   "source": [
    "no_outlier2 = no_outlier2[no_outlier2[:,1]!=os.path.join(path, 'labels', 'hippocampus_010.nii.gz')]"
   ]
  },
  {
   "cell_type": "code",
   "execution_count": 259,
   "metadata": {},
   "outputs": [
    {
     "data": {
      "text/plain": [
       "(260, 3)"
      ]
     },
     "execution_count": 259,
     "metadata": {},
     "output_type": "execute_result"
    }
   ],
   "source": [
    "no_outlier2.shape"
   ]
  },
  {
   "cell_type": "code",
   "execution_count": 260,
   "metadata": {},
   "outputs": [
    {
     "data": {
      "text/plain": [
       "array([False, False, False, False, False, False, False, False, False,\n",
       "       False, False, False, False, False, False, False, False, False,\n",
       "       False, False, False, False, False, False, False, False, False,\n",
       "       False, False, False, False, False, False, False, False, False,\n",
       "       False, False, False, False, False, False, False, False, False,\n",
       "       False, False, False, False, False, False, False, False, False,\n",
       "       False, False, False, False, False, False, False, False, False,\n",
       "       False, False, False, False, False, False, False, False, False,\n",
       "       False, False, False, False, False, False, False, False, False,\n",
       "       False, False, False, False, False, False, False, False, False,\n",
       "       False, False, False, False, False, False, False, False, False,\n",
       "       False, False, False, False, False, False, False, False, False,\n",
       "       False, False, False, False, False, False, False, False, False,\n",
       "       False, False, False, False, False, False, False, False, False,\n",
       "       False, False, False, False, False, False, False, False, False,\n",
       "       False, False, False, False, False, False, False, False, False,\n",
       "       False, False, False, False, False, False, False, False, False,\n",
       "       False, False, False, False, False, False, False, False, False,\n",
       "       False, False, False, False, False, False, False, False, False,\n",
       "       False, False, False, False, False, False, False, False, False,\n",
       "       False, False, False, False, False, False, False, False, False,\n",
       "       False, False, False, False, False, False, False, False, False,\n",
       "       False, False, False, False, False, False, False, False, False,\n",
       "       False, False, False, False, False, False, False, False, False,\n",
       "       False, False, False, False, False, False, False, False, False,\n",
       "       False, False, False, False, False, False, False, False, False,\n",
       "       False, False, False, False, False, False, False, False, False,\n",
       "       False, False, False, False, False, False, False, False, False,\n",
       "       False, False, False, False, False, False, False, False])"
      ]
     },
     "execution_count": 260,
     "metadata": {},
     "output_type": "execute_result"
    }
   ],
   "source": [
    "no_outlier2[:,1] == os.path.join(path, 'labels', 'hippocampus_010.nii.gz')"
   ]
  },
  {
   "cell_type": "markdown",
   "metadata": {},
   "source": [
    "## Identified outlier files: hippocampus_010.nii.gz and hippocampus_281.nii.gz"
   ]
  },
  {
   "cell_type": "markdown",
   "metadata": {},
   "source": [
    "In the real world we would have precise information about the ages and conditions of our patients, and understanding how our dataset measures against population norm would be the integral part of clinical validation that we talked about in last lesson. Unfortunately, we do not have this information about this dataset, so we can only guess why it measures the way it is. If you would like to explore further, you can use the [calculator from HippoFit project](http://www.smanohar.com/biobank/calculator.html) to see how our dataset compares against different population slices"
   ]
  },
  {
   "cell_type": "markdown",
   "metadata": {},
   "source": [
    "Did you notice anything odd about the label files? We hope you did! The mask seems to have two classes, labeled with values `1` and `2` respectively. If you visualized sagittal or axial views, you might have gotten a good guess of what those are. Class 1 is the anterior segment of the hippocampus and class 2 is the posterior one. \n",
    "\n",
    "For the purpose of volume calculation we do not care about the distinction, however we will still train our network to differentiate between these two classes and the background"
   ]
  },
  {
   "cell_type": "code",
   "execution_count": 268,
   "metadata": {},
   "outputs": [
    {
     "name": "stdout",
     "output_type": "stream",
     "text": [
      "Number of NIFTI files copied: 260\n"
     ]
    }
   ],
   "source": [
    "# TASK: Copy the clean dataset to the output folder inside section1/out. You will use it in the next Section\n",
    "count=0\n",
    "for f in no_outlier2:\n",
    "    count += 1\n",
    "    fn = os.path.split(f[1])[1]\n",
    "    shutil.copy(f[1], os.path.join('out', 'labels', fn))\n",
    "    shutil.copy(os.path.join(path, 'images', fn), os.path.join('out', 'images', fn))\n",
    "print(f'Number of NIFTI files copied: {count}')"
   ]
  },
  {
   "cell_type": "markdown",
   "metadata": {},
   "source": [
    "## Final remarks\n",
    "\n",
    "Congratulations! You have finished Section 1. \n",
    "\n",
    "In this section you have inspected a dataset of MRI scans and related segmentations, represented as NIFTI files. We have visualized some slices, and understood the layout of the data. We have inspected file headers to understand what how the image dimensions relate to the physical world and we have understood how to measure our volume. We have then inspected dataset for outliers, and have created a clean set that is ready for consumption by our ML algorithm. \n",
    "\n",
    "In the next section you will create training and testing pipelines for a UNet-based machine learning model, run and monitor the execution, and will produce test metrics. This will arm you with all you need to use the model in the clinical context and reason about its performance!"
   ]
  }
 ],
 "metadata": {
  "kernelspec": {
   "display_name": "Python 3",
   "language": "python",
   "name": "python3"
  },
  "language_info": {
   "codemirror_mode": {
    "name": "ipython",
    "version": 3
   },
   "file_extension": ".py",
   "mimetype": "text/x-python",
   "name": "python",
   "nbconvert_exporter": "python",
   "pygments_lexer": "ipython3",
   "version": "3.7.6"
  }
 },
 "nbformat": 4,
 "nbformat_minor": 2
}
